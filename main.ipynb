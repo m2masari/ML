{
 "cells": [
  {
   "cell_type": "markdown",
   "metadata": {},
   "source": [
    "# Imports"
   ]
  },
  {
   "cell_type": "markdown",
   "metadata": {},
   "source": [
    "## Modules"
   ]
  },
  {
   "cell_type": "code",
   "execution_count": 1,
   "metadata": {},
   "outputs": [],
   "source": [
    "import pandas as pd\n",
    "import numpy as np\n",
    "\n",
    "import matplotlib.pyplot as plt\n",
    "import seaborn as sns\n",
    "sns.set()\n",
    "\n",
    "from sklearn.model_selection import train_test_split, GridSearchCV\n",
    "from sklearn.metrics import mean_squared_error\n",
    "from sklearn.ensemble import RandomForestRegressor\n",
    "from sklearn.linear_model import LinearRegression\n",
    "from sklearn.neural_network import MLPRegressor"
   ]
  },
  {
   "cell_type": "markdown",
   "metadata": {},
   "source": [
    "## Data"
   ]
  },
  {
   "cell_type": "code",
   "execution_count": 2,
   "metadata": {},
   "outputs": [
    {
     "data": {
      "text/html": [
       "<div>\n",
       "<style scoped>\n",
       "    .dataframe tbody tr th:only-of-type {\n",
       "        vertical-align: middle;\n",
       "    }\n",
       "\n",
       "    .dataframe tbody tr th {\n",
       "        vertical-align: top;\n",
       "    }\n",
       "\n",
       "    .dataframe thead th {\n",
       "        text-align: right;\n",
       "    }\n",
       "</style>\n",
       "<table border=\"1\" class=\"dataframe\">\n",
       "  <thead>\n",
       "    <tr style=\"text-align: right;\">\n",
       "      <th></th>\n",
       "      <th>row_num</th>\n",
       "      <th>locale</th>\n",
       "      <th>day_of_week</th>\n",
       "      <th>hour_of_day</th>\n",
       "      <th>agent_id</th>\n",
       "      <th>entry_page</th>\n",
       "      <th>path_id_set</th>\n",
       "      <th>traffic_type</th>\n",
       "      <th>session_durantion</th>\n",
       "      <th>hits</th>\n",
       "    </tr>\n",
       "  </thead>\n",
       "  <tbody>\n",
       "    <tr>\n",
       "      <th>0</th>\n",
       "      <td>988681</td>\n",
       "      <td>L6</td>\n",
       "      <td>Monday</td>\n",
       "      <td>17</td>\n",
       "      <td>1</td>\n",
       "      <td>2111</td>\n",
       "      <td>31672;0</td>\n",
       "      <td>6</td>\n",
       "      <td>7037</td>\n",
       "      <td>\\N</td>\n",
       "    </tr>\n",
       "    <tr>\n",
       "      <th>1</th>\n",
       "      <td>988680</td>\n",
       "      <td>L2</td>\n",
       "      <td>Thursday</td>\n",
       "      <td>22</td>\n",
       "      <td>10</td>\n",
       "      <td>2113</td>\n",
       "      <td>31965;0</td>\n",
       "      <td>2</td>\n",
       "      <td>49</td>\n",
       "      <td>14</td>\n",
       "    </tr>\n",
       "    <tr>\n",
       "      <th>2</th>\n",
       "      <td>988679</td>\n",
       "      <td>L4</td>\n",
       "      <td>Saturday</td>\n",
       "      <td>21</td>\n",
       "      <td>2</td>\n",
       "      <td>2100</td>\n",
       "      <td>0;78464</td>\n",
       "      <td>1</td>\n",
       "      <td>1892</td>\n",
       "      <td>14</td>\n",
       "    </tr>\n",
       "    <tr>\n",
       "      <th>3</th>\n",
       "      <td>988678</td>\n",
       "      <td>L3</td>\n",
       "      <td>Saturday</td>\n",
       "      <td>19</td>\n",
       "      <td>8</td>\n",
       "      <td>2113</td>\n",
       "      <td>51462</td>\n",
       "      <td>6</td>\n",
       "      <td>0</td>\n",
       "      <td>1</td>\n",
       "    </tr>\n",
       "    <tr>\n",
       "      <th>4</th>\n",
       "      <td>988677</td>\n",
       "      <td>L2</td>\n",
       "      <td>Tuesday</td>\n",
       "      <td>6</td>\n",
       "      <td>10</td>\n",
       "      <td>2116</td>\n",
       "      <td>31931;0</td>\n",
       "      <td>1</td>\n",
       "      <td>2</td>\n",
       "      <td>3</td>\n",
       "    </tr>\n",
       "  </tbody>\n",
       "</table>\n",
       "</div>"
      ],
      "text/plain": [
       "   row_num locale day_of_week  hour_of_day  agent_id  entry_page path_id_set  \\\n",
       "0   988681     L6      Monday           17         1        2111     31672;0   \n",
       "1   988680     L2    Thursday           22        10        2113     31965;0   \n",
       "2   988679     L4    Saturday           21         2        2100     0;78464   \n",
       "3   988678     L3    Saturday           19         8        2113       51462   \n",
       "4   988677     L2     Tuesday            6        10        2116     31931;0   \n",
       "\n",
       "   traffic_type session_durantion hits  \n",
       "0             6              7037   \\N  \n",
       "1             2                49   14  \n",
       "2             1              1892   14  \n",
       "3             6                 0    1  \n",
       "4             1                 2    3  "
      ]
     },
     "execution_count": 2,
     "metadata": {},
     "output_type": "execute_result"
    }
   ],
   "source": [
    "data = pd.read_csv('Data.csv', sep=';')\n",
    "data.head()"
   ]
  },
  {
   "cell_type": "markdown",
   "metadata": {},
   "source": [
    "## Data analysis"
   ]
  },
  {
   "cell_type": "markdown",
   "metadata": {},
   "source": [
    "We check for null values to know the dataset better.<br>"
   ]
  },
  {
   "cell_type": "code",
   "execution_count": 3,
   "metadata": {},
   "outputs": [
    {
     "data": {
      "text/plain": [
       "row_num                 0\n",
       "locale                  0\n",
       "day_of_week             0\n",
       "hour_of_day             0\n",
       "agent_id                0\n",
       "entry_page              0\n",
       "path_id_set          4889\n",
       "traffic_type            0\n",
       "session_durantion       0\n",
       "hits                    0\n",
       "dtype: int64"
      ]
     },
     "execution_count": 3,
     "metadata": {},
     "output_type": "execute_result"
    }
   ],
   "source": [
    "data.isnull().sum(axis=0)"
   ]
  },
  {
   "cell_type": "markdown",
   "metadata": {},
   "source": [
    "We find out that 'path_id_set' has null values. But we also found out that 'session_durantion' and 'hits' contain '\\N' values, so we take care of it."
   ]
  },
  {
   "cell_type": "code",
   "execution_count": 4,
   "metadata": {},
   "outputs": [],
   "source": [
    "# set proper datatypes\n",
    "data['row_num'] = data['row_num'].astype(np.int)\n",
    "data['locale'] = data['locale'].astype(str)\n",
    "data['day_of_week'] = data['day_of_week'].astype(str)\n",
    "data['hour_of_day'] = data['hour_of_day'].astype(np.int)\n",
    "data['agent_id'] = data['agent_id'].astype(np.int)\n",
    "data['entry_page'] = data['entry_page'].astype(np.int)\n",
    "data.loc[data['path_id_set'].notnull(), 'path_id_set'] = data.loc[data['path_id_set'].notnull(), 'path_id_set'].astype(str)\n",
    "data['traffic_type'] = data['traffic_type'].astype(str)\n",
    "\n",
    "# 'session_durantion' and 'hits' contain '\\N' values\n",
    "# we will replace it with 0 for 'session_durantion' and NULL for 'hits'\n",
    "data['session_durantion'] = pd.to_numeric(data['session_durantion'], errors='coerce')\n",
    "data['session_durantion'] = data['session_durantion'].fillna(0)\n",
    "data['hits'] = pd.to_numeric(data['hits'], errors='coerce')"
   ]
  },
  {
   "cell_type": "markdown",
   "metadata": {},
   "source": [
    "## Values of the main features"
   ]
  },
  {
   "cell_type": "markdown",
   "metadata": {},
   "source": [
    "We get through each column to see, which values it contains to have an idea about how to treat them in the model."
   ]
  },
  {
   "cell_type": "markdown",
   "metadata": {},
   "source": [
    "### The platform of the session"
   ]
  },
  {
   "cell_type": "code",
   "execution_count": 5,
   "metadata": {},
   "outputs": [
    {
     "data": {
      "image/png": "[encoded data removed]",
      "text/plain": [
       "<Figure size 432x288 with 1 Axes>"
      ]
     },
     "metadata": {
      "needs_background": "light"
     },
     "output_type": "display_data"
    }
   ],
   "source": [
    "locales = data['locale'].value_counts().sort_index()\n",
    "\n",
    "# show plot\n",
    "plt.bar(locales.index, locales.values)\n",
    "plt.show()"
   ]
  },
  {
   "cell_type": "markdown",
   "metadata": {},
   "source": [
    "There are 6 platforms of the session and we will treat them as categorical variable."
   ]
  },
  {
   "cell_type": "markdown",
   "metadata": {},
   "source": [
    "### The day of the week of the session"
   ]
  },
  {
   "cell_type": "code",
   "execution_count": 6,
   "metadata": {},
   "outputs": [
    {
     "data": {
      "image/png": "[encoded data removed]",
      "text/plain": [
       "<Figure size 432x288 with 1 Axes>"
      ]
     },
     "metadata": {
      "needs_background": "light"
     },
     "output_type": "display_data"
    }
   ],
   "source": [
    "day_of_week = data['day_of_week'].value_counts()[['Monday', 'Tuesday', 'Wednesday', 'Thursday', 'Friday', 'Saturday', 'Sunday']]\n",
    "\n",
    "# show plot\n",
    "labels = [day[:3] for day in day_of_week.index] # display just first 3 characters of the day of the week\n",
    "plt.bar(labels, day_of_week.values)\n",
    "plt.show()"
   ]
  },
  {
   "cell_type": "markdown",
   "metadata": {},
   "source": [
    "There are also 7 days of the week of the session. We will also treat it as a categorical variable."
   ]
  },
  {
   "cell_type": "markdown",
   "metadata": {},
   "source": [
    "### The hour of the day of the session"
   ]
  },
  {
   "cell_type": "code",
   "execution_count": 7,
   "metadata": {},
   "outputs": [
    {
     "data": {
      "image/png": "[encoded data removed]",
      "text/plain": [
       "<Figure size 432x288 with 1 Axes>"
      ]
     },
     "metadata": {
      "needs_background": "light"
     },
     "output_type": "display_data"
    }
   ],
   "source": [
    "hour_of_day = data['hour_of_day'].value_counts().sort_index()\n",
    "\n",
    "# show plot\n",
    "plt.bar(hour_of_day.index, hour_of_day.values)\n",
    "plt.xticks(np.arange(24)) # set x ticks to be for each hour: np.arange(24) = [1,2,3,..,23]\n",
    "plt.show()"
   ]
  },
  {
   "cell_type": "markdown",
   "metadata": {},
   "source": [
    "There are 24 hours. They can be treated as categorical values and as continious values. We will perform one-hot-encoding (will be explained futher) for categorical variables later. But we will treat this variable as continous to keep the dimensionality of the dataset smaller."
   ]
  },
  {
   "cell_type": "markdown",
   "metadata": {},
   "source": [
    "### The device used for the session"
   ]
  },
  {
   "cell_type": "code",
   "execution_count": 8,
   "metadata": {},
   "outputs": [
    {
     "data": {
      "image/png": "[encoded data removed]",
      "text/plain": [
       "<Figure size 432x288 with 1 Axes>"
      ]
     },
     "metadata": {
      "needs_background": "light"
     },
     "output_type": "display_data"
    }
   ],
   "source": [
    "agent_id = data['agent_id'].value_counts().sort_index()\n",
    "\n",
    "# show plot\n",
    "plt.bar(agent_id.index, agent_id.values)\n",
    "plt.show()"
   ]
  },
  {
   "cell_type": "markdown",
   "metadata": {},
   "source": [
    "There are 16 devices used for the session. We will treat this variable as categorical."
   ]
  },
  {
   "cell_type": "markdown",
   "metadata": {},
   "source": [
    "### Entry page"
   ]
  },
  {
   "cell_type": "markdown",
   "metadata": {},
   "source": [
    "There are 147 entry pages in total. We will keep the most frequent entry pages (min. 2000 records to keep the page)."
   ]
  },
  {
   "cell_type": "code",
   "execution_count": 9,
   "metadata": {},
   "outputs": [
    {
     "name": "stdout",
     "output_type": "stream",
     "text": [
      "2100    178912\n",
      "2111     83687\n",
      "2113    333163\n",
      "2114     74050\n",
      "2115     16733\n",
      "2116    195904\n",
      "2226      9840\n",
      "2227      3024\n",
      "2316      3332\n",
      "2700     58330\n",
      "8001     16309\n",
      "Name: entry_page, dtype: int64\n"
     ]
    }
   ],
   "source": [
    "entry_page = data['entry_page'].value_counts().sort_index()\n",
    "print(entry_page[entry_page > 2000])"
   ]
  },
  {
   "cell_type": "code",
   "execution_count": 10,
   "metadata": {},
   "outputs": [],
   "source": [
    "keep_entry_pages = entry_page[entry_page > 2000].index\n",
    "data.loc[data['entry_page'].isin(keep_entry_pages) == False, 'entry_page'] = -1"
   ]
  },
  {
   "cell_type": "markdown",
   "metadata": {},
   "source": [
    "There are 11 entry pages, which have more than 2000 records, so we will keep them and treat as categories. All the others will belong to category '-1'."
   ]
  },
  {
   "cell_type": "markdown",
   "metadata": {},
   "source": [
    "## Locations"
   ]
  },
  {
   "cell_type": "markdown",
   "metadata": {},
   "source": [
    "We also have the information about all the locations, which were visited during the session. There would be too many categories, if we treated this data as categorical, which we cannot afford. But this data can still be useful for us. We can create a new variable, which will stand for number of pages visited during the session and named 'n_pages_visited'."
   ]
  },
  {
   "cell_type": "code",
   "execution_count": 11,
   "metadata": {},
   "outputs": [],
   "source": [
    "data.loc[data['path_id_set'].notnull(), 'n_pages_visited'] = \\\n",
    "    data.loc[data['path_id_set'].notnull(), 'path_id_set'].apply(lambda x: len(x.split(';')))\n",
    "\n",
    "data.loc[data['path_id_set'].isnull() & (data['session_durantion'] > 0), 'n_pages_visited'] = 1\n",
    "data.loc[data['path_id_set'].isnull() & (data['session_durantion'] == 0), 'n_pages_visited'] = 0"
   ]
  },
  {
   "cell_type": "code",
   "execution_count": 12,
   "metadata": {},
   "outputs": [
    {
     "data": {
      "text/html": [
       "<div>\n",
       "<style scoped>\n",
       "    .dataframe tbody tr th:only-of-type {\n",
       "        vertical-align: middle;\n",
       "    }\n",
       "\n",
       "    .dataframe tbody tr th {\n",
       "        vertical-align: top;\n",
       "    }\n",
       "\n",
       "    .dataframe thead th {\n",
       "        text-align: right;\n",
       "    }\n",
       "</style>\n",
       "<table border=\"1\" class=\"dataframe\">\n",
       "  <thead>\n",
       "    <tr style=\"text-align: right;\">\n",
       "      <th></th>\n",
       "      <th>row_num</th>\n",
       "      <th>locale</th>\n",
       "      <th>day_of_week</th>\n",
       "      <th>hour_of_day</th>\n",
       "      <th>agent_id</th>\n",
       "      <th>entry_page</th>\n",
       "      <th>path_id_set</th>\n",
       "      <th>traffic_type</th>\n",
       "      <th>session_durantion</th>\n",
       "      <th>hits</th>\n",
       "      <th>n_pages_visited</th>\n",
       "    </tr>\n",
       "  </thead>\n",
       "  <tbody>\n",
       "    <tr>\n",
       "      <th>0</th>\n",
       "      <td>988681</td>\n",
       "      <td>L6</td>\n",
       "      <td>Monday</td>\n",
       "      <td>17</td>\n",
       "      <td>1</td>\n",
       "      <td>2111</td>\n",
       "      <td>31672;0</td>\n",
       "      <td>6</td>\n",
       "      <td>7037.0</td>\n",
       "      <td>NaN</td>\n",
       "      <td>2.0</td>\n",
       "    </tr>\n",
       "    <tr>\n",
       "      <th>1</th>\n",
       "      <td>988680</td>\n",
       "      <td>L2</td>\n",
       "      <td>Thursday</td>\n",
       "      <td>22</td>\n",
       "      <td>10</td>\n",
       "      <td>2113</td>\n",
       "      <td>31965;0</td>\n",
       "      <td>2</td>\n",
       "      <td>49.0</td>\n",
       "      <td>14.0</td>\n",
       "      <td>2.0</td>\n",
       "    </tr>\n",
       "    <tr>\n",
       "      <th>2</th>\n",
       "      <td>988679</td>\n",
       "      <td>L4</td>\n",
       "      <td>Saturday</td>\n",
       "      <td>21</td>\n",
       "      <td>2</td>\n",
       "      <td>2100</td>\n",
       "      <td>0;78464</td>\n",
       "      <td>1</td>\n",
       "      <td>1892.0</td>\n",
       "      <td>14.0</td>\n",
       "      <td>2.0</td>\n",
       "    </tr>\n",
       "    <tr>\n",
       "      <th>3</th>\n",
       "      <td>988678</td>\n",
       "      <td>L3</td>\n",
       "      <td>Saturday</td>\n",
       "      <td>19</td>\n",
       "      <td>8</td>\n",
       "      <td>2113</td>\n",
       "      <td>51462</td>\n",
       "      <td>6</td>\n",
       "      <td>0.0</td>\n",
       "      <td>1.0</td>\n",
       "      <td>1.0</td>\n",
       "    </tr>\n",
       "    <tr>\n",
       "      <th>4</th>\n",
       "      <td>988677</td>\n",
       "      <td>L2</td>\n",
       "      <td>Tuesday</td>\n",
       "      <td>6</td>\n",
       "      <td>10</td>\n",
       "      <td>2116</td>\n",
       "      <td>31931;0</td>\n",
       "      <td>1</td>\n",
       "      <td>2.0</td>\n",
       "      <td>3.0</td>\n",
       "      <td>2.0</td>\n",
       "    </tr>\n",
       "  </tbody>\n",
       "</table>\n",
       "</div>"
      ],
      "text/plain": [
       "   row_num locale day_of_week  hour_of_day  agent_id  entry_page path_id_set  \\\n",
       "0   988681     L6      Monday           17         1        2111     31672;0   \n",
       "1   988680     L2    Thursday           22        10        2113     31965;0   \n",
       "2   988679     L4    Saturday           21         2        2100     0;78464   \n",
       "3   988678     L3    Saturday           19         8        2113       51462   \n",
       "4   988677     L2     Tuesday            6        10        2116     31931;0   \n",
       "\n",
       "  traffic_type  session_durantion  hits  n_pages_visited  \n",
       "0            6             7037.0   NaN              2.0  \n",
       "1            2               49.0  14.0              2.0  \n",
       "2            1             1892.0  14.0              2.0  \n",
       "3            6                0.0   1.0              1.0  \n",
       "4            1                2.0   3.0              2.0  "
      ]
     },
     "execution_count": 12,
     "metadata": {},
     "output_type": "execute_result"
    }
   ],
   "source": [
    "data.head()"
   ]
  },
  {
   "cell_type": "markdown",
   "metadata": {},
   "source": [
    "# Prepare data for training"
   ]
  },
  {
   "cell_type": "markdown",
   "metadata": {},
   "source": [
    "#### We are going to perform several preprocessing steps:\n",
    "\n",
    "1) Remove locations variable ('path_id_set'), because we do not need it anymore.<br>\n",
    "2) Perform <b>one-hot-encoding</b> for categorical variables.<br>\n",
    "3) There are a few extreme values of a target variable ('hits'), which we will replace by 300 (300 is chosen manually). Extreme values occur rarely, are difficult to predict and can cause problems while training, so we will focus on predicting casual occations (99.8%).\n",
    "\n",
    "What is <b>one-hot-encoding</b>?<br>\n",
    "ML algorithms do not understand words, they understand numbers. However, we have several categorical variables and we have to find a way to include the information into the model. We will perform one-hot-encoding for it. When we perform this technique one feature variable is transofrmed into a set of variables (equal to = number of categories - 1), where each variable denotes presense of a specific category. The values in this columns are boolean (where 1 means presense of the category and 0 means absense of the category).<br>\n",
    "\n",
    "Example: we have a category color, which can have 3 values: red, green and blue. In this case we will transform the variable into 2(n-1) new features: is_red and is_green. Note: there is no is_blue variable. Let's imagine we have a record 'apple', then it will have is_red=1 and is_green=0. If we have a record 'sky', it will have is_red=0 and is_green=0. We do not have is_blue due to the problem of autocorrelation, because it's enough to know that the record is not red and not green to know that it is blue."
   ]
  },
  {
   "cell_type": "code",
   "execution_count": 13,
   "metadata": {},
   "outputs": [],
   "source": [
    "# remove 'path_id_set'\n",
    "data = data.drop('path_id_set', axis=1)\n",
    "\n",
    "# one-hot-encoding\n",
    "data = pd.get_dummies(data, columns=['locale', 'day_of_week', 'agent_id', 'entry_page', 'traffic_type'], drop_first=True)"
   ]
  },
  {
   "cell_type": "code",
   "execution_count": 14,
   "metadata": {},
   "outputs": [
    {
     "data": {
      "image/png": "[encoded data removed]",
      "text/plain": [
       "<Figure size 432x288 with 1 Axes>"
      ]
     },
     "metadata": {
      "needs_background": "light"
     },
     "output_type": "display_data"
    }
   ],
   "source": [
    "data['hits'].hist(bins=80)\n",
    "plt.show()"
   ]
  },
  {
   "cell_type": "code",
   "execution_count": 15,
   "metadata": {},
   "outputs": [
    {
     "name": "stdout",
     "output_type": "stream",
     "text": [
      "1655/988681 will be replaced\n"
     ]
    }
   ],
   "source": [
    "# to avoid bias we will replace extreme values\n",
    "n_replaced = (data['hits'] > 300).sum()\n",
    "print(f'{n_replaced}/{len(data)} will be replaced')"
   ]
  },
  {
   "cell_type": "code",
   "execution_count": 16,
   "metadata": {},
   "outputs": [],
   "source": [
    "data.loc[data['hits'] > 300, 'hits'] = 300"
   ]
  },
  {
   "cell_type": "code",
   "execution_count": 17,
   "metadata": {},
   "outputs": [],
   "source": [
    "train = data[data['hits'].notnull()]\n",
    "pred = data[data['hits'].isnull()]"
   ]
  },
  {
   "cell_type": "code",
   "execution_count": 18,
   "metadata": {},
   "outputs": [],
   "source": [
    "train_X = train.drop(['row_num', 'hits'], axis=1)\n",
    "train_y = train['hits']\n",
    "\n",
    "pred_X = pred.drop(['row_num', 'hits'], axis=1)\n",
    "pred_row_num = pred['row_num']"
   ]
  },
  {
   "cell_type": "code",
   "execution_count": 19,
   "metadata": {},
   "outputs": [
    {
     "data": {
      "image/png": "[encoded data removed]",
      "text/plain": [
       "<Figure size 432x288 with 1 Axes>"
      ]
     },
     "metadata": {
      "needs_background": "light"
     },
     "output_type": "display_data"
    }
   ],
   "source": [
    "train_y.hist(bins=80)\n",
    "plt.show()"
   ]
  },
  {
   "cell_type": "code",
   "execution_count": 20,
   "metadata": {},
   "outputs": [],
   "source": [
    "X_train, X_test, y_train, y_test = train_test_split(train_X, train_y, test_size=0.25, random_state=7)"
   ]
  },
  {
   "cell_type": "markdown",
   "metadata": {},
   "source": [
    "# Modelling"
   ]
  },
  {
   "cell_type": "markdown",
   "metadata": {},
   "source": [
    "#### We are going to test 3 different models:\n",
    "* Random Forest Regressor\n",
    "* Linear Regression\n",
    "* MLP\n",
    "\n",
    "\n",
    "#### We split the data we have into several parts:\n",
    "\n",
    "1) Data for prediction - data which have missing values in 'hits' column will be used for prediction<br>\n",
    "2) Training-validating part - 75% of the data, which remains, will be used for training using Cross-validation technique<br>\n",
    "3) Testing part - 25% of the data will be used just for testing the models\n",
    "\n",
    "\n",
    "#### For each model we will perform several techniques:\n",
    "\n",
    "* <b>5-Fold Cross Validation</b> - we split training-validation part into 5 folds. Then we train 5 different models with SAME parameters, but DIFFERENT data (4 different folds) and validate on the remaining fold (5th). For example, the first model will be trained on 1,2,3,4 folds and validated on 5th; the second model will be trained on 1,2,3,5 folds and will be validated on 4th fold, etc.. Then the validation results (using mean squared error) will be averaged accross 5 models. The average performance should give us the understanding how well the model performs.<br>\n",
    "* <b>Grid-search</b> - since different ML algorithms can be used with different set of parameters (number of estimators, max depth, max features for Random Forest, etc..), but we do not know which set of parameters is the best, we can train models using different sets of parameters and choose the one, which shows the best results. So, we will define different sets of parameters for each ML algorithm and we will perform 5-fold Cross Validation to choose the best set of parameters for each algorithm.<br>\n",
    "\n",
    "#### Objective function\n",
    "\n",
    "To find the best set of parameters and the best model we will use mean squared error.<br>\n",
    "<b>Mean squared error</b> is calculated as follows:<br>\n",
    "1) Calculate difference between predicted value and real value<br>\n",
    "2) Square the difference<br>\n",
    "3) Sum up the squared differences and divide by the number of instances\n",
    "\n",
    "<b>Note:</b> we take <u>negative</u> mean squared error in the objective function in GridSearch, because sklearn api is designed in such a way that it tries to maximize the score, but the objective is to minimize the error.\n",
    "\n",
    "#### Error histogram\n",
    "We will also evaluate our models visually using error histogram. Error histogram shows how much the predicted values deviate from the real values."
   ]
  },
  {
   "cell_type": "markdown",
   "metadata": {},
   "source": [
    "## Random Forest Regressor"
   ]
  },
  {
   "cell_type": "code",
   "execution_count": 25,
   "metadata": {},
   "outputs": [
    {
     "name": "stdout",
     "output_type": "stream",
     "text": [
      "Best params: {'max_depth': 10, 'max_features': 0.5, 'n_estimators': 25}\n",
      "Best score: -543.4895393577282\n",
      "Test mse: 534.2204857621438\n",
      " === ERROR HISTOGRAM ===\n"
     ]
    },
    {
     "data": {
      "image/png": "[encoded data removed]",
      "text/plain": [
       "<Figure size 432x288 with 1 Axes>"
      ]
     },
     "metadata": {
      "needs_background": "light"
     },
     "output_type": "display_data"
    }
   ],
   "source": [
    "parameters = {'n_estimators':[15, 20, 25],\n",
    "              'max_depth': [5, 10, 15],\n",
    "              'max_features': [0.4, 0.5, 0.6]}\n",
    "\n",
    "model_rf = GridSearchCV(RandomForestRegressor(), \n",
    "                        parameters, \n",
    "                        cv=5, \n",
    "                        verbose=True,\n",
    "                        scoring='neg_mean_squared_error',\n",
    "                        n_jobs=3)\n",
    "model_rf.fit(X_train, y_train)\n",
    "\n",
    "best_model_rf = model_rf.best_estimator_\n",
    "preds_rf = best_model_rf.predict(X_test)\n",
    "test_mse_rf = mean_squared_error(preds_rf, y_test)\n",
    "\n",
    "print(f'Best params: {model_rf.best_params_}\\n'\n",
    "      f'Best score: {model_rf.best_score_}\\n'\n",
    "      f'Test mse: {test_mse_rf}')\n",
    "\n",
    "print(' === ERROR HISTOGRAM ===')\n",
    "difs_rf = abs(preds_rf - y_test)\n",
    "plt.hist(difs_rf[difs_rf < 50], bins=100)\n",
    "plt.show()"
   ]
  },
  {
   "cell_type": "markdown",
   "metadata": {},
   "source": [
    "## Linear Regression"
   ]
  },
  {
   "cell_type": "code",
   "execution_count": 26,
   "metadata": {},
   "outputs": [
    {
     "name": "stdout",
     "output_type": "stream",
     "text": [
      "Best params: {}\n",
      "Best score: -689.4802107257036\n",
      "Test mse: 663.3428752288767\n",
      " === ERROR HISTOGRAM ===\n"
     ]
    },
    {
     "data": {
      "image/png": "[encoded data removed]",
      "text/plain": [
       "<Figure size 432x288 with 1 Axes>"
      ]
     },
     "metadata": {
      "needs_background": "light"
     },
     "output_type": "display_data"
    }
   ],
   "source": [
    "parameters = {}\n",
    "\n",
    "model_lr = GridSearchCV(LinearRegression(), \n",
    "                        parameters, \n",
    "                        cv=5,\n",
    "                        verbose=True, \n",
    "                        scoring='neg_mean_squared_error', \n",
    "                        n_jobs=3)\n",
    "model_lr.fit(X_train, y_train)\n",
    "\n",
    "best_model_lr = model_lr.best_estimator_\n",
    "preds_lr = best_model_lr.predict(X_test)\n",
    "test_mse_lr = mean_squared_error(preds_lr, y_test)\n",
    "\n",
    "print(f'Best params: {model_lr.best_params_}\\n'\n",
    "      f'Best score: {model_lr.best_score_}\\n'\n",
    "      f'Test mse: {test_mse_lr}')\n",
    "\n",
    "print(' === ERROR HISTOGRAM ===')\n",
    "difs_lr = abs(preds_lr - y_test)\n",
    "plt.hist(difs_lr[difs_lr < 50], bins=100)\n",
    "plt.show()"
   ]
  },
  {
   "cell_type": "markdown",
   "metadata": {},
   "source": [
    "## MLP"
   ]
  },
  {
   "cell_type": "code",
   "execution_count": 27,
   "metadata": {},
   "outputs": [
    {
     "name": "stdout",
     "output_type": "stream",
     "text": [
      "Best params: {'activation': 'relu', 'hidden_layer_sizes': (10, 10)}\n",
      "Best score: -555.7938827883852\n",
      "Test mse: 539.5327026000605\n",
      " === ERROR HISTOGRAM ===\n"
     ]
    },
    {
     "data": {
      "image/png": "[encoded data removed]",
      "text/plain": [
       "<Figure size 432x288 with 1 Axes>"
      ]
     },
     "metadata": {
      "needs_background": "light"
     },
     "output_type": "display_data"
    }
   ],
   "source": [
    "parameters = {'hidden_layer_sizes': [(5), (10), (5, 10), (10, 5), (10, 10)],\n",
    "              'activation': ['relu']}\n",
    "\n",
    "model_mlp = GridSearchCV(MLPRegressor(), \n",
    "                         parameters, \n",
    "                         cv=5, \n",
    "                         verbose=True, \n",
    "                         scoring='neg_mean_squared_error',\n",
    "                         n_jobs=3)\n",
    "model_mlp.fit(X_train, y_train)\n",
    "\n",
    "best_model_mlp = model_mlp.best_estimator_\n",
    "preds_mlp = best_model_mlp.predict(X_test)\n",
    "test_mse_mlp = mean_squared_error(preds_mlp, y_test)\n",
    "\n",
    "print(f'Best params: {model_mlp.best_params_}\\n'\n",
    "      f'Best score: {model_mlp.best_score_}\\n'\n",
    "      f'Test mse: {test_mse_mlp}')\n",
    "\n",
    "print(' === ERROR HISTOGRAM ===')\n",
    "difs_mlp = abs(preds_mlp - y_test)\n",
    "plt.hist(difs_mlp[difs_mlp < 50], bins=100)\n",
    "plt.show()"
   ]
  },
  {
   "cell_type": "markdown",
   "metadata": {},
   "source": [
    "# Results"
   ]
  },
  {
   "cell_type": "markdown",
   "metadata": {},
   "source": [
    "The performance on the test set among the 3 trained models is the following:<br>\n",
    "* Random Forest Regressor: mse=534\n",
    "* Linear Regression: mse=663\n",
    "* MLP: mse=539\n",
    "\n",
    "The Random Forest Regressor has shown the best performance during cross validation and testing, so we will choose it as our final model taken for predictions."
   ]
  },
  {
   "cell_type": "markdown",
   "metadata": {},
   "source": [
    "# Prediction"
   ]
  },
  {
   "cell_type": "code",
   "execution_count": 28,
   "metadata": {},
   "outputs": [],
   "source": [
    "predictions = best_model_rf.predict(pred_X).astype(np.int)\n",
    "predictions_df = pd.DataFrame({'id': pred_row_num, 'hits_prediction': predictions})\n",
    "predictions_df.to_csv('predictions.csv', index=False)"
   ]
  }
 ],
 "metadata": {
  "kernelspec": {
   "display_name": "Python 3",
   "language": "python",
   "name": "python3"
  },
  "language_info": {
   "codemirror_mode": {
    "name": "ipython",
    "version": 3
   },
   "file_extension": ".py",
   "mimetype": "text/x-python",
   "name": "python",
   "nbconvert_exporter": "python",
   "pygments_lexer": "ipython3",
   "version": "3.7.3"
  }
 },
 "nbformat": 4,
 "nbformat_minor": 2
}
