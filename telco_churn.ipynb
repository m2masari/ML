{
  "nbformat": 4,
  "nbformat_minor": 0,
  "metadata": {
    "kernelspec": {
      "display_name": "Python 3",
      "language": "python",
      "name": "python3"
    },
    "language_info": {
      "codemirror_mode": {
        "name": "ipython",
        "version": 3
      },
      "file_extension": ".py",
      "mimetype": "text/x-python",
      "name": "python",
      "nbconvert_exporter": "python",
      "pygments_lexer": "ipython3",
      "version": "3.6.5"
    },
    "colab": {
      "name": "telco_churn.ipynb",
      "provenance": [],
      "collapsed_sections": [],
      "include_colab_link": true
    }
  },
  "cells": [
    {
      "cell_type": "markdown",
      "metadata": {
        "id": "view-in-github",
        "colab_type": "text"
      },
      "source": [
        "<a href=\"https://colab.research.google.com/github/m2masari/ML/blob/master/telco_churn.ipynb\" target=\"_parent\"><img src=\"https://colab.research.google.com/assets/colab-badge.svg\" alt=\"Open In Colab\"/></a>"
      ]
    },
    {
      "cell_type": "markdown",
      "metadata": {
        "id": "hU9CclJEF8wh",
        "colab_type": "text"
      },
      "source": [
        "### Loading the data and Libraries"
      ]
    },
    {
      "cell_type": "code",
      "metadata": {
        "id": "4uzKUXLWF8wm",
        "colab_type": "code",
        "colab": {}
      },
      "source": [
        "import pandas as pd\n",
        "import numpy as np\n",
        "import matplotlib.pyplot as plt\n",
        "import seaborn as sns\n",
        "%matplotlib inline"
      ],
      "execution_count": 0,
      "outputs": []
    },
    {
      "cell_type": "code",
      "metadata": {
        "id": "KgwXVqCBGJ3e",
        "colab_type": "code",
        "outputId": "15d55ce5-81d5-4b99-fa61-0644c88cf810",
        "colab": {
          "base_uri": "https://localhost:8080/",
          "height": 125
        }
      },
      "source": [
        "from google.colab import drive\n",
        "drive.mount('/content/drive/')"
      ],
      "execution_count": 0,
      "outputs": [
        {
          "output_type": "stream",
          "text": [
            "Go to this URL in a browser: https://accounts.google.com/o/oauth2/auth?client_id=947318989803-6bn6qk8qdgf4n4g3pfee6491hc0brc4i.apps.googleusercontent.com&redirect_uri=urn%3aietf%3awg%3aoauth%3a2.0%3aoob&response_type=code&scope=email%20https%3a%2f%2fwww.googleapis.com%2fauth%2fdocs.test%20https%3a%2f%2fwww.googleapis.com%2fauth%2fdrive%20https%3a%2f%2fwww.googleapis.com%2fauth%2fdrive.photos.readonly%20https%3a%2f%2fwww.googleapis.com%2fauth%2fpeopleapi.readonly\n",
            "\n",
            "Enter your authorization code:\n",
            "··········\n",
            "Mounted at /content/drive/\n"
          ],
          "name": "stdout"
        }
      ]
    },
    {
      "cell_type": "code",
      "metadata": {
        "id": "iJGkmr_7GSjb",
        "colab_type": "code",
        "colab": {}
      },
      "source": [
        "import os\n",
        "os.chdir('/content/drive/My Drive/assesment/Velox')"
      ],
      "execution_count": 0,
      "outputs": []
    },
    {
      "cell_type": "code",
      "metadata": {
        "id": "-Po1VoO_GWNS",
        "colab_type": "code",
        "colab": {}
      },
      "source": [
        "df = pd.read_csv('Telco_Churn_Case.csv', sep=';')"
      ],
      "execution_count": 0,
      "outputs": []
    },
    {
      "cell_type": "markdown",
      "metadata": {
        "id": "MY15OCyTF8wr",
        "colab_type": "text"
      },
      "source": [
        "##### Data Summary"
      ]
    },
    {
      "cell_type": "code",
      "metadata": {
        "id": "qUuWJIVYF8wt",
        "colab_type": "code",
        "outputId": "2257b75a-1eff-4c4b-97c6-6be0194feeb6",
        "colab": {
          "base_uri": "https://localhost:8080/",
          "height": 217
        }
      },
      "source": [
        "df.head()"
      ],
      "execution_count": 0,
      "outputs": [
        {
          "output_type": "execute_result",
          "data": {
            "text/html": [
              "<div>\n",
              "<style scoped>\n",
              "    .dataframe tbody tr th:only-of-type {\n",
              "        vertical-align: middle;\n",
              "    }\n",
              "\n",
              "    .dataframe tbody tr th {\n",
              "        vertical-align: top;\n",
              "    }\n",
              "\n",
              "    .dataframe thead th {\n",
              "        text-align: right;\n",
              "    }\n",
              "</style>\n",
              "<table border=\"1\" class=\"dataframe\">\n",
              "  <thead>\n",
              "    <tr style=\"text-align: right;\">\n",
              "      <th></th>\n",
              "      <th>AGE1</th>\n",
              "      <th>CHILDREN</th>\n",
              "      <th>CHURN</th>\n",
              "      <th>MARRYYES</th>\n",
              "      <th>MARRYNO</th>\n",
              "      <th>MARRYUN</th>\n",
              "      <th>INCOME</th>\n",
              "      <th>OCCSTUD</th>\n",
              "      <th>OCCSELF</th>\n",
              "      <th>OCCRET</th>\n",
              "      <th>OCCPROF</th>\n",
              "      <th>OCCHMKR</th>\n",
              "      <th>OCCCRFT</th>\n",
              "      <th>OCCCLER</th>\n",
              "      <th>NEWCELLY</th>\n",
              "      <th>MONTHS</th>\n",
              "      <th>MODELS</th>\n",
              "      <th>PHONES</th>\n",
              "      <th>PCOWN</th>\n",
              "      <th>CALLWAIT</th>\n",
              "      <th>MOU</th>\n",
              "      <th>INCALLS</th>\n",
              "      <th>EQPDAYS</th>\n",
              "      <th>DROPVCE</th>\n",
              "      <th>CUSTOMER</th>\n",
              "      <th>ROAM</th>\n",
              "      <th>REVENUE</th>\n",
              "      <th>RECCHRGE</th>\n",
              "      <th>PEAKVCE</th>\n",
              "      <th>OUTCALLS</th>\n",
              "    </tr>\n",
              "  </thead>\n",
              "  <tbody>\n",
              "    <tr>\n",
              "      <th>0</th>\n",
              "      <td>0.0</td>\n",
              "      <td>0</td>\n",
              "      <td>0</td>\n",
              "      <td>0</td>\n",
              "      <td>0</td>\n",
              "      <td>1</td>\n",
              "      <td>0</td>\n",
              "      <td>0</td>\n",
              "      <td>0</td>\n",
              "      <td>0</td>\n",
              "      <td>0</td>\n",
              "      <td>0</td>\n",
              "      <td>0</td>\n",
              "      <td>0</td>\n",
              "      <td>1</td>\n",
              "      <td>22</td>\n",
              "      <td>3.0</td>\n",
              "      <td>3.0</td>\n",
              "      <td>0</td>\n",
              "      <td>2.666667</td>\n",
              "      <td>185.75</td>\n",
              "      <td>0.000000</td>\n",
              "      <td>280.0</td>\n",
              "      <td>2.000000</td>\n",
              "      <td>1033384</td>\n",
              "      <td>0.00</td>\n",
              "      <td>37.5100</td>\n",
              "      <td>27.5725</td>\n",
              "      <td>48.666667</td>\n",
              "      <td>0.000000</td>\n",
              "    </tr>\n",
              "    <tr>\n",
              "      <th>1</th>\n",
              "      <td>0.0</td>\n",
              "      <td>0</td>\n",
              "      <td>0</td>\n",
              "      <td>0</td>\n",
              "      <td>0</td>\n",
              "      <td>1</td>\n",
              "      <td>0</td>\n",
              "      <td>0</td>\n",
              "      <td>0</td>\n",
              "      <td>0</td>\n",
              "      <td>0</td>\n",
              "      <td>0</td>\n",
              "      <td>0</td>\n",
              "      <td>0</td>\n",
              "      <td>1</td>\n",
              "      <td>25</td>\n",
              "      <td>5.0</td>\n",
              "      <td>7.0</td>\n",
              "      <td>0</td>\n",
              "      <td>102.000000</td>\n",
              "      <td>3294.25</td>\n",
              "      <td>181.666667</td>\n",
              "      <td>51.0</td>\n",
              "      <td>124.000000</td>\n",
              "      <td>1022818</td>\n",
              "      <td>0.00</td>\n",
              "      <td>191.6100</td>\n",
              "      <td>114.1025</td>\n",
              "      <td>800.666667</td>\n",
              "      <td>240.333333</td>\n",
              "    </tr>\n",
              "    <tr>\n",
              "      <th>2</th>\n",
              "      <td>0.0</td>\n",
              "      <td>0</td>\n",
              "      <td>0</td>\n",
              "      <td>0</td>\n",
              "      <td>0</td>\n",
              "      <td>1</td>\n",
              "      <td>0</td>\n",
              "      <td>0</td>\n",
              "      <td>0</td>\n",
              "      <td>0</td>\n",
              "      <td>0</td>\n",
              "      <td>0</td>\n",
              "      <td>0</td>\n",
              "      <td>0</td>\n",
              "      <td>0</td>\n",
              "      <td>7</td>\n",
              "      <td>1.0</td>\n",
              "      <td>1.0</td>\n",
              "      <td>0</td>\n",
              "      <td>0.000000</td>\n",
              "      <td>2582.00</td>\n",
              "      <td>1.000000</td>\n",
              "      <td>188.0</td>\n",
              "      <td>9.333333</td>\n",
              "      <td>1095330</td>\n",
              "      <td>22.47</td>\n",
              "      <td>187.7200</td>\n",
              "      <td>122.4925</td>\n",
              "      <td>386.000000</td>\n",
              "      <td>46.666667</td>\n",
              "    </tr>\n",
              "    <tr>\n",
              "      <th>3</th>\n",
              "      <td>0.0</td>\n",
              "      <td>0</td>\n",
              "      <td>0</td>\n",
              "      <td>0</td>\n",
              "      <td>0</td>\n",
              "      <td>1</td>\n",
              "      <td>0</td>\n",
              "      <td>0</td>\n",
              "      <td>0</td>\n",
              "      <td>0</td>\n",
              "      <td>0</td>\n",
              "      <td>0</td>\n",
              "      <td>0</td>\n",
              "      <td>0</td>\n",
              "      <td>0</td>\n",
              "      <td>9</td>\n",
              "      <td>1.0</td>\n",
              "      <td>1.0</td>\n",
              "      <td>0</td>\n",
              "      <td>0.666667</td>\n",
              "      <td>278.75</td>\n",
              "      <td>5.666667</td>\n",
              "      <td>243.0</td>\n",
              "      <td>7.333333</td>\n",
              "      <td>1092012</td>\n",
              "      <td>0.00</td>\n",
              "      <td>54.6325</td>\n",
              "      <td>64.4275</td>\n",
              "      <td>32.666667</td>\n",
              "      <td>24.000000</td>\n",
              "    </tr>\n",
              "    <tr>\n",
              "      <th>4</th>\n",
              "      <td>0.0</td>\n",
              "      <td>0</td>\n",
              "      <td>0</td>\n",
              "      <td>0</td>\n",
              "      <td>0</td>\n",
              "      <td>1</td>\n",
              "      <td>0</td>\n",
              "      <td>0</td>\n",
              "      <td>0</td>\n",
              "      <td>0</td>\n",
              "      <td>0</td>\n",
              "      <td>0</td>\n",
              "      <td>0</td>\n",
              "      <td>0</td>\n",
              "      <td>0</td>\n",
              "      <td>9</td>\n",
              "      <td>1.0</td>\n",
              "      <td>1.0</td>\n",
              "      <td>0</td>\n",
              "      <td>0.000000</td>\n",
              "      <td>260.75</td>\n",
              "      <td>6.333333</td>\n",
              "      <td>243.0</td>\n",
              "      <td>13.666667</td>\n",
              "      <td>1092009</td>\n",
              "      <td>0.00</td>\n",
              "      <td>50.3000</td>\n",
              "      <td>33.7000</td>\n",
              "      <td>33.000000</td>\n",
              "      <td>30.666667</td>\n",
              "    </tr>\n",
              "  </tbody>\n",
              "</table>\n",
              "</div>"
            ],
            "text/plain": [
              "   AGE1  CHILDREN  CHURN  MARRYYES  ...   REVENUE  RECCHRGE     PEAKVCE    OUTCALLS\n",
              "0   0.0         0      0         0  ...   37.5100   27.5725   48.666667    0.000000\n",
              "1   0.0         0      0         0  ...  191.6100  114.1025  800.666667  240.333333\n",
              "2   0.0         0      0         0  ...  187.7200  122.4925  386.000000   46.666667\n",
              "3   0.0         0      0         0  ...   54.6325   64.4275   32.666667   24.000000\n",
              "4   0.0         0      0         0  ...   50.3000   33.7000   33.000000   30.666667\n",
              "\n",
              "[5 rows x 30 columns]"
            ]
          },
          "metadata": {
            "tags": []
          },
          "execution_count": 15
        }
      ]
    },
    {
      "cell_type": "code",
      "metadata": {
        "id": "VVpT5Z-pF8wz",
        "colab_type": "code",
        "outputId": "013a9963-9c09-48c5-b3c8-bd48f58c43c0",
        "colab": {
          "base_uri": "https://localhost:8080/",
          "height": 123
        }
      },
      "source": [
        "df.columns"
      ],
      "execution_count": 0,
      "outputs": [
        {
          "output_type": "execute_result",
          "data": {
            "text/plain": [
              "Index(['AGE1', 'CHILDREN', 'CHURN', 'MARRYYES', 'MARRYNO', 'MARRYUN', 'INCOME',\n",
              "       'OCCSTUD', 'OCCSELF', 'OCCRET', 'OCCPROF', 'OCCHMKR', 'OCCCRFT',\n",
              "       'OCCCLER', 'NEWCELLY', 'MONTHS', 'MODELS', 'PHONES', 'PCOWN',\n",
              "       'CALLWAIT', 'MOU', 'INCALLS', 'EQPDAYS', 'DROPVCE', 'CUSTOMER', 'ROAM',\n",
              "       'REVENUE', 'RECCHRGE', 'PEAKVCE', 'OUTCALLS'],\n",
              "      dtype='object')"
            ]
          },
          "metadata": {
            "tags": []
          },
          "execution_count": 16
        }
      ]
    },
    {
      "cell_type": "code",
      "metadata": {
        "id": "DQzQEGwtF8w3",
        "colab_type": "code",
        "outputId": "33388a01-61cb-41a0-d4f1-d1ee78e8216b",
        "colab": {
          "base_uri": "https://localhost:8080/",
          "height": 34
        }
      },
      "source": [
        "df.shape"
      ],
      "execution_count": 0,
      "outputs": [
        {
          "output_type": "execute_result",
          "data": {
            "text/plain": [
              "(71047, 30)"
            ]
          },
          "metadata": {
            "tags": []
          },
          "execution_count": 17
        }
      ]
    },
    {
      "cell_type": "code",
      "metadata": {
        "id": "5qGG2YLLF8w7",
        "colab_type": "code",
        "colab": {}
      },
      "source": [
        "#Droppig unique idntifier column\n",
        "\n",
        "df.drop('CUSTOMER',axis=1,inplace=True)"
      ],
      "execution_count": 0,
      "outputs": []
    },
    {
      "cell_type": "markdown",
      "metadata": {
        "id": "ARveSCx8HHXn",
        "colab_type": "text"
      },
      "source": [
        "##### Checking null counts"
      ]
    },
    {
      "cell_type": "code",
      "metadata": {
        "id": "aEnlV-stGocH",
        "colab_type": "code",
        "outputId": "7b748c5f-7d6b-4643-9641-46e5708eaa93",
        "colab": {
          "base_uri": "https://localhost:8080/",
          "height": 550
        }
      },
      "source": [
        "df.isnull().sum(axis=0)"
      ],
      "execution_count": 0,
      "outputs": [
        {
          "output_type": "execute_result",
          "data": {
            "text/plain": [
              "AGE1        1244\n",
              "CHILDREN       0\n",
              "CHURN          0\n",
              "MARRYYES       0\n",
              "MARRYNO        0\n",
              "MARRYUN        0\n",
              "INCOME         0\n",
              "OCCSTUD        0\n",
              "OCCSELF        0\n",
              "OCCRET         0\n",
              "OCCPROF        0\n",
              "OCCHMKR        0\n",
              "OCCCRFT        0\n",
              "OCCCLER        0\n",
              "NEWCELLY       0\n",
              "MONTHS         0\n",
              "MODELS         1\n",
              "PHONES         1\n",
              "PCOWN          0\n",
              "CALLWAIT       0\n",
              "MOU          216\n",
              "INCALLS        0\n",
              "EQPDAYS        1\n",
              "DROPVCE        0\n",
              "ROAM         216\n",
              "REVENUE      216\n",
              "RECCHRGE     216\n",
              "PEAKVCE        0\n",
              "OUTCALLS       0\n",
              "dtype: int64"
            ]
          },
          "metadata": {
            "tags": []
          },
          "execution_count": 19
        }
      ]
    },
    {
      "cell_type": "code",
      "metadata": {
        "id": "quRatnIdHD74",
        "colab_type": "code",
        "outputId": "6fe1d39e-8c16-4674-eaee-e19f39afe079",
        "colab": {
          "base_uri": "https://localhost:8080/",
          "height": 621
        }
      },
      "source": [
        "df.info()"
      ],
      "execution_count": 0,
      "outputs": [
        {
          "output_type": "stream",
          "text": [
            "<class 'pandas.core.frame.DataFrame'>\n",
            "RangeIndex: 71047 entries, 0 to 71046\n",
            "Data columns (total 29 columns):\n",
            "AGE1        69803 non-null float64\n",
            "CHILDREN    71047 non-null int64\n",
            "CHURN       71047 non-null int64\n",
            "MARRYYES    71047 non-null int64\n",
            "MARRYNO     71047 non-null int64\n",
            "MARRYUN     71047 non-null int64\n",
            "INCOME      71047 non-null int64\n",
            "OCCSTUD     71047 non-null int64\n",
            "OCCSELF     71047 non-null int64\n",
            "OCCRET      71047 non-null int64\n",
            "OCCPROF     71047 non-null int64\n",
            "OCCHMKR     71047 non-null int64\n",
            "OCCCRFT     71047 non-null int64\n",
            "OCCCLER     71047 non-null int64\n",
            "NEWCELLY    71047 non-null int64\n",
            "MONTHS      71047 non-null int64\n",
            "MODELS      71046 non-null float64\n",
            "PHONES      71046 non-null float64\n",
            "PCOWN       71047 non-null int64\n",
            "CALLWAIT    71047 non-null float64\n",
            "MOU         70831 non-null float64\n",
            "INCALLS     71047 non-null float64\n",
            "EQPDAYS     71046 non-null float64\n",
            "DROPVCE     71047 non-null float64\n",
            "ROAM        70831 non-null float64\n",
            "REVENUE     70831 non-null float64\n",
            "RECCHRGE    70831 non-null float64\n",
            "PEAKVCE     71047 non-null float64\n",
            "OUTCALLS    71047 non-null float64\n",
            "dtypes: float64(13), int64(16)\n",
            "memory usage: 15.7 MB\n"
          ],
          "name": "stdout"
        }
      ]
    },
    {
      "cell_type": "markdown",
      "metadata": {
        "id": "fFOK0CeaF8xL",
        "colab_type": "text"
      },
      "source": [
        "##### Replacing blank  values with mean "
      ]
    },
    {
      "cell_type": "code",
      "metadata": {
        "id": "GctcTZ2f6cX_",
        "colab_type": "code",
        "outputId": "a4241c78-0ffe-4188-f203-da0184cc6a11",
        "colab": {
          "base_uri": "https://localhost:8080/",
          "height": 307
        }
      },
      "source": [
        "df.describe(include='all')"
      ],
      "execution_count": 0,
      "outputs": [
        {
          "output_type": "execute_result",
          "data": {
            "text/html": [
              "<div>\n",
              "<style scoped>\n",
              "    .dataframe tbody tr th:only-of-type {\n",
              "        vertical-align: middle;\n",
              "    }\n",
              "\n",
              "    .dataframe tbody tr th {\n",
              "        vertical-align: top;\n",
              "    }\n",
              "\n",
              "    .dataframe thead th {\n",
              "        text-align: right;\n",
              "    }\n",
              "</style>\n",
              "<table border=\"1\" class=\"dataframe\">\n",
              "  <thead>\n",
              "    <tr style=\"text-align: right;\">\n",
              "      <th></th>\n",
              "      <th>AGE1</th>\n",
              "      <th>CHILDREN</th>\n",
              "      <th>CHURN</th>\n",
              "      <th>MARRYYES</th>\n",
              "      <th>MARRYNO</th>\n",
              "      <th>MARRYUN</th>\n",
              "      <th>INCOME</th>\n",
              "      <th>OCCSTUD</th>\n",
              "      <th>OCCSELF</th>\n",
              "      <th>OCCRET</th>\n",
              "      <th>OCCPROF</th>\n",
              "      <th>OCCHMKR</th>\n",
              "      <th>OCCCRFT</th>\n",
              "      <th>OCCCLER</th>\n",
              "      <th>NEWCELLY</th>\n",
              "      <th>MONTHS</th>\n",
              "      <th>MODELS</th>\n",
              "      <th>PHONES</th>\n",
              "      <th>PCOWN</th>\n",
              "      <th>CALLWAIT</th>\n",
              "      <th>MOU</th>\n",
              "      <th>INCALLS</th>\n",
              "      <th>EQPDAYS</th>\n",
              "      <th>DROPVCE</th>\n",
              "      <th>ROAM</th>\n",
              "      <th>REVENUE</th>\n",
              "      <th>RECCHRGE</th>\n",
              "      <th>PEAKVCE</th>\n",
              "      <th>OUTCALLS</th>\n",
              "    </tr>\n",
              "  </thead>\n",
              "  <tbody>\n",
              "    <tr>\n",
              "      <th>count</th>\n",
              "      <td>69803.000000</td>\n",
              "      <td>71047.000000</td>\n",
              "      <td>71047.000000</td>\n",
              "      <td>71047.000000</td>\n",
              "      <td>71047.000000</td>\n",
              "      <td>71047.000000</td>\n",
              "      <td>71047.000000</td>\n",
              "      <td>71047.000000</td>\n",
              "      <td>71047.000000</td>\n",
              "      <td>71047.000000</td>\n",
              "      <td>71047.000000</td>\n",
              "      <td>71047.000000</td>\n",
              "      <td>71047.000000</td>\n",
              "      <td>71047.000000</td>\n",
              "      <td>71047.000000</td>\n",
              "      <td>71047.000000</td>\n",
              "      <td>71046.000000</td>\n",
              "      <td>71046.000000</td>\n",
              "      <td>71047.000000</td>\n",
              "      <td>71047.000000</td>\n",
              "      <td>70831.000000</td>\n",
              "      <td>71047.000000</td>\n",
              "      <td>71046.000000</td>\n",
              "      <td>71047.000000</td>\n",
              "      <td>70831.000000</td>\n",
              "      <td>70831.000000</td>\n",
              "      <td>70831.000000</td>\n",
              "      <td>71047.000000</td>\n",
              "      <td>71047.000000</td>\n",
              "    </tr>\n",
              "    <tr>\n",
              "      <th>mean</th>\n",
              "      <td>31.375113</td>\n",
              "      <td>0.242389</td>\n",
              "      <td>0.290076</td>\n",
              "      <td>0.365378</td>\n",
              "      <td>0.249806</td>\n",
              "      <td>0.384816</td>\n",
              "      <td>4.334229</td>\n",
              "      <td>0.007572</td>\n",
              "      <td>0.017833</td>\n",
              "      <td>0.014512</td>\n",
              "      <td>0.173899</td>\n",
              "      <td>0.003153</td>\n",
              "      <td>0.029642</td>\n",
              "      <td>0.020057</td>\n",
              "      <td>0.192943</td>\n",
              "      <td>18.750827</td>\n",
              "      <td>1.561791</td>\n",
              "      <td>1.808617</td>\n",
              "      <td>0.185412</td>\n",
              "      <td>1.853034</td>\n",
              "      <td>525.728392</td>\n",
              "      <td>8.176798</td>\n",
              "      <td>380.265631</td>\n",
              "      <td>6.009968</td>\n",
              "      <td>1.221071</td>\n",
              "      <td>58.852803</td>\n",
              "      <td>46.876304</td>\n",
              "      <td>90.580946</td>\n",
              "      <td>25.396526</td>\n",
              "    </tr>\n",
              "    <tr>\n",
              "      <th>std</th>\n",
              "      <td>22.082195</td>\n",
              "      <td>0.428531</td>\n",
              "      <td>0.453800</td>\n",
              "      <td>0.481539</td>\n",
              "      <td>0.432904</td>\n",
              "      <td>0.486555</td>\n",
              "      <td>3.137063</td>\n",
              "      <td>0.086690</td>\n",
              "      <td>0.132346</td>\n",
              "      <td>0.119587</td>\n",
              "      <td>0.379025</td>\n",
              "      <td>0.056062</td>\n",
              "      <td>0.169600</td>\n",
              "      <td>0.140197</td>\n",
              "      <td>0.394611</td>\n",
              "      <td>9.787568</td>\n",
              "      <td>0.908280</td>\n",
              "      <td>1.336120</td>\n",
              "      <td>0.388635</td>\n",
              "      <td>5.556202</td>\n",
              "      <td>530.134259</td>\n",
              "      <td>16.519059</td>\n",
              "      <td>254.294692</td>\n",
              "      <td>9.006125</td>\n",
              "      <td>9.081089</td>\n",
              "      <td>44.243583</td>\n",
              "      <td>23.915095</td>\n",
              "      <td>104.914866</td>\n",
              "      <td>35.147512</td>\n",
              "    </tr>\n",
              "    <tr>\n",
              "      <th>min</th>\n",
              "      <td>0.000000</td>\n",
              "      <td>0.000000</td>\n",
              "      <td>0.000000</td>\n",
              "      <td>0.000000</td>\n",
              "      <td>0.000000</td>\n",
              "      <td>0.000000</td>\n",
              "      <td>0.000000</td>\n",
              "      <td>0.000000</td>\n",
              "      <td>0.000000</td>\n",
              "      <td>0.000000</td>\n",
              "      <td>0.000000</td>\n",
              "      <td>0.000000</td>\n",
              "      <td>0.000000</td>\n",
              "      <td>0.000000</td>\n",
              "      <td>0.000000</td>\n",
              "      <td>6.000000</td>\n",
              "      <td>1.000000</td>\n",
              "      <td>1.000000</td>\n",
              "      <td>0.000000</td>\n",
              "      <td>0.000000</td>\n",
              "      <td>0.000000</td>\n",
              "      <td>0.000000</td>\n",
              "      <td>-5.000000</td>\n",
              "      <td>0.000000</td>\n",
              "      <td>0.000000</td>\n",
              "      <td>-6.167500</td>\n",
              "      <td>-11.290000</td>\n",
              "      <td>0.000000</td>\n",
              "      <td>0.000000</td>\n",
              "    </tr>\n",
              "    <tr>\n",
              "      <th>25%</th>\n",
              "      <td>0.000000</td>\n",
              "      <td>0.000000</td>\n",
              "      <td>0.000000</td>\n",
              "      <td>0.000000</td>\n",
              "      <td>0.000000</td>\n",
              "      <td>0.000000</td>\n",
              "      <td>1.000000</td>\n",
              "      <td>0.000000</td>\n",
              "      <td>0.000000</td>\n",
              "      <td>0.000000</td>\n",
              "      <td>0.000000</td>\n",
              "      <td>0.000000</td>\n",
              "      <td>0.000000</td>\n",
              "      <td>0.000000</td>\n",
              "      <td>0.000000</td>\n",
              "      <td>11.000000</td>\n",
              "      <td>1.000000</td>\n",
              "      <td>1.000000</td>\n",
              "      <td>0.000000</td>\n",
              "      <td>0.000000</td>\n",
              "      <td>158.250000</td>\n",
              "      <td>0.000000</td>\n",
              "      <td>204.000000</td>\n",
              "      <td>0.666667</td>\n",
              "      <td>0.000000</td>\n",
              "      <td>33.642500</td>\n",
              "      <td>30.000000</td>\n",
              "      <td>23.000000</td>\n",
              "      <td>3.333333</td>\n",
              "    </tr>\n",
              "    <tr>\n",
              "      <th>50%</th>\n",
              "      <td>36.000000</td>\n",
              "      <td>0.000000</td>\n",
              "      <td>0.000000</td>\n",
              "      <td>0.000000</td>\n",
              "      <td>0.000000</td>\n",
              "      <td>0.000000</td>\n",
              "      <td>5.000000</td>\n",
              "      <td>0.000000</td>\n",
              "      <td>0.000000</td>\n",
              "      <td>0.000000</td>\n",
              "      <td>0.000000</td>\n",
              "      <td>0.000000</td>\n",
              "      <td>0.000000</td>\n",
              "      <td>0.000000</td>\n",
              "      <td>0.000000</td>\n",
              "      <td>16.000000</td>\n",
              "      <td>1.000000</td>\n",
              "      <td>1.000000</td>\n",
              "      <td>0.000000</td>\n",
              "      <td>0.333333</td>\n",
              "      <td>366.000000</td>\n",
              "      <td>2.000000</td>\n",
              "      <td>330.000000</td>\n",
              "      <td>3.000000</td>\n",
              "      <td>0.000000</td>\n",
              "      <td>48.530000</td>\n",
              "      <td>44.990000</td>\n",
              "      <td>62.000000</td>\n",
              "      <td>13.666667</td>\n",
              "    </tr>\n",
              "    <tr>\n",
              "      <th>75%</th>\n",
              "      <td>48.000000</td>\n",
              "      <td>0.000000</td>\n",
              "      <td>1.000000</td>\n",
              "      <td>1.000000</td>\n",
              "      <td>0.000000</td>\n",
              "      <td>1.000000</td>\n",
              "      <td>7.000000</td>\n",
              "      <td>0.000000</td>\n",
              "      <td>0.000000</td>\n",
              "      <td>0.000000</td>\n",
              "      <td>0.000000</td>\n",
              "      <td>0.000000</td>\n",
              "      <td>0.000000</td>\n",
              "      <td>0.000000</td>\n",
              "      <td>0.000000</td>\n",
              "      <td>24.000000</td>\n",
              "      <td>2.000000</td>\n",
              "      <td>2.000000</td>\n",
              "      <td>0.000000</td>\n",
              "      <td>1.333333</td>\n",
              "      <td>721.750000</td>\n",
              "      <td>9.333333</td>\n",
              "      <td>515.000000</td>\n",
              "      <td>7.666667</td>\n",
              "      <td>0.257500</td>\n",
              "      <td>71.030000</td>\n",
              "      <td>59.990000</td>\n",
              "      <td>121.166667</td>\n",
              "      <td>34.000000</td>\n",
              "    </tr>\n",
              "    <tr>\n",
              "      <th>max</th>\n",
              "      <td>99.000000</td>\n",
              "      <td>1.000000</td>\n",
              "      <td>1.000000</td>\n",
              "      <td>1.000000</td>\n",
              "      <td>1.000000</td>\n",
              "      <td>1.000000</td>\n",
              "      <td>9.000000</td>\n",
              "      <td>1.000000</td>\n",
              "      <td>1.000000</td>\n",
              "      <td>1.000000</td>\n",
              "      <td>1.000000</td>\n",
              "      <td>1.000000</td>\n",
              "      <td>1.000000</td>\n",
              "      <td>1.000000</td>\n",
              "      <td>1.000000</td>\n",
              "      <td>61.000000</td>\n",
              "      <td>16.000000</td>\n",
              "      <td>28.000000</td>\n",
              "      <td>1.000000</td>\n",
              "      <td>212.666667</td>\n",
              "      <td>7667.750000</td>\n",
              "      <td>519.333333</td>\n",
              "      <td>1823.000000</td>\n",
              "      <td>221.666667</td>\n",
              "      <td>1112.447500</td>\n",
              "      <td>1223.380000</td>\n",
              "      <td>399.990000</td>\n",
              "      <td>2090.666667</td>\n",
              "      <td>644.333333</td>\n",
              "    </tr>\n",
              "  </tbody>\n",
              "</table>\n",
              "</div>"
            ],
            "text/plain": [
              "               AGE1      CHILDREN  ...       PEAKVCE      OUTCALLS\n",
              "count  69803.000000  71047.000000  ...  71047.000000  71047.000000\n",
              "mean      31.375113      0.242389  ...     90.580946     25.396526\n",
              "std       22.082195      0.428531  ...    104.914866     35.147512\n",
              "min        0.000000      0.000000  ...      0.000000      0.000000\n",
              "25%        0.000000      0.000000  ...     23.000000      3.333333\n",
              "50%       36.000000      0.000000  ...     62.000000     13.666667\n",
              "75%       48.000000      0.000000  ...    121.166667     34.000000\n",
              "max       99.000000      1.000000  ...   2090.666667    644.333333\n",
              "\n",
              "[8 rows x 29 columns]"
            ]
          },
          "metadata": {
            "tags": []
          },
          "execution_count": 21
        }
      ]
    },
    {
      "cell_type": "code",
      "metadata": {
        "id": "ydd3pWCYF8xN",
        "colab_type": "code",
        "colab": {}
      },
      "source": [
        "df['AGE1'].fillna((df['AGE1'].median()), inplace=True)\n",
        "df['MODELS'].fillna((df['MODELS'].median()), inplace=True)\n",
        "df['PHONES'].fillna((df['PHONES'].median()), inplace=True)\n",
        "df['MOU'].fillna((df['MOU'].median()), inplace=True)\n",
        "df['ROAM'].fillna((df['ROAM'].median()), inplace=True)\n",
        "df['REVENUE'].fillna((df['REVENUE'].median()), inplace=True)\n",
        "df['RECCHRGE'].fillna((df['RECCHRGE'].median()), inplace=True)"
      ],
      "execution_count": 0,
      "outputs": []
    },
    {
      "cell_type": "code",
      "metadata": {
        "id": "tktHyMqTF8xQ",
        "colab_type": "code",
        "colab": {}
      },
      "source": [
        "df.dropna(inplace = True) #Dropping Rows where NA values are there."
      ],
      "execution_count": 0,
      "outputs": []
    },
    {
      "cell_type": "markdown",
      "metadata": {
        "id": "OykjAIv2F8xT",
        "colab_type": "text"
      },
      "source": [
        "##### Converting data to dummy data which is supported to ML models"
      ]
    },
    {
      "cell_type": "code",
      "metadata": {
        "id": "2nLtVVYQF8xV",
        "colab_type": "code",
        "colab": {}
      },
      "source": [
        "df2 = pd.get_dummies(df)"
      ],
      "execution_count": 0,
      "outputs": []
    },
    {
      "cell_type": "code",
      "metadata": {
        "id": "2PI_WT3KF8xY",
        "colab_type": "code",
        "outputId": "1cb84112-d44c-4466-ec28-93125308927f",
        "colab": {
          "base_uri": "https://localhost:8080/",
          "height": 217
        }
      },
      "source": [
        "df2.head()"
      ],
      "execution_count": 0,
      "outputs": [
        {
          "output_type": "execute_result",
          "data": {
            "text/html": [
              "<div>\n",
              "<style scoped>\n",
              "    .dataframe tbody tr th:only-of-type {\n",
              "        vertical-align: middle;\n",
              "    }\n",
              "\n",
              "    .dataframe tbody tr th {\n",
              "        vertical-align: top;\n",
              "    }\n",
              "\n",
              "    .dataframe thead th {\n",
              "        text-align: right;\n",
              "    }\n",
              "</style>\n",
              "<table border=\"1\" class=\"dataframe\">\n",
              "  <thead>\n",
              "    <tr style=\"text-align: right;\">\n",
              "      <th></th>\n",
              "      <th>AGE1</th>\n",
              "      <th>CHILDREN</th>\n",
              "      <th>CHURN</th>\n",
              "      <th>MARRYYES</th>\n",
              "      <th>MARRYNO</th>\n",
              "      <th>MARRYUN</th>\n",
              "      <th>INCOME</th>\n",
              "      <th>OCCSTUD</th>\n",
              "      <th>OCCSELF</th>\n",
              "      <th>OCCRET</th>\n",
              "      <th>OCCPROF</th>\n",
              "      <th>OCCHMKR</th>\n",
              "      <th>OCCCRFT</th>\n",
              "      <th>OCCCLER</th>\n",
              "      <th>NEWCELLY</th>\n",
              "      <th>MONTHS</th>\n",
              "      <th>MODELS</th>\n",
              "      <th>PHONES</th>\n",
              "      <th>PCOWN</th>\n",
              "      <th>CALLWAIT</th>\n",
              "      <th>MOU</th>\n",
              "      <th>INCALLS</th>\n",
              "      <th>EQPDAYS</th>\n",
              "      <th>DROPVCE</th>\n",
              "      <th>ROAM</th>\n",
              "      <th>REVENUE</th>\n",
              "      <th>RECCHRGE</th>\n",
              "      <th>PEAKVCE</th>\n",
              "      <th>OUTCALLS</th>\n",
              "    </tr>\n",
              "  </thead>\n",
              "  <tbody>\n",
              "    <tr>\n",
              "      <th>0</th>\n",
              "      <td>0.0</td>\n",
              "      <td>0</td>\n",
              "      <td>0</td>\n",
              "      <td>0</td>\n",
              "      <td>0</td>\n",
              "      <td>1</td>\n",
              "      <td>0</td>\n",
              "      <td>0</td>\n",
              "      <td>0</td>\n",
              "      <td>0</td>\n",
              "      <td>0</td>\n",
              "      <td>0</td>\n",
              "      <td>0</td>\n",
              "      <td>0</td>\n",
              "      <td>1</td>\n",
              "      <td>22</td>\n",
              "      <td>3.0</td>\n",
              "      <td>3.0</td>\n",
              "      <td>0</td>\n",
              "      <td>2.666667</td>\n",
              "      <td>185.75</td>\n",
              "      <td>0.000000</td>\n",
              "      <td>280.0</td>\n",
              "      <td>2.000000</td>\n",
              "      <td>0.00</td>\n",
              "      <td>37.5100</td>\n",
              "      <td>27.5725</td>\n",
              "      <td>48.666667</td>\n",
              "      <td>0.000000</td>\n",
              "    </tr>\n",
              "    <tr>\n",
              "      <th>1</th>\n",
              "      <td>0.0</td>\n",
              "      <td>0</td>\n",
              "      <td>0</td>\n",
              "      <td>0</td>\n",
              "      <td>0</td>\n",
              "      <td>1</td>\n",
              "      <td>0</td>\n",
              "      <td>0</td>\n",
              "      <td>0</td>\n",
              "      <td>0</td>\n",
              "      <td>0</td>\n",
              "      <td>0</td>\n",
              "      <td>0</td>\n",
              "      <td>0</td>\n",
              "      <td>1</td>\n",
              "      <td>25</td>\n",
              "      <td>5.0</td>\n",
              "      <td>7.0</td>\n",
              "      <td>0</td>\n",
              "      <td>102.000000</td>\n",
              "      <td>3294.25</td>\n",
              "      <td>181.666667</td>\n",
              "      <td>51.0</td>\n",
              "      <td>124.000000</td>\n",
              "      <td>0.00</td>\n",
              "      <td>191.6100</td>\n",
              "      <td>114.1025</td>\n",
              "      <td>800.666667</td>\n",
              "      <td>240.333333</td>\n",
              "    </tr>\n",
              "    <tr>\n",
              "      <th>2</th>\n",
              "      <td>0.0</td>\n",
              "      <td>0</td>\n",
              "      <td>0</td>\n",
              "      <td>0</td>\n",
              "      <td>0</td>\n",
              "      <td>1</td>\n",
              "      <td>0</td>\n",
              "      <td>0</td>\n",
              "      <td>0</td>\n",
              "      <td>0</td>\n",
              "      <td>0</td>\n",
              "      <td>0</td>\n",
              "      <td>0</td>\n",
              "      <td>0</td>\n",
              "      <td>0</td>\n",
              "      <td>7</td>\n",
              "      <td>1.0</td>\n",
              "      <td>1.0</td>\n",
              "      <td>0</td>\n",
              "      <td>0.000000</td>\n",
              "      <td>2582.00</td>\n",
              "      <td>1.000000</td>\n",
              "      <td>188.0</td>\n",
              "      <td>9.333333</td>\n",
              "      <td>22.47</td>\n",
              "      <td>187.7200</td>\n",
              "      <td>122.4925</td>\n",
              "      <td>386.000000</td>\n",
              "      <td>46.666667</td>\n",
              "    </tr>\n",
              "    <tr>\n",
              "      <th>3</th>\n",
              "      <td>0.0</td>\n",
              "      <td>0</td>\n",
              "      <td>0</td>\n",
              "      <td>0</td>\n",
              "      <td>0</td>\n",
              "      <td>1</td>\n",
              "      <td>0</td>\n",
              "      <td>0</td>\n",
              "      <td>0</td>\n",
              "      <td>0</td>\n",
              "      <td>0</td>\n",
              "      <td>0</td>\n",
              "      <td>0</td>\n",
              "      <td>0</td>\n",
              "      <td>0</td>\n",
              "      <td>9</td>\n",
              "      <td>1.0</td>\n",
              "      <td>1.0</td>\n",
              "      <td>0</td>\n",
              "      <td>0.666667</td>\n",
              "      <td>278.75</td>\n",
              "      <td>5.666667</td>\n",
              "      <td>243.0</td>\n",
              "      <td>7.333333</td>\n",
              "      <td>0.00</td>\n",
              "      <td>54.6325</td>\n",
              "      <td>64.4275</td>\n",
              "      <td>32.666667</td>\n",
              "      <td>24.000000</td>\n",
              "    </tr>\n",
              "    <tr>\n",
              "      <th>4</th>\n",
              "      <td>0.0</td>\n",
              "      <td>0</td>\n",
              "      <td>0</td>\n",
              "      <td>0</td>\n",
              "      <td>0</td>\n",
              "      <td>1</td>\n",
              "      <td>0</td>\n",
              "      <td>0</td>\n",
              "      <td>0</td>\n",
              "      <td>0</td>\n",
              "      <td>0</td>\n",
              "      <td>0</td>\n",
              "      <td>0</td>\n",
              "      <td>0</td>\n",
              "      <td>0</td>\n",
              "      <td>9</td>\n",
              "      <td>1.0</td>\n",
              "      <td>1.0</td>\n",
              "      <td>0</td>\n",
              "      <td>0.000000</td>\n",
              "      <td>260.75</td>\n",
              "      <td>6.333333</td>\n",
              "      <td>243.0</td>\n",
              "      <td>13.666667</td>\n",
              "      <td>0.00</td>\n",
              "      <td>50.3000</td>\n",
              "      <td>33.7000</td>\n",
              "      <td>33.000000</td>\n",
              "      <td>30.666667</td>\n",
              "    </tr>\n",
              "  </tbody>\n",
              "</table>\n",
              "</div>"
            ],
            "text/plain": [
              "   AGE1  CHILDREN  CHURN  MARRYYES  ...   REVENUE  RECCHRGE     PEAKVCE    OUTCALLS\n",
              "0   0.0         0      0         0  ...   37.5100   27.5725   48.666667    0.000000\n",
              "1   0.0         0      0         0  ...  191.6100  114.1025  800.666667  240.333333\n",
              "2   0.0         0      0         0  ...  187.7200  122.4925  386.000000   46.666667\n",
              "3   0.0         0      0         0  ...   54.6325   64.4275   32.666667   24.000000\n",
              "4   0.0         0      0         0  ...   50.3000   33.7000   33.000000   30.666667\n",
              "\n",
              "[5 rows x 29 columns]"
            ]
          },
          "metadata": {
            "tags": []
          },
          "execution_count": 25
        }
      ]
    },
    {
      "cell_type": "markdown",
      "metadata": {
        "id": "eRlugUuHF8xb",
        "colab_type": "text"
      },
      "source": [
        "##### Corelation test with target value (Churn)"
      ]
    },
    {
      "cell_type": "code",
      "metadata": {
        "id": "KRyqsfCty5SL",
        "colab_type": "code",
        "outputId": "1d65214d-5b2c-465e-adfc-0852b009bcbd",
        "colab": {
          "base_uri": "https://localhost:8080/",
          "height": 307
        }
      },
      "source": [
        "df.describe(include='all')"
      ],
      "execution_count": 0,
      "outputs": [
        {
          "output_type": "execute_result",
          "data": {
            "text/html": [
              "<div>\n",
              "<style scoped>\n",
              "    .dataframe tbody tr th:only-of-type {\n",
              "        vertical-align: middle;\n",
              "    }\n",
              "\n",
              "    .dataframe tbody tr th {\n",
              "        vertical-align: top;\n",
              "    }\n",
              "\n",
              "    .dataframe thead th {\n",
              "        text-align: right;\n",
              "    }\n",
              "</style>\n",
              "<table border=\"1\" class=\"dataframe\">\n",
              "  <thead>\n",
              "    <tr style=\"text-align: right;\">\n",
              "      <th></th>\n",
              "      <th>AGE1</th>\n",
              "      <th>CHILDREN</th>\n",
              "      <th>CHURN</th>\n",
              "      <th>MARRYYES</th>\n",
              "      <th>MARRYNO</th>\n",
              "      <th>MARRYUN</th>\n",
              "      <th>INCOME</th>\n",
              "      <th>OCCSTUD</th>\n",
              "      <th>OCCSELF</th>\n",
              "      <th>OCCRET</th>\n",
              "      <th>OCCPROF</th>\n",
              "      <th>OCCHMKR</th>\n",
              "      <th>OCCCRFT</th>\n",
              "      <th>OCCCLER</th>\n",
              "      <th>NEWCELLY</th>\n",
              "      <th>MONTHS</th>\n",
              "      <th>MODELS</th>\n",
              "      <th>PHONES</th>\n",
              "      <th>PCOWN</th>\n",
              "      <th>CALLWAIT</th>\n",
              "      <th>MOU</th>\n",
              "      <th>INCALLS</th>\n",
              "      <th>EQPDAYS</th>\n",
              "      <th>DROPVCE</th>\n",
              "      <th>ROAM</th>\n",
              "      <th>REVENUE</th>\n",
              "      <th>RECCHRGE</th>\n",
              "      <th>PEAKVCE</th>\n",
              "      <th>OUTCALLS</th>\n",
              "    </tr>\n",
              "  </thead>\n",
              "  <tbody>\n",
              "    <tr>\n",
              "      <th>count</th>\n",
              "      <td>71046.000000</td>\n",
              "      <td>71046.000000</td>\n",
              "      <td>71046.000000</td>\n",
              "      <td>71046.000000</td>\n",
              "      <td>71046.000000</td>\n",
              "      <td>71046.000000</td>\n",
              "      <td>71046.000000</td>\n",
              "      <td>71046.000000</td>\n",
              "      <td>71046.000000</td>\n",
              "      <td>71046.000000</td>\n",
              "      <td>71046.000000</td>\n",
              "      <td>71046.000000</td>\n",
              "      <td>71046.000000</td>\n",
              "      <td>71046.000000</td>\n",
              "      <td>71046.000000</td>\n",
              "      <td>71046.000000</td>\n",
              "      <td>71046.000000</td>\n",
              "      <td>71046.000000</td>\n",
              "      <td>71046.000000</td>\n",
              "      <td>71046.000000</td>\n",
              "      <td>71046.000000</td>\n",
              "      <td>71046.000000</td>\n",
              "      <td>71046.000000</td>\n",
              "      <td>71046.000000</td>\n",
              "      <td>71046.000000</td>\n",
              "      <td>71046.000000</td>\n",
              "      <td>71046.000000</td>\n",
              "      <td>71046.000000</td>\n",
              "      <td>71046.000000</td>\n",
              "    </tr>\n",
              "    <tr>\n",
              "      <th>mean</th>\n",
              "      <td>31.456535</td>\n",
              "      <td>0.242392</td>\n",
              "      <td>0.290080</td>\n",
              "      <td>0.365383</td>\n",
              "      <td>0.249810</td>\n",
              "      <td>0.384807</td>\n",
              "      <td>4.334290</td>\n",
              "      <td>0.007573</td>\n",
              "      <td>0.017834</td>\n",
              "      <td>0.014512</td>\n",
              "      <td>0.173901</td>\n",
              "      <td>0.003153</td>\n",
              "      <td>0.029643</td>\n",
              "      <td>0.020057</td>\n",
              "      <td>0.192945</td>\n",
              "      <td>18.750908</td>\n",
              "      <td>1.561791</td>\n",
              "      <td>1.808617</td>\n",
              "      <td>0.185415</td>\n",
              "      <td>1.853060</td>\n",
              "      <td>525.250172</td>\n",
              "      <td>8.176914</td>\n",
              "      <td>380.265631</td>\n",
              "      <td>6.010052</td>\n",
              "      <td>1.217376</td>\n",
              "      <td>58.821163</td>\n",
              "      <td>46.870005</td>\n",
              "      <td>90.582221</td>\n",
              "      <td>25.396884</td>\n",
              "    </tr>\n",
              "    <tr>\n",
              "      <th>std</th>\n",
              "      <td>21.896254</td>\n",
              "      <td>0.428533</td>\n",
              "      <td>0.453802</td>\n",
              "      <td>0.481541</td>\n",
              "      <td>0.432906</td>\n",
              "      <td>0.486553</td>\n",
              "      <td>3.137043</td>\n",
              "      <td>0.086691</td>\n",
              "      <td>0.132347</td>\n",
              "      <td>0.119588</td>\n",
              "      <td>0.379027</td>\n",
              "      <td>0.056062</td>\n",
              "      <td>0.169601</td>\n",
              "      <td>0.140198</td>\n",
              "      <td>0.394613</td>\n",
              "      <td>9.787614</td>\n",
              "      <td>0.908280</td>\n",
              "      <td>1.336120</td>\n",
              "      <td>0.388637</td>\n",
              "      <td>5.556237</td>\n",
              "      <td>529.400866</td>\n",
              "      <td>16.519147</td>\n",
              "      <td>254.294692</td>\n",
              "      <td>9.006160</td>\n",
              "      <td>9.067585</td>\n",
              "      <td>44.180189</td>\n",
              "      <td>23.878632</td>\n",
              "      <td>104.915054</td>\n",
              "      <td>35.147630</td>\n",
              "    </tr>\n",
              "    <tr>\n",
              "      <th>min</th>\n",
              "      <td>0.000000</td>\n",
              "      <td>0.000000</td>\n",
              "      <td>0.000000</td>\n",
              "      <td>0.000000</td>\n",
              "      <td>0.000000</td>\n",
              "      <td>0.000000</td>\n",
              "      <td>0.000000</td>\n",
              "      <td>0.000000</td>\n",
              "      <td>0.000000</td>\n",
              "      <td>0.000000</td>\n",
              "      <td>0.000000</td>\n",
              "      <td>0.000000</td>\n",
              "      <td>0.000000</td>\n",
              "      <td>0.000000</td>\n",
              "      <td>0.000000</td>\n",
              "      <td>6.000000</td>\n",
              "      <td>1.000000</td>\n",
              "      <td>1.000000</td>\n",
              "      <td>0.000000</td>\n",
              "      <td>0.000000</td>\n",
              "      <td>0.000000</td>\n",
              "      <td>0.000000</td>\n",
              "      <td>-5.000000</td>\n",
              "      <td>0.000000</td>\n",
              "      <td>0.000000</td>\n",
              "      <td>-6.167500</td>\n",
              "      <td>-11.290000</td>\n",
              "      <td>0.000000</td>\n",
              "      <td>0.000000</td>\n",
              "    </tr>\n",
              "    <tr>\n",
              "      <th>25%</th>\n",
              "      <td>0.000000</td>\n",
              "      <td>0.000000</td>\n",
              "      <td>0.000000</td>\n",
              "      <td>0.000000</td>\n",
              "      <td>0.000000</td>\n",
              "      <td>0.000000</td>\n",
              "      <td>1.000000</td>\n",
              "      <td>0.000000</td>\n",
              "      <td>0.000000</td>\n",
              "      <td>0.000000</td>\n",
              "      <td>0.000000</td>\n",
              "      <td>0.000000</td>\n",
              "      <td>0.000000</td>\n",
              "      <td>0.000000</td>\n",
              "      <td>0.000000</td>\n",
              "      <td>11.000000</td>\n",
              "      <td>1.000000</td>\n",
              "      <td>1.000000</td>\n",
              "      <td>0.000000</td>\n",
              "      <td>0.000000</td>\n",
              "      <td>158.750000</td>\n",
              "      <td>0.000000</td>\n",
              "      <td>204.000000</td>\n",
              "      <td>0.666667</td>\n",
              "      <td>0.000000</td>\n",
              "      <td>33.695625</td>\n",
              "      <td>30.000000</td>\n",
              "      <td>23.000000</td>\n",
              "      <td>3.333333</td>\n",
              "    </tr>\n",
              "    <tr>\n",
              "      <th>50%</th>\n",
              "      <td>36.000000</td>\n",
              "      <td>0.000000</td>\n",
              "      <td>0.000000</td>\n",
              "      <td>0.000000</td>\n",
              "      <td>0.000000</td>\n",
              "      <td>0.000000</td>\n",
              "      <td>5.000000</td>\n",
              "      <td>0.000000</td>\n",
              "      <td>0.000000</td>\n",
              "      <td>0.000000</td>\n",
              "      <td>0.000000</td>\n",
              "      <td>0.000000</td>\n",
              "      <td>0.000000</td>\n",
              "      <td>0.000000</td>\n",
              "      <td>0.000000</td>\n",
              "      <td>16.000000</td>\n",
              "      <td>1.000000</td>\n",
              "      <td>1.000000</td>\n",
              "      <td>0.000000</td>\n",
              "      <td>0.333333</td>\n",
              "      <td>366.000000</td>\n",
              "      <td>2.000000</td>\n",
              "      <td>330.000000</td>\n",
              "      <td>3.000000</td>\n",
              "      <td>0.000000</td>\n",
              "      <td>48.530000</td>\n",
              "      <td>44.990000</td>\n",
              "      <td>62.000000</td>\n",
              "      <td>13.666667</td>\n",
              "    </tr>\n",
              "    <tr>\n",
              "      <th>75%</th>\n",
              "      <td>48.000000</td>\n",
              "      <td>0.000000</td>\n",
              "      <td>1.000000</td>\n",
              "      <td>1.000000</td>\n",
              "      <td>0.000000</td>\n",
              "      <td>1.000000</td>\n",
              "      <td>7.000000</td>\n",
              "      <td>0.000000</td>\n",
              "      <td>0.000000</td>\n",
              "      <td>0.000000</td>\n",
              "      <td>0.000000</td>\n",
              "      <td>0.000000</td>\n",
              "      <td>0.000000</td>\n",
              "      <td>0.000000</td>\n",
              "      <td>0.000000</td>\n",
              "      <td>24.000000</td>\n",
              "      <td>2.000000</td>\n",
              "      <td>2.000000</td>\n",
              "      <td>0.000000</td>\n",
              "      <td>1.333333</td>\n",
              "      <td>719.750000</td>\n",
              "      <td>9.333333</td>\n",
              "      <td>515.000000</td>\n",
              "      <td>7.666667</td>\n",
              "      <td>0.257500</td>\n",
              "      <td>70.906875</td>\n",
              "      <td>59.990000</td>\n",
              "      <td>121.250000</td>\n",
              "      <td>34.000000</td>\n",
              "    </tr>\n",
              "    <tr>\n",
              "      <th>max</th>\n",
              "      <td>99.000000</td>\n",
              "      <td>1.000000</td>\n",
              "      <td>1.000000</td>\n",
              "      <td>1.000000</td>\n",
              "      <td>1.000000</td>\n",
              "      <td>1.000000</td>\n",
              "      <td>9.000000</td>\n",
              "      <td>1.000000</td>\n",
              "      <td>1.000000</td>\n",
              "      <td>1.000000</td>\n",
              "      <td>1.000000</td>\n",
              "      <td>1.000000</td>\n",
              "      <td>1.000000</td>\n",
              "      <td>1.000000</td>\n",
              "      <td>1.000000</td>\n",
              "      <td>61.000000</td>\n",
              "      <td>16.000000</td>\n",
              "      <td>28.000000</td>\n",
              "      <td>1.000000</td>\n",
              "      <td>212.666667</td>\n",
              "      <td>7667.750000</td>\n",
              "      <td>519.333333</td>\n",
              "      <td>1823.000000</td>\n",
              "      <td>221.666667</td>\n",
              "      <td>1112.447500</td>\n",
              "      <td>1223.380000</td>\n",
              "      <td>399.990000</td>\n",
              "      <td>2090.666667</td>\n",
              "      <td>644.333333</td>\n",
              "    </tr>\n",
              "  </tbody>\n",
              "</table>\n",
              "</div>"
            ],
            "text/plain": [
              "               AGE1      CHILDREN  ...       PEAKVCE      OUTCALLS\n",
              "count  71046.000000  71046.000000  ...  71046.000000  71046.000000\n",
              "mean      31.456535      0.242392  ...     90.582221     25.396884\n",
              "std       21.896254      0.428533  ...    104.915054     35.147630\n",
              "min        0.000000      0.000000  ...      0.000000      0.000000\n",
              "25%        0.000000      0.000000  ...     23.000000      3.333333\n",
              "50%       36.000000      0.000000  ...     62.000000     13.666667\n",
              "75%       48.000000      0.000000  ...    121.250000     34.000000\n",
              "max       99.000000      1.000000  ...   2090.666667    644.333333\n",
              "\n",
              "[8 rows x 29 columns]"
            ]
          },
          "metadata": {
            "tags": []
          },
          "execution_count": 26
        }
      ]
    },
    {
      "cell_type": "code",
      "metadata": {
        "id": "i-Ey9atT1UbD",
        "colab_type": "code",
        "colab": {}
      },
      "source": [
        "df1=df[['CHURN','REVENUE']]"
      ],
      "execution_count": 0,
      "outputs": []
    },
    {
      "cell_type": "code",
      "metadata": {
        "id": "r5IgiG6szMJi",
        "colab_type": "code",
        "outputId": "bac2875f-1704-440b-c738-7fc5801f9640",
        "colab": {
          "base_uri": "https://localhost:8080/",
          "height": 453
        }
      },
      "source": [
        "sns.pairplot(df1, hue='CHURN')"
      ],
      "execution_count": 0,
      "outputs": [
        {
          "output_type": "stream",
          "text": [
            "/usr/local/lib/python3.6/dist-packages/statsmodels/nonparametric/kde.py:487: RuntimeWarning: invalid value encountered in true_divide\n",
            "  binned = fast_linbin(X, a, b, gridsize) / (delta * nobs)\n",
            "/usr/local/lib/python3.6/dist-packages/statsmodels/nonparametric/kdetools.py:34: RuntimeWarning: invalid value encountered in double_scalars\n",
            "  FAC1 = 2*(np.pi*bw/RANGE)**2\n"
          ],
          "name": "stderr"
        },
        {
          "output_type": "execute_result",
          "data": {
            "text/plain": [
              "<seaborn.axisgrid.PairGrid at 0x7f9d31145e48>"
            ]
          },
          "metadata": {
            "tags": []
          },
          "execution_count": 28
        },
        {
          "output_type": "display_data",
          "data": {
            "image/png": "[encoded data removed]",
            "text/plain": [
              "<Figure size 404.125x360 with 6 Axes>"
            ]
          },
          "metadata": {
            "tags": []
          }
        }
      ]
    },
    {
      "cell_type": "code",
      "metadata": {
        "id": "MuT8z6qg2uNU",
        "colab_type": "code",
        "outputId": "2d5b5d25-bcea-4404-8694-b291373ef244",
        "colab": {
          "base_uri": "https://localhost:8080/",
          "height": 330
        }
      },
      "source": [
        "sns.heatmap(df.corr(), annot=True)"
      ],
      "execution_count": 0,
      "outputs": [
        {
          "output_type": "execute_result",
          "data": {
            "text/plain": [
              "<matplotlib.axes._subplots.AxesSubplot at 0x7f9d2e763cc0>"
            ]
          },
          "metadata": {
            "tags": []
          },
          "execution_count": 29
        },
        {
          "output_type": "display_data",
          "data": {
            "image/png": "[encoded data removed]",
            "text/plain": [
              "<Figure size 432x288 with 2 Axes>"
            ]
          },
          "metadata": {
            "tags": []
          }
        }
      ]
    },
    {
      "cell_type": "code",
      "metadata": {
        "id": "_oDE6_aHF8xc",
        "colab_type": "code",
        "outputId": "9a76652b-020f-4c38-84eb-8411f1c4f0d8",
        "colab": {
          "base_uri": "https://localhost:8080/",
          "height": 302
        }
      },
      "source": [
        "corr = df2.corr()\n",
        "\n",
        "ax = sns.heatmap(\n",
        "    corr, \n",
        "    vmin=-1, vmax=1, center=0,\n",
        "    cmap=sns.diverging_palette(20, 220, n=200),\n",
        "    square=True\n",
        ")\n",
        "ax.set_xticklabels(\n",
        "    ax.get_xticklabels(),\n",
        "    rotation=45,\n",
        "    horizontalalignment='right'\n",
        ");"
      ],
      "execution_count": 0,
      "outputs": [
        {
          "output_type": "display_data",
          "data": {
            "image/png": "[encoded data removed]",
            "text/plain": [
              "<Figure size 432x288 with 2 Axes>"
            ]
          },
          "metadata": {
            "tags": []
          }
        }
      ]
    },
    {
      "cell_type": "markdown",
      "metadata": {
        "id": "KRSQZlwKEoLJ",
        "colab_type": "text"
      },
      "source": [
        "#### Revenue outlier Analysis"
      ]
    },
    {
      "cell_type": "code",
      "metadata": {
        "id": "G4bKigE0BnCD",
        "colab_type": "code",
        "outputId": "b8c11d58-18cb-45ff-e8db-fa1341587ebb",
        "colab": {
          "base_uri": "https://localhost:8080/",
          "height": 282
        }
      },
      "source": [
        "df.boxplot(column =['REVENUE'], grid = False) "
      ],
      "execution_count": 0,
      "outputs": [
        {
          "output_type": "execute_result",
          "data": {
            "text/plain": [
              "<matplotlib.axes._subplots.AxesSubplot at 0x7f9d2cf8d0f0>"
            ]
          },
          "metadata": {
            "tags": []
          },
          "execution_count": 31
        },
        {
          "output_type": "display_data",
          "data": {
            "image/png": "[encoded data removed]",
            "text/plain": [
              "<Figure size 432x288 with 1 Axes>"
            ]
          },
          "metadata": {
            "tags": []
          }
        }
      ]
    },
    {
      "cell_type": "code",
      "metadata": {
        "id": "APMH7ytwCHeh",
        "colab_type": "code",
        "outputId": "6a3779cb-df4b-4b43-ad96-238bfedfc70f",
        "colab": {
          "base_uri": "https://localhost:8080/",
          "height": 283
        }
      },
      "source": [
        "rev=df2[df2['REVENUE'].notnull()]['REVENUE']\n",
        "print(\"arr : \",rev)  \n",
        "print(\"5th percentile of arr : \",  \n",
        "       np.percentile(rev, 5)) \n",
        "print(\"25th percentile of arr : \", \n",
        "       np.percentile(rev, 25)) \n",
        "print(\"99.7th percentile of arr : \", \n",
        "       np.percentile(rev, 99.7)) "
      ],
      "execution_count": 0,
      "outputs": [
        {
          "output_type": "stream",
          "text": [
            "arr :  0         37.5100\n",
            "1        191.6100\n",
            "2        187.7200\n",
            "3         54.6325\n",
            "4         50.3000\n",
            "           ...   \n",
            "71042    186.7075\n",
            "71043     98.7525\n",
            "71044     16.9900\n",
            "71045     80.1450\n",
            "71046     67.7375\n",
            "Name: REVENUE, Length: 71046, dtype: float64\n",
            "5th percentile of arr :  15.5675\n",
            "25th percentile of arr :  33.695625\n",
            "99.7th percentile of arr :  317.4488625000004\n"
          ],
          "name": "stdout"
        }
      ]
    },
    {
      "cell_type": "code",
      "metadata": {
        "id": "aAdV8mu3CoKD",
        "colab_type": "code",
        "colab": {}
      },
      "source": [
        "df2.loc[df2['REVENUE'] > 317, 'REVENUE'] = 317\n",
        "df2.loc[df2['REVENUE'] < 15, 'REVENUE'] = 15"
      ],
      "execution_count": 0,
      "outputs": []
    },
    {
      "cell_type": "code",
      "metadata": {
        "id": "-DIU8MXRCzaJ",
        "colab_type": "code",
        "outputId": "1377a850-d383-4c42-f55e-b084c503a8c9",
        "colab": {
          "base_uri": "https://localhost:8080/",
          "height": 282
        }
      },
      "source": [
        "df2.boxplot(column =['REVENUE'], grid = False) "
      ],
      "execution_count": 0,
      "outputs": [
        {
          "output_type": "execute_result",
          "data": {
            "text/plain": [
              "<matplotlib.axes._subplots.AxesSubplot at 0x7f9d2c877d30>"
            ]
          },
          "metadata": {
            "tags": []
          },
          "execution_count": 34
        },
        {
          "output_type": "display_data",
          "data": {
            "image/png": "[encoded data removed]",
            "text/plain": [
              "<Figure size 432x288 with 1 Axes>"
            ]
          },
          "metadata": {
            "tags": []
          }
        }
      ]
    },
    {
      "cell_type": "markdown",
      "metadata": {
        "id": "ccI-lyo4E1Jf",
        "colab_type": "text"
      },
      "source": [
        "#### EQPDAYS outlier analysis"
      ]
    },
    {
      "cell_type": "code",
      "metadata": {
        "id": "DbXDmbnxExdc",
        "colab_type": "code",
        "outputId": "83bfe6d6-0413-41c0-d087-5c150f328656",
        "colab": {
          "base_uri": "https://localhost:8080/",
          "height": 282
        }
      },
      "source": [
        "df2.boxplot(column =['EQPDAYS'], grid = False) "
      ],
      "execution_count": 0,
      "outputs": [
        {
          "output_type": "execute_result",
          "data": {
            "text/plain": [
              "<matplotlib.axes._subplots.AxesSubplot at 0x7f9d2b01b240>"
            ]
          },
          "metadata": {
            "tags": []
          },
          "execution_count": 35
        },
        {
          "output_type": "display_data",
          "data": {
            "image/png": "[encoded data removed]",
            "text/plain": [
              "<Figure size 432x288 with 1 Axes>"
            ]
          },
          "metadata": {
            "tags": []
          }
        }
      ]
    },
    {
      "cell_type": "code",
      "metadata": {
        "id": "uKHjJD4FFeC1",
        "colab_type": "code",
        "colab": {}
      },
      "source": [
        "df2.loc[df2['EQPDAYS'] > 1368, 'EQPDAYS'] = 1368\n",
        "df2.loc[df2['ROAM'] > 46, 'ROAM'] = 46\n",
        "df2.loc[df2['RECCHRGE'] > 160, 'RECCHRGE'] = 160\n",
        "df2.loc[df2['PEAKVCE'] > 701, 'PEAKVCE'] = 701"
      ],
      "execution_count": 0,
      "outputs": []
    },
    {
      "cell_type": "markdown",
      "metadata": {
        "id": "aTAI77cvF8xg",
        "colab_type": "text"
      },
      "source": [
        "##### Relation of Income against Churn"
      ]
    },
    {
      "cell_type": "code",
      "metadata": {
        "id": "vlQtagbDF8xh",
        "colab_type": "code",
        "outputId": "9efd2914-364f-4d70-a063-c2a6fb724d2d",
        "colab": {
          "base_uri": "https://localhost:8080/",
          "height": 296
        }
      },
      "source": [
        "import seaborn as sns\n",
        "\n",
        "sns.boxplot(x = df2.CHURN, y = df2.INCOME)"
      ],
      "execution_count": 0,
      "outputs": [
        {
          "output_type": "execute_result",
          "data": {
            "text/plain": [
              "<matplotlib.axes._subplots.AxesSubplot at 0x7f9d2c9815f8>"
            ]
          },
          "metadata": {
            "tags": []
          },
          "execution_count": 37
        },
        {
          "output_type": "display_data",
          "data": {
            "image/png": "[encoded data removed]",
            "text/plain": [
              "<Figure size 432x288 with 1 Axes>"
            ]
          },
          "metadata": {
            "tags": []
          }
        }
      ]
    },
    {
      "cell_type": "markdown",
      "metadata": {
        "id": "u3VhmfL8F8xk",
        "colab_type": "text"
      },
      "source": [
        "##### Relation of Marry against CHURN"
      ]
    },
    {
      "cell_type": "code",
      "metadata": {
        "id": "M-vXIQf_F8xm",
        "colab_type": "code",
        "outputId": "798f8690-5c4a-42d4-e9ec-8f47f7fc318a",
        "colab": {
          "base_uri": "https://localhost:8080/",
          "height": 386
        }
      },
      "source": [
        "sns.catplot(x=\"MARRYNO\", kind=\"count\", hue=\"CHURN\", data=df2,\n",
        "                  estimator=lambda x: sum(x==0)*100.0/len(x))"
      ],
      "execution_count": 0,
      "outputs": [
        {
          "output_type": "execute_result",
          "data": {
            "text/plain": [
              "<seaborn.axisgrid.FacetGrid at 0x7f9d2c86f198>"
            ]
          },
          "metadata": {
            "tags": []
          },
          "execution_count": 38
        },
        {
          "output_type": "display_data",
          "data": {
            "image/png": "[encoded data removed]",
            "text/plain": [
              "<Figure size 404.125x360 with 1 Axes>"
            ]
          },
          "metadata": {
            "tags": []
          }
        }
      ]
    },
    {
      "cell_type": "markdown",
      "metadata": {
        "id": "ImodIy8bsytt",
        "colab_type": "text"
      },
      "source": [
        "##### scaling data"
      ]
    },
    {
      "cell_type": "code",
      "metadata": {
        "id": "EUuMdNnsqypj",
        "colab_type": "code",
        "colab": {}
      },
      "source": [
        "from sklearn.preprocessing import StandardScaler\n",
        "from sklearn import preprocessing\n",
        "#scaler = preprocessing.MinMaxScaler()\n",
        "scaler= preprocessing.StandardScaler()\n",
        "X = df2.drop('CHURN',axis= 1)\n",
        "y = df2.CHURN\n",
        "X[['AGE1', 'CALLWAIT','MOU','INCALLS','EQPDAYS','DROPVCE','ROAM','REVENUE','RECCHRGE','PEAKVCE','OUTCALLS']] = scaler.fit_transform(X[['AGE1', 'CALLWAIT','MOU','INCALLS','EQPDAYS','DROPVCE','ROAM','REVENUE','RECCHRGE','PEAKVCE','OUTCALLS']])"
      ],
      "execution_count": 0,
      "outputs": []
    },
    {
      "cell_type": "markdown",
      "metadata": {
        "id": "LqYsCcd5F8xp",
        "colab_type": "text"
      },
      "source": [
        "##### splitting data into training and testing set"
      ]
    },
    {
      "cell_type": "code",
      "metadata": {
        "id": "IISRiKzEF8xq",
        "colab_type": "code",
        "colab": {}
      },
      "source": [
        "from sklearn.model_selection import train_test_split\n",
        "X_train, X_test, y_train, y_test = train_test_split(X, y, test_size=0.3, random_state=101)"
      ],
      "execution_count": 0,
      "outputs": []
    },
    {
      "cell_type": "markdown",
      "metadata": {
        "id": "DoHemAxWF8xt",
        "colab_type": "text"
      },
      "source": [
        "##### Building basic ML model for Feature importance test"
      ]
    },
    {
      "cell_type": "code",
      "metadata": {
        "id": "yYbCd2MAF8xu",
        "colab_type": "code",
        "outputId": "59f5860f-dd27-4259-b92b-2d1eccd68fb3",
        "colab": {
          "base_uri": "https://localhost:8080/",
          "height": 72
        }
      },
      "source": [
        "from sklearn.linear_model import LogisticRegression\n",
        "from sklearn.metrics import accuracy_score\n",
        "model = LogisticRegression()\n",
        "result=model.fit(X_train, y_train)\n",
        "y_pred = model.predict(X_test)"
      ],
      "execution_count": 0,
      "outputs": [
        {
          "output_type": "stream",
          "text": [
            "/usr/local/lib/python3.6/dist-packages/sklearn/linear_model/logistic.py:432: FutureWarning: Default solver will be changed to 'lbfgs' in 0.22. Specify a solver to silence this warning.\n",
            "  FutureWarning)\n"
          ],
          "name": "stderr"
        }
      ]
    },
    {
      "cell_type": "code",
      "metadata": {
        "id": "HtoyMFo3F8x0",
        "colab_type": "code",
        "outputId": "ecdfbe38-9280-42a7-ed62-92fbb58487d2",
        "colab": {
          "base_uri": "https://localhost:8080/",
          "height": 34
        }
      },
      "source": [
        "print('Accuracy using LOgistic regression model is ',np.round(accuracy_score(y_test, y_pred)*100),\"%\")"
      ],
      "execution_count": 0,
      "outputs": [
        {
          "output_type": "stream",
          "text": [
            "Accuracy using LOgistic regression model is  71.0 %\n"
          ],
          "name": "stdout"
        }
      ]
    },
    {
      "cell_type": "markdown",
      "metadata": {
        "id": "-pbfrvmHF8x8",
        "colab_type": "text"
      },
      "source": [
        "##### Featur importance"
      ]
    },
    {
      "cell_type": "code",
      "metadata": {
        "colab_type": "code",
        "outputId": "4d1abf1b-3202-41cd-a085-78001367a477",
        "id": "bNsfBhRRtYGq",
        "colab": {
          "base_uri": "https://localhost:8080/",
          "height": 728
        }
      },
      "source": [
        "import statsmodels.api as sm\n",
        "logit_model = sm.Logit(y_train,X_train).fit()\n",
        "logit_model.summary()"
      ],
      "execution_count": 0,
      "outputs": [
        {
          "output_type": "stream",
          "text": [
            "Optimization terminated successfully.\n",
            "         Current function value: 0.591447\n",
            "         Iterations 5\n"
          ],
          "name": "stdout"
        },
        {
          "output_type": "execute_result",
          "data": {
            "text/html": [
              "<table class=\"simpletable\">\n",
              "<caption>Logit Regression Results</caption>\n",
              "<tr>\n",
              "  <th>Dep. Variable:</th>         <td>CHURN</td>      <th>  No. Observations:  </th>   <td> 49732</td>  \n",
              "</tr>\n",
              "<tr>\n",
              "  <th>Model:</th>                 <td>Logit</td>      <th>  Df Residuals:      </th>   <td> 49704</td>  \n",
              "</tr>\n",
              "<tr>\n",
              "  <th>Method:</th>                 <td>MLE</td>       <th>  Df Model:          </th>   <td>    27</td>  \n",
              "</tr>\n",
              "<tr>\n",
              "  <th>Date:</th>            <td>Thu, 05 Dec 2019</td> <th>  Pseudo R-squ.:     </th>   <td>0.01739</td> \n",
              "</tr>\n",
              "<tr>\n",
              "  <th>Time:</th>                <td>09:40:04</td>     <th>  Log-Likelihood:    </th>  <td> -29414.</td> \n",
              "</tr>\n",
              "<tr>\n",
              "  <th>converged:</th>             <td>True</td>       <th>  LL-Null:           </th>  <td> -29934.</td> \n",
              "</tr>\n",
              "<tr>\n",
              "  <th>Covariance Type:</th>     <td>nonrobust</td>    <th>  LLR p-value:       </th> <td>5.031e-202</td>\n",
              "</tr>\n",
              "</table>\n",
              "<table class=\"simpletable\">\n",
              "<tr>\n",
              "      <td></td>        <th>coef</th>     <th>std err</th>      <th>z</th>      <th>P>|z|</th>  <th>[0.025</th>    <th>0.975]</th>  \n",
              "</tr>\n",
              "<tr>\n",
              "  <th>AGE1</th>     <td>   -0.0862</td> <td>    0.014</td> <td>   -5.962</td> <td> 0.000</td> <td>   -0.115</td> <td>   -0.058</td>\n",
              "</tr>\n",
              "<tr>\n",
              "  <th>CHILDREN</th> <td>    0.1041</td> <td>    0.027</td> <td>    3.904</td> <td> 0.000</td> <td>    0.052</td> <td>    0.156</td>\n",
              "</tr>\n",
              "<tr>\n",
              "  <th>MARRYYES</th> <td>   -0.7695</td> <td>    0.041</td> <td>  -18.816</td> <td> 0.000</td> <td>   -0.850</td> <td>   -0.689</td>\n",
              "</tr>\n",
              "<tr>\n",
              "  <th>MARRYNO</th>  <td>   -0.7944</td> <td>    0.038</td> <td>  -20.691</td> <td> 0.000</td> <td>   -0.870</td> <td>   -0.719</td>\n",
              "</tr>\n",
              "<tr>\n",
              "  <th>MARRYUN</th>  <td>   -0.7366</td> <td>    0.033</td> <td>  -22.346</td> <td> 0.000</td> <td>   -0.801</td> <td>   -0.672</td>\n",
              "</tr>\n",
              "<tr>\n",
              "  <th>INCOME</th>   <td>   -0.0038</td> <td>    0.004</td> <td>   -0.863</td> <td> 0.388</td> <td>   -0.013</td> <td>    0.005</td>\n",
              "</tr>\n",
              "<tr>\n",
              "  <th>OCCSTUD</th>  <td>    0.1469</td> <td>    0.114</td> <td>    1.286</td> <td> 0.198</td> <td>   -0.077</td> <td>    0.371</td>\n",
              "</tr>\n",
              "<tr>\n",
              "  <th>OCCSELF</th>  <td>    0.0206</td> <td>    0.079</td> <td>    0.262</td> <td> 0.793</td> <td>   -0.133</td> <td>    0.175</td>\n",
              "</tr>\n",
              "<tr>\n",
              "  <th>OCCRET</th>   <td>   -0.0555</td> <td>    0.090</td> <td>   -0.619</td> <td> 0.536</td> <td>   -0.231</td> <td>    0.120</td>\n",
              "</tr>\n",
              "<tr>\n",
              "  <th>OCCPROF</th>  <td>   -0.0343</td> <td>    0.031</td> <td>   -1.114</td> <td> 0.265</td> <td>   -0.095</td> <td>    0.026</td>\n",
              "</tr>\n",
              "<tr>\n",
              "  <th>OCCHMKR</th>  <td>    0.0671</td> <td>    0.180</td> <td>    0.373</td> <td> 0.709</td> <td>   -0.285</td> <td>    0.419</td>\n",
              "</tr>\n",
              "<tr>\n",
              "  <th>OCCCRFT</th>  <td>   -0.0410</td> <td>    0.061</td> <td>   -0.671</td> <td> 0.502</td> <td>   -0.161</td> <td>    0.079</td>\n",
              "</tr>\n",
              "<tr>\n",
              "  <th>OCCCLER</th>  <td>    0.1033</td> <td>    0.071</td> <td>    1.452</td> <td> 0.146</td> <td>   -0.036</td> <td>    0.243</td>\n",
              "</tr>\n",
              "<tr>\n",
              "  <th>NEWCELLY</th> <td>   -0.0560</td> <td>    0.026</td> <td>   -2.172</td> <td> 0.030</td> <td>   -0.107</td> <td>   -0.005</td>\n",
              "</tr>\n",
              "<tr>\n",
              "  <th>MONTHS</th>   <td>   -0.0198</td> <td>    0.002</td> <td>  -11.197</td> <td> 0.000</td> <td>   -0.023</td> <td>   -0.016</td>\n",
              "</tr>\n",
              "<tr>\n",
              "  <th>MODELS</th>   <td>    0.0639</td> <td>    0.027</td> <td>    2.390</td> <td> 0.017</td> <td>    0.012</td> <td>    0.116</td>\n",
              "</tr>\n",
              "<tr>\n",
              "  <th>PHONES</th>   <td>    0.0649</td> <td>    0.017</td> <td>    3.816</td> <td> 0.000</td> <td>    0.032</td> <td>    0.098</td>\n",
              "</tr>\n",
              "<tr>\n",
              "  <th>PCOWN</th>    <td>    0.0138</td> <td>    0.029</td> <td>    0.471</td> <td> 0.638</td> <td>   -0.044</td> <td>    0.071</td>\n",
              "</tr>\n",
              "<tr>\n",
              "  <th>CALLWAIT</th> <td>    0.0190</td> <td>    0.014</td> <td>    1.352</td> <td> 0.176</td> <td>   -0.009</td> <td>    0.047</td>\n",
              "</tr>\n",
              "<tr>\n",
              "  <th>MOU</th>      <td>   -0.1447</td> <td>    0.021</td> <td>   -6.931</td> <td> 0.000</td> <td>   -0.186</td> <td>   -0.104</td>\n",
              "</tr>\n",
              "<tr>\n",
              "  <th>INCALLS</th>  <td>   -0.0322</td> <td>    0.016</td> <td>   -1.965</td> <td> 0.049</td> <td>   -0.064</td> <td>-8.64e-05</td>\n",
              "</tr>\n",
              "<tr>\n",
              "  <th>EQPDAYS</th>  <td>    0.3440</td> <td>    0.017</td> <td>   20.845</td> <td> 0.000</td> <td>    0.312</td> <td>    0.376</td>\n",
              "</tr>\n",
              "<tr>\n",
              "  <th>DROPVCE</th>  <td>    0.0633</td> <td>    0.013</td> <td>    4.820</td> <td> 0.000</td> <td>    0.038</td> <td>    0.089</td>\n",
              "</tr>\n",
              "<tr>\n",
              "  <th>ROAM</th>     <td>    0.0249</td> <td>    0.010</td> <td>    2.481</td> <td> 0.013</td> <td>    0.005</td> <td>    0.045</td>\n",
              "</tr>\n",
              "<tr>\n",
              "  <th>REVENUE</th>  <td>    0.1946</td> <td>    0.017</td> <td>   11.789</td> <td> 0.000</td> <td>    0.162</td> <td>    0.227</td>\n",
              "</tr>\n",
              "<tr>\n",
              "  <th>RECCHRGE</th> <td>   -0.1534</td> <td>    0.014</td> <td>  -11.087</td> <td> 0.000</td> <td>   -0.180</td> <td>   -0.126</td>\n",
              "</tr>\n",
              "<tr>\n",
              "  <th>PEAKVCE</th>  <td>   -0.0474</td> <td>    0.020</td> <td>   -2.382</td> <td> 0.017</td> <td>   -0.086</td> <td>   -0.008</td>\n",
              "</tr>\n",
              "<tr>\n",
              "  <th>OUTCALLS</th> <td>    0.0083</td> <td>    0.019</td> <td>    0.443</td> <td> 0.658</td> <td>   -0.028</td> <td>    0.045</td>\n",
              "</tr>\n",
              "</table>"
            ],
            "text/plain": [
              "<class 'statsmodels.iolib.summary.Summary'>\n",
              "\"\"\"\n",
              "                           Logit Regression Results                           \n",
              "==============================================================================\n",
              "Dep. Variable:                  CHURN   No. Observations:                49732\n",
              "Model:                          Logit   Df Residuals:                    49704\n",
              "Method:                           MLE   Df Model:                           27\n",
              "Date:                Thu, 05 Dec 2019   Pseudo R-squ.:                 0.01739\n",
              "Time:                        09:40:04   Log-Likelihood:                -29414.\n",
              "converged:                       True   LL-Null:                       -29934.\n",
              "Covariance Type:            nonrobust   LLR p-value:                5.031e-202\n",
              "==============================================================================\n",
              "                 coef    std err          z      P>|z|      [0.025      0.975]\n",
              "------------------------------------------------------------------------------\n",
              "AGE1          -0.0862      0.014     -5.962      0.000      -0.115      -0.058\n",
              "CHILDREN       0.1041      0.027      3.904      0.000       0.052       0.156\n",
              "MARRYYES      -0.7695      0.041    -18.816      0.000      -0.850      -0.689\n",
              "MARRYNO       -0.7944      0.038    -20.691      0.000      -0.870      -0.719\n",
              "MARRYUN       -0.7366      0.033    -22.346      0.000      -0.801      -0.672\n",
              "INCOME        -0.0038      0.004     -0.863      0.388      -0.013       0.005\n",
              "OCCSTUD        0.1469      0.114      1.286      0.198      -0.077       0.371\n",
              "OCCSELF        0.0206      0.079      0.262      0.793      -0.133       0.175\n",
              "OCCRET        -0.0555      0.090     -0.619      0.536      -0.231       0.120\n",
              "OCCPROF       -0.0343      0.031     -1.114      0.265      -0.095       0.026\n",
              "OCCHMKR        0.0671      0.180      0.373      0.709      -0.285       0.419\n",
              "OCCCRFT       -0.0410      0.061     -0.671      0.502      -0.161       0.079\n",
              "OCCCLER        0.1033      0.071      1.452      0.146      -0.036       0.243\n",
              "NEWCELLY      -0.0560      0.026     -2.172      0.030      -0.107      -0.005\n",
              "MONTHS        -0.0198      0.002    -11.197      0.000      -0.023      -0.016\n",
              "MODELS         0.0639      0.027      2.390      0.017       0.012       0.116\n",
              "PHONES         0.0649      0.017      3.816      0.000       0.032       0.098\n",
              "PCOWN          0.0138      0.029      0.471      0.638      -0.044       0.071\n",
              "CALLWAIT       0.0190      0.014      1.352      0.176      -0.009       0.047\n",
              "MOU           -0.1447      0.021     -6.931      0.000      -0.186      -0.104\n",
              "INCALLS       -0.0322      0.016     -1.965      0.049      -0.064   -8.64e-05\n",
              "EQPDAYS        0.3440      0.017     20.845      0.000       0.312       0.376\n",
              "DROPVCE        0.0633      0.013      4.820      0.000       0.038       0.089\n",
              "ROAM           0.0249      0.010      2.481      0.013       0.005       0.045\n",
              "REVENUE        0.1946      0.017     11.789      0.000       0.162       0.227\n",
              "RECCHRGE      -0.1534      0.014    -11.087      0.000      -0.180      -0.126\n",
              "PEAKVCE       -0.0474      0.020     -2.382      0.017      -0.086      -0.008\n",
              "OUTCALLS       0.0083      0.019      0.443      0.658      -0.028       0.045\n",
              "==============================================================================\n",
              "\"\"\""
            ]
          },
          "metadata": {
            "tags": []
          },
          "execution_count": 44
        }
      ]
    },
    {
      "cell_type": "code",
      "metadata": {
        "id": "qbj8AFTF7bev",
        "colab_type": "code",
        "outputId": "7b19282e-db5c-4fa1-9579-d88c83452895",
        "colab": {
          "base_uri": "https://localhost:8080/",
          "height": 34
        }
      },
      "source": [
        "#Most important features for churn\n",
        "#EQPDAYS\n",
        "import math\n",
        "math.exp(1.87)\n",
        "#EQPDAYS her bir birim artış churn göreceli olasılığını %648 artırmaktadır."
      ],
      "execution_count": 0,
      "outputs": [
        {
          "output_type": "execute_result",
          "data": {
            "text/plain": [
              "6.488296399286712"
            ]
          },
          "metadata": {
            "tags": []
          },
          "execution_count": 45
        }
      ]
    },
    {
      "cell_type": "code",
      "metadata": {
        "id": "emKiQ2hTJm4u",
        "colab_type": "code",
        "outputId": "e3654686-b4a1-49fb-dac8-0c33050597ef",
        "colab": {
          "base_uri": "https://localhost:8080/",
          "height": 34
        }
      },
      "source": [
        "#Most important features for churn\n",
        "#DROPVCE\n",
        "import math\n",
        "math.exp(1.54)\n",
        "#DROPVCE her bir birim artış churn göreceli olasılığını %466 artırmaktadır."
      ],
      "execution_count": 0,
      "outputs": [
        {
          "output_type": "execute_result",
          "data": {
            "text/plain": [
              "4.664590270988126"
            ]
          },
          "metadata": {
            "tags": []
          },
          "execution_count": 46
        }
      ]
    },
    {
      "cell_type": "code",
      "metadata": {
        "id": "AiIK7S2b4yNJ",
        "colab_type": "code",
        "outputId": "0b06d37b-d7f1-4e69-a596-0fa340ea1b98",
        "colab": {
          "base_uri": "https://localhost:8080/",
          "height": 34
        }
      },
      "source": [
        "#Most important features for churn\n",
        "#Revenue\n",
        "import math\n",
        "math.exp(1.44)\n",
        "#revenuedaki her bir birim artış churn göreceli olasılığını %422 artırmaktadır."
      ],
      "execution_count": 0,
      "outputs": [
        {
          "output_type": "execute_result",
          "data": {
            "text/plain": [
              "4.220695816996552"
            ]
          },
          "metadata": {
            "tags": []
          },
          "execution_count": 47
        }
      ]
    },
    {
      "cell_type": "code",
      "metadata": {
        "id": "uoSnclJCF8x-",
        "colab_type": "code",
        "outputId": "cf533eba-148b-454b-835a-d03e9c570336",
        "colab": {
          "base_uri": "https://localhost:8080/",
          "height": 328
        }
      },
      "source": [
        "weights = pd.Series(model.coef_[0],\n",
        "                 index=X.columns.values)\n",
        "print (weights.sort_values(ascending = False)[:25].plot(kind='bar'))"
      ],
      "execution_count": 0,
      "outputs": [
        {
          "output_type": "stream",
          "text": [
            "AxesSubplot(0.125,0.125;0.775x0.755)\n"
          ],
          "name": "stdout"
        },
        {
          "output_type": "display_data",
          "data": {
            "image/png": "[encoded data removed]",
            "text/plain": [
              "<Figure size 432x288 with 1 Axes>"
            ]
          },
          "metadata": {
            "tags": []
          }
        }
      ]
    },
    {
      "cell_type": "markdown",
      "metadata": {
        "id": "wq1T_no1F8yB",
        "colab_type": "text"
      },
      "source": [
        "##### Dropping less important features"
      ]
    },
    {
      "cell_type": "code",
      "metadata": {
        "id": "MvmA52YtF8yC",
        "colab_type": "code",
        "colab": {}
      },
      "source": [
        "Top15 = weights.sort_values(ascending = False).index[:15].values\n",
        "Bottom15 = weights.sort_values(ascending = False).index[15:].values"
      ],
      "execution_count": 0,
      "outputs": []
    },
    {
      "cell_type": "code",
      "metadata": {
        "id": "BHZHPDs_F8yF",
        "colab_type": "code",
        "outputId": "e77edd52-1391-4405-d94b-3571dc7e71b0",
        "colab": {
          "base_uri": "https://localhost:8080/",
          "height": 70
        }
      },
      "source": [
        "Top15"
      ],
      "execution_count": 0,
      "outputs": [
        {
          "output_type": "execute_result",
          "data": {
            "text/plain": [
              "array(['EQPDAYS', 'REVENUE', 'OCCSTUD', 'CHILDREN', 'OCCCLER', 'PHONES',\n",
              "       'MODELS', 'DROPVCE', 'OCCHMKR', 'ROAM', 'OCCSELF', 'CALLWAIT',\n",
              "       'PCOWN', 'OUTCALLS', 'INCOME'], dtype=object)"
            ]
          },
          "metadata": {
            "tags": []
          },
          "execution_count": 50
        }
      ]
    },
    {
      "cell_type": "code",
      "metadata": {
        "id": "U7cxLTkJF8yI",
        "colab_type": "code",
        "outputId": "04957228-12e0-4712-d121-a2ff9fac1b11",
        "colab": {
          "base_uri": "https://localhost:8080/",
          "height": 70
        }
      },
      "source": [
        "Bottom15"
      ],
      "execution_count": 0,
      "outputs": [
        {
          "output_type": "execute_result",
          "data": {
            "text/plain": [
              "array(['MONTHS', 'INCALLS', 'OCCPROF', 'OCCCRFT', 'PEAKVCE', 'OCCRET',\n",
              "       'NEWCELLY', 'AGE1', 'MOU', 'RECCHRGE', 'MARRYUN', 'MARRYYES',\n",
              "       'MARRYNO'], dtype=object)"
            ]
          },
          "metadata": {
            "tags": []
          },
          "execution_count": 51
        }
      ]
    },
    {
      "cell_type": "code",
      "metadata": {
        "id": "0eSALUUqoo_T",
        "colab_type": "code",
        "outputId": "ccab2c35-747e-479e-c2cd-05298e730d44",
        "colab": {
          "base_uri": "https://localhost:8080/",
          "height": 105
        }
      },
      "source": [
        "from sklearn.ensemble import ExtraTreesClassifier\n",
        "# feature extraction\n",
        "model = ExtraTreesClassifier(n_estimators=10)\n",
        "model.fit(X_train,y_train)\n",
        "print(model.feature_importances_)"
      ],
      "execution_count": 0,
      "outputs": [
        {
          "output_type": "stream",
          "text": [
            "[0.05437637 0.01306741 0.00530614 0.00504283 0.00462115 0.05041769\n",
            " 0.00236558 0.00420507 0.0031224  0.01078729 0.00133547 0.00582723\n",
            " 0.0048736  0.0132512  0.07447155 0.02341094 0.03110107 0.01472858\n",
            " 0.04954245 0.07778485 0.06007293 0.08763873 0.06806963 0.05062096\n",
            " 0.07382181 0.07134835 0.07128872 0.0675    ]\n"
          ],
          "name": "stdout"
        }
      ]
    },
    {
      "cell_type": "markdown",
      "metadata": {
        "id": "1x0fPW1MF8yU",
        "colab_type": "text"
      },
      "source": [
        "### Random Forest Classifer"
      ]
    },
    {
      "cell_type": "code",
      "metadata": {
        "id": "V5fON8vQF8yV",
        "colab_type": "code",
        "outputId": "2bd90412-89a2-4970-a7eb-d1fe22905650",
        "colab": {
          "base_uri": "https://localhost:8080/",
          "height": 52
        }
      },
      "source": [
        "from sklearn.ensemble import RandomForestClassifier\n",
        "from sklearn.metrics import accuracy_score\n",
        "rf = RandomForestClassifier()\n",
        "\n",
        "rf.fit(X_train,y_train)\n",
        "\n",
        "y_pred_rf = rf.predict(X_test)"
      ],
      "execution_count": 0,
      "outputs": [
        {
          "output_type": "stream",
          "text": [
            "/usr/local/lib/python3.6/dist-packages/sklearn/ensemble/forest.py:245: FutureWarning: The default value of n_estimators will change from 10 in version 0.20 to 100 in 0.22.\n",
            "  \"10 in version 0.20 to 100 in 0.22.\", FutureWarning)\n"
          ],
          "name": "stderr"
        }
      ]
    },
    {
      "cell_type": "code",
      "metadata": {
        "id": "6_w3tl0SF8yZ",
        "colab_type": "code",
        "outputId": "67949feb-4954-4df2-e413-ad0fa5689ca3",
        "colab": {
          "base_uri": "https://localhost:8080/",
          "height": 34
        }
      },
      "source": [
        "print('Accuracy using Random forest Classfier is ',np.round(accuracy_score(y_test, y_pred_rf)*100),\"%\")"
      ],
      "execution_count": 0,
      "outputs": [
        {
          "output_type": "stream",
          "text": [
            "Accuracy using Random forest Classfier is  69.0 %\n"
          ],
          "name": "stdout"
        }
      ]
    },
    {
      "cell_type": "markdown",
      "metadata": {
        "id": "nwXIOHqCF8yd",
        "colab_type": "text"
      },
      "source": [
        "### Deep Learning Classifier (Keras Sequential Classifier)"
      ]
    },
    {
      "cell_type": "code",
      "metadata": {
        "id": "aOrKOoMvr6V8",
        "colab_type": "code",
        "outputId": "d4887429-ead9-44e0-b430-79e58ab6e370",
        "colab": {
          "base_uri": "https://localhost:8080/",
          "height": 34
        }
      },
      "source": [
        "X_train.shape[1]"
      ],
      "execution_count": 0,
      "outputs": [
        {
          "output_type": "execute_result",
          "data": {
            "text/plain": [
              "28"
            ]
          },
          "metadata": {
            "tags": []
          },
          "execution_count": 55
        }
      ]
    },
    {
      "cell_type": "code",
      "metadata": {
        "id": "IgzT2VfKF8yf",
        "colab_type": "code",
        "colab": {}
      },
      "source": [
        "from keras.models import Sequential\n",
        "from keras.layers import Dense\n",
        "from keras.wrappers.scikit_learn import KerasClassifier\n",
        "model = Sequential()\n",
        "model.add(Dense(4, input_dim=X_train.shape[1], activation='relu'))\n",
        "#model.add(Dropout(rate=0.2))\n",
        "model.add(Dense(4, activation='relu', kernel_initializer='random_normal'))\n",
        "model.add(Dense(1, activation='sigmoid'))\n",
        "model.compile(loss='binary_crossentropy', optimizer='adam', metrics=['accuracy'])"
      ],
      "execution_count": 0,
      "outputs": []
    },
    {
      "cell_type": "code",
      "metadata": {
        "id": "bDUT_VadF8ym",
        "colab_type": "code",
        "outputId": "114c154c-b58e-432e-80fd-63bd7010791f",
        "colab": {
          "base_uri": "https://localhost:8080/",
          "height": 1000
        }
      },
      "source": [
        "model.fit(X_train,y_train,epochs=20)\n",
        "y_pred_dl = model.predict_classes(X_test)\n"
      ],
      "execution_count": 0,
      "outputs": [
        {
          "output_type": "stream",
          "text": [
            "WARNING:tensorflow:From /usr/local/lib/python3.6/dist-packages/keras/backend/tensorflow_backend.py:1033: The name tf.assign_add is deprecated. Please use tf.compat.v1.assign_add instead.\n",
            "\n",
            "WARNING:tensorflow:From /usr/local/lib/python3.6/dist-packages/keras/backend/tensorflow_backend.py:1020: The name tf.assign is deprecated. Please use tf.compat.v1.assign instead.\n",
            "\n",
            "WARNING:tensorflow:From /usr/local/lib/python3.6/dist-packages/keras/backend/tensorflow_backend.py:3005: The name tf.Session is deprecated. Please use tf.compat.v1.Session instead.\n",
            "\n",
            "Epoch 1/20\n",
            "WARNING:tensorflow:From /usr/local/lib/python3.6/dist-packages/keras/backend/tensorflow_backend.py:190: The name tf.get_default_session is deprecated. Please use tf.compat.v1.get_default_session instead.\n",
            "\n",
            "WARNING:tensorflow:From /usr/local/lib/python3.6/dist-packages/keras/backend/tensorflow_backend.py:197: The name tf.ConfigProto is deprecated. Please use tf.compat.v1.ConfigProto instead.\n",
            "\n",
            "WARNING:tensorflow:From /usr/local/lib/python3.6/dist-packages/keras/backend/tensorflow_backend.py:207: The name tf.global_variables is deprecated. Please use tf.compat.v1.global_variables instead.\n",
            "\n",
            "WARNING:tensorflow:From /usr/local/lib/python3.6/dist-packages/keras/backend/tensorflow_backend.py:216: The name tf.is_variable_initialized is deprecated. Please use tf.compat.v1.is_variable_initialized instead.\n",
            "\n",
            "WARNING:tensorflow:From /usr/local/lib/python3.6/dist-packages/keras/backend/tensorflow_backend.py:223: The name tf.variables_initializer is deprecated. Please use tf.compat.v1.variables_initializer instead.\n",
            "\n",
            "49732/49732 [==============================] - 3s 62us/step - loss: 0.5978 - acc: 0.7103\n",
            "Epoch 2/20\n",
            "49732/49732 [==============================] - 2s 43us/step - loss: 0.5904 - acc: 0.7103\n",
            "Epoch 3/20\n",
            "49732/49732 [==============================] - 2s 44us/step - loss: 0.5879 - acc: 0.7102\n",
            "Epoch 4/20\n",
            "49732/49732 [==============================] - 2s 45us/step - loss: 0.5864 - acc: 0.7103\n",
            "Epoch 5/20\n",
            "49732/49732 [==============================] - 2s 43us/step - loss: 0.5853 - acc: 0.7103\n",
            "Epoch 6/20\n",
            "49732/49732 [==============================] - 2s 43us/step - loss: 0.5848 - acc: 0.7102\n",
            "Epoch 7/20\n",
            "49732/49732 [==============================] - 2s 43us/step - loss: 0.5843 - acc: 0.7102\n",
            "Epoch 8/20\n",
            "49732/49732 [==============================] - 2s 44us/step - loss: 0.5837 - acc: 0.7103\n",
            "Epoch 9/20\n",
            "49732/49732 [==============================] - 2s 43us/step - loss: 0.5832 - acc: 0.7105\n",
            "Epoch 10/20\n",
            "49732/49732 [==============================] - 2s 43us/step - loss: 0.5828 - acc: 0.7105\n",
            "Epoch 11/20\n",
            "49732/49732 [==============================] - 2s 43us/step - loss: 0.5824 - acc: 0.7106\n",
            "Epoch 12/20\n",
            "49732/49732 [==============================] - 2s 42us/step - loss: 0.5820 - acc: 0.7107\n",
            "Epoch 13/20\n",
            "49732/49732 [==============================] - 2s 43us/step - loss: 0.5819 - acc: 0.7105\n",
            "Epoch 14/20\n",
            "49732/49732 [==============================] - 2s 43us/step - loss: 0.5813 - acc: 0.7106\n",
            "Epoch 15/20\n",
            "49732/49732 [==============================] - 2s 44us/step - loss: 0.5810 - acc: 0.7105\n",
            "Epoch 16/20\n",
            "49732/49732 [==============================] - 2s 43us/step - loss: 0.5805 - acc: 0.7106\n",
            "Epoch 17/20\n",
            "49732/49732 [==============================] - 2s 44us/step - loss: 0.5800 - acc: 0.7109\n",
            "Epoch 18/20\n",
            "49732/49732 [==============================] - 2s 43us/step - loss: 0.5797 - acc: 0.7107\n",
            "Epoch 19/20\n",
            "49732/49732 [==============================] - 2s 44us/step - loss: 0.5796 - acc: 0.7102\n",
            "Epoch 20/20\n",
            "49732/49732 [==============================] - 2s 43us/step - loss: 0.5789 - acc: 0.7103\n"
          ],
          "name": "stdout"
        }
      ]
    },
    {
      "cell_type": "code",
      "metadata": {
        "id": "vfhiRwkiF8yo",
        "colab_type": "code",
        "outputId": "d5f1c1a1-872a-44f9-a966-f6027919a5be",
        "colab": {
          "base_uri": "https://localhost:8080/",
          "height": 34
        }
      },
      "source": [
        "print('Accuracy using Deep Learning model is',np.round(accuracy_score(y_test, y_pred_dl)*100),\"%\")"
      ],
      "execution_count": 0,
      "outputs": [
        {
          "output_type": "stream",
          "text": [
            "Accuracy using Deep Learning model is 71.0 %\n"
          ],
          "name": "stdout"
        }
      ]
    },
    {
      "cell_type": "code",
      "metadata": {
        "id": "KwBjT_cLF8ys",
        "colab_type": "code",
        "colab": {}
      },
      "source": [
        ""
      ],
      "execution_count": 0,
      "outputs": []
    }
  ]
}