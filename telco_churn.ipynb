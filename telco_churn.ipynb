{
  "nbformat": 4,
  "nbformat_minor": 0,
  "metadata": {
    "colab": {
      "name": "telco_churn.ipynb",
      "provenance": [],
      "collapsed_sections": [],
      "include_colab_link": true
    },
    "kernelspec": {
      "name": "python3",
      "display_name": "Python 3"
    }
  },
  "cells": [
    {
      "cell_type": "markdown",
      "metadata": {
        "id": "view-in-github",
        "colab_type": "text"
      },
      "source": [
        "<a href=\"https://colab.research.google.com/github/m2masari/ML/blob/master/telco_churn.ipynb\" target=\"_parent\"><img src=\"https://colab.research.google.com/assets/colab-badge.svg\" alt=\"Open In Colab\"/></a>"
      ]
    },
    {
      "cell_type": "code",
      "metadata": {
        "id": "k-vd89vtdKEW",
        "colab_type": "code",
        "colab": {}
      },
      "source": [
        "import pandas as pd\n",
        "import numpy as np\n",
        "import matplotlib.pyplot as plt\n",
        "import seaborn as sns\n",
        "sns.set()\n",
        "from sklearn.model_selection import train_test_split, GridSearchCV\n",
        "from sklearn.metrics import mean_squared_error\n",
        "from sklearn.ensemble import RandomForestRegressor\n",
        "from sklearn.linear_model import LinearRegression\n",
        "from sklearn.neural_network import MLPRegressor\n",
        "import warnings\n",
        "from pylab import rcParams\n",
        "warnings.filterwarnings(\"ignore\")"
      ],
      "execution_count": 0,
      "outputs": []
    },
    {
      "cell_type": "code",
      "metadata": {
        "id": "G8hZ9bHpesQC",
        "colab_type": "code",
        "outputId": "59f92da3-6588-4179-c33a-af6bdeb4a70f",
        "colab": {
          "base_uri": "https://localhost:8080/",
          "height": 122
        }
      },
      "source": [
        "from google.colab import drive\n",
        "drive.mount('/content/drive/')"
      ],
      "execution_count": 0,
      "outputs": [
        {
          "output_type": "stream",
          "text": [
            "Go to this URL in a browser: https://accounts.google.com/o/oauth2/auth?client_id=947318989803-6bn6qk8qdgf4n4g3pfee6491hc0brc4i.apps.googleusercontent.com&redirect_uri=urn%3aietf%3awg%3aoauth%3a2.0%3aoob&response_type=code&scope=email%20https%3a%2f%2fwww.googleapis.com%2fauth%2fdocs.test%20https%3a%2f%2fwww.googleapis.com%2fauth%2fdrive%20https%3a%2f%2fwww.googleapis.com%2fauth%2fdrive.photos.readonly%20https%3a%2f%2fwww.googleapis.com%2fauth%2fpeopleapi.readonly\n",
            "\n",
            "Enter your authorization code:\n",
            "··········\n",
            "Mounted at /content/drive/\n"
          ],
          "name": "stdout"
        }
      ]
    },
    {
      "cell_type": "code",
      "metadata": {
        "id": "k_Hu8Cbbftt5",
        "colab_type": "code",
        "colab": {}
      },
      "source": [
        "import os\n",
        "os.chdir('/content/drive/My Drive/assesment/Velox')"
      ],
      "execution_count": 0,
      "outputs": []
    },
    {
      "cell_type": "code",
      "metadata": {
        "id": "xyGW1imGgHN0",
        "colab_type": "code",
        "outputId": "c11e33ba-3207-4e22-9c12-642e00cc9f9e",
        "colab": {
          "base_uri": "https://localhost:8080/",
          "height": 34
        }
      },
      "source": [
        "ls"
      ],
      "execution_count": 0,
      "outputs": [
        {
          "output_type": "stream",
          "text": [
            "Telco_Churn_Case.csv  Velox.ipynb\n"
          ],
          "name": "stdout"
        }
      ]
    },
    {
      "cell_type": "code",
      "metadata": {
        "id": "tCFUWcm4gJYQ",
        "colab_type": "code",
        "outputId": "2110553f-37ab-4b72-bbca-b3b4ad2b3eb5",
        "colab": {
          "base_uri": "https://localhost:8080/",
          "height": 224
        }
      },
      "source": [
        "df = pd.read_csv('Telco_Churn_Case.csv', sep=';')\n",
        "df.head()"
      ],
      "execution_count": 0,
      "outputs": [
        {
          "output_type": "execute_result",
          "data": {
            "text/html": [
              "<div>\n",
              "<style scoped>\n",
              "    .dataframe tbody tr th:only-of-type {\n",
              "        vertical-align: middle;\n",
              "    }\n",
              "\n",
              "    .dataframe tbody tr th {\n",
              "        vertical-align: top;\n",
              "    }\n",
              "\n",
              "    .dataframe thead th {\n",
              "        text-align: right;\n",
              "    }\n",
              "</style>\n",
              "<table border=\"1\" class=\"dataframe\">\n",
              "  <thead>\n",
              "    <tr style=\"text-align: right;\">\n",
              "      <th></th>\n",
              "      <th>AGE1</th>\n",
              "      <th>CHILDREN</th>\n",
              "      <th>CHURN</th>\n",
              "      <th>MARRYYES</th>\n",
              "      <th>MARRYNO</th>\n",
              "      <th>MARRYUN</th>\n",
              "      <th>INCOME</th>\n",
              "      <th>OCCSTUD</th>\n",
              "      <th>OCCSELF</th>\n",
              "      <th>OCCRET</th>\n",
              "      <th>OCCPROF</th>\n",
              "      <th>OCCHMKR</th>\n",
              "      <th>OCCCRFT</th>\n",
              "      <th>OCCCLER</th>\n",
              "      <th>NEWCELLY</th>\n",
              "      <th>MONTHS</th>\n",
              "      <th>MODELS</th>\n",
              "      <th>PHONES</th>\n",
              "      <th>PCOWN</th>\n",
              "      <th>CALLWAIT</th>\n",
              "      <th>MOU</th>\n",
              "      <th>INCALLS</th>\n",
              "      <th>EQPDAYS</th>\n",
              "      <th>DROPVCE</th>\n",
              "      <th>CUSTOMER</th>\n",
              "      <th>ROAM</th>\n",
              "      <th>REVENUE</th>\n",
              "      <th>RECCHRGE</th>\n",
              "      <th>PEAKVCE</th>\n",
              "      <th>OUTCALLS</th>\n",
              "    </tr>\n",
              "  </thead>\n",
              "  <tbody>\n",
              "    <tr>\n",
              "      <th>0</th>\n",
              "      <td>0.0</td>\n",
              "      <td>0</td>\n",
              "      <td>0</td>\n",
              "      <td>0</td>\n",
              "      <td>0</td>\n",
              "      <td>1</td>\n",
              "      <td>0</td>\n",
              "      <td>0</td>\n",
              "      <td>0</td>\n",
              "      <td>0</td>\n",
              "      <td>0</td>\n",
              "      <td>0</td>\n",
              "      <td>0</td>\n",
              "      <td>0</td>\n",
              "      <td>1</td>\n",
              "      <td>22</td>\n",
              "      <td>3.0</td>\n",
              "      <td>3.0</td>\n",
              "      <td>0</td>\n",
              "      <td>2.666667</td>\n",
              "      <td>185.75</td>\n",
              "      <td>0.000000</td>\n",
              "      <td>280.0</td>\n",
              "      <td>2.000000</td>\n",
              "      <td>1033384</td>\n",
              "      <td>0.00</td>\n",
              "      <td>37.5100</td>\n",
              "      <td>27.5725</td>\n",
              "      <td>48.666667</td>\n",
              "      <td>0.000000</td>\n",
              "    </tr>\n",
              "    <tr>\n",
              "      <th>1</th>\n",
              "      <td>0.0</td>\n",
              "      <td>0</td>\n",
              "      <td>0</td>\n",
              "      <td>0</td>\n",
              "      <td>0</td>\n",
              "      <td>1</td>\n",
              "      <td>0</td>\n",
              "      <td>0</td>\n",
              "      <td>0</td>\n",
              "      <td>0</td>\n",
              "      <td>0</td>\n",
              "      <td>0</td>\n",
              "      <td>0</td>\n",
              "      <td>0</td>\n",
              "      <td>1</td>\n",
              "      <td>25</td>\n",
              "      <td>5.0</td>\n",
              "      <td>7.0</td>\n",
              "      <td>0</td>\n",
              "      <td>102.000000</td>\n",
              "      <td>3294.25</td>\n",
              "      <td>181.666667</td>\n",
              "      <td>51.0</td>\n",
              "      <td>124.000000</td>\n",
              "      <td>1022818</td>\n",
              "      <td>0.00</td>\n",
              "      <td>191.6100</td>\n",
              "      <td>114.1025</td>\n",
              "      <td>800.666667</td>\n",
              "      <td>240.333333</td>\n",
              "    </tr>\n",
              "    <tr>\n",
              "      <th>2</th>\n",
              "      <td>0.0</td>\n",
              "      <td>0</td>\n",
              "      <td>0</td>\n",
              "      <td>0</td>\n",
              "      <td>0</td>\n",
              "      <td>1</td>\n",
              "      <td>0</td>\n",
              "      <td>0</td>\n",
              "      <td>0</td>\n",
              "      <td>0</td>\n",
              "      <td>0</td>\n",
              "      <td>0</td>\n",
              "      <td>0</td>\n",
              "      <td>0</td>\n",
              "      <td>0</td>\n",
              "      <td>7</td>\n",
              "      <td>1.0</td>\n",
              "      <td>1.0</td>\n",
              "      <td>0</td>\n",
              "      <td>0.000000</td>\n",
              "      <td>2582.00</td>\n",
              "      <td>1.000000</td>\n",
              "      <td>188.0</td>\n",
              "      <td>9.333333</td>\n",
              "      <td>1095330</td>\n",
              "      <td>22.47</td>\n",
              "      <td>187.7200</td>\n",
              "      <td>122.4925</td>\n",
              "      <td>386.000000</td>\n",
              "      <td>46.666667</td>\n",
              "    </tr>\n",
              "    <tr>\n",
              "      <th>3</th>\n",
              "      <td>0.0</td>\n",
              "      <td>0</td>\n",
              "      <td>0</td>\n",
              "      <td>0</td>\n",
              "      <td>0</td>\n",
              "      <td>1</td>\n",
              "      <td>0</td>\n",
              "      <td>0</td>\n",
              "      <td>0</td>\n",
              "      <td>0</td>\n",
              "      <td>0</td>\n",
              "      <td>0</td>\n",
              "      <td>0</td>\n",
              "      <td>0</td>\n",
              "      <td>0</td>\n",
              "      <td>9</td>\n",
              "      <td>1.0</td>\n",
              "      <td>1.0</td>\n",
              "      <td>0</td>\n",
              "      <td>0.666667</td>\n",
              "      <td>278.75</td>\n",
              "      <td>5.666667</td>\n",
              "      <td>243.0</td>\n",
              "      <td>7.333333</td>\n",
              "      <td>1092012</td>\n",
              "      <td>0.00</td>\n",
              "      <td>54.6325</td>\n",
              "      <td>64.4275</td>\n",
              "      <td>32.666667</td>\n",
              "      <td>24.000000</td>\n",
              "    </tr>\n",
              "    <tr>\n",
              "      <th>4</th>\n",
              "      <td>0.0</td>\n",
              "      <td>0</td>\n",
              "      <td>0</td>\n",
              "      <td>0</td>\n",
              "      <td>0</td>\n",
              "      <td>1</td>\n",
              "      <td>0</td>\n",
              "      <td>0</td>\n",
              "      <td>0</td>\n",
              "      <td>0</td>\n",
              "      <td>0</td>\n",
              "      <td>0</td>\n",
              "      <td>0</td>\n",
              "      <td>0</td>\n",
              "      <td>0</td>\n",
              "      <td>9</td>\n",
              "      <td>1.0</td>\n",
              "      <td>1.0</td>\n",
              "      <td>0</td>\n",
              "      <td>0.000000</td>\n",
              "      <td>260.75</td>\n",
              "      <td>6.333333</td>\n",
              "      <td>243.0</td>\n",
              "      <td>13.666667</td>\n",
              "      <td>1092009</td>\n",
              "      <td>0.00</td>\n",
              "      <td>50.3000</td>\n",
              "      <td>33.7000</td>\n",
              "      <td>33.000000</td>\n",
              "      <td>30.666667</td>\n",
              "    </tr>\n",
              "  </tbody>\n",
              "</table>\n",
              "</div>"
            ],
            "text/plain": [
              "   AGE1  CHILDREN  CHURN  MARRYYES  ...   REVENUE  RECCHRGE     PEAKVCE    OUTCALLS\n",
              "0   0.0         0      0         0  ...   37.5100   27.5725   48.666667    0.000000\n",
              "1   0.0         0      0         0  ...  191.6100  114.1025  800.666667  240.333333\n",
              "2   0.0         0      0         0  ...  187.7200  122.4925  386.000000   46.666667\n",
              "3   0.0         0      0         0  ...   54.6325   64.4275   32.666667   24.000000\n",
              "4   0.0         0      0         0  ...   50.3000   33.7000   33.000000   30.666667\n",
              "\n",
              "[5 rows x 30 columns]"
            ]
          },
          "metadata": {
            "tags": []
          },
          "execution_count": 75
        }
      ]
    },
    {
      "cell_type": "code",
      "metadata": {
        "id": "yVXbGH7vgftL",
        "colab_type": "code",
        "outputId": "0d3b96d5-a905-4448-d88d-c82f25f911e6",
        "colab": {
          "base_uri": "https://localhost:8080/",
          "height": 544
        }
      },
      "source": [
        "df.isnull().sum(axis=0)"
      ],
      "execution_count": 0,
      "outputs": [
        {
          "output_type": "execute_result",
          "data": {
            "text/plain": [
              "AGE1        1244\n",
              "CHILDREN       0\n",
              "CHURN          0\n",
              "MARRYYES       0\n",
              "MARRYNO        0\n",
              "MARRYUN        0\n",
              "INCOME         0\n",
              "OCCSTUD        0\n",
              "OCCSELF        0\n",
              "OCCRET         0\n",
              "OCCPROF        0\n",
              "OCCHMKR        0\n",
              "OCCCRFT        0\n",
              "OCCCLER        0\n",
              "NEWCELLY       0\n",
              "MONTHS         0\n",
              "MODELS         1\n",
              "PHONES         1\n",
              "PCOWN          0\n",
              "CALLWAIT       0\n",
              "MOU          216\n",
              "INCALLS        0\n",
              "EQPDAYS        1\n",
              "DROPVCE        0\n",
              "CUSTOMER       0\n",
              "ROAM         216\n",
              "REVENUE      216\n",
              "RECCHRGE     216\n",
              "PEAKVCE        0\n",
              "OUTCALLS       0\n",
              "dtype: int64"
            ]
          },
          "metadata": {
            "tags": []
          },
          "execution_count": 76
        }
      ]
    },
    {
      "cell_type": "code",
      "metadata": {
        "id": "LLTOJR5giURI",
        "colab_type": "code",
        "outputId": "ed3c0554-f3e5-452d-b3dd-ac60fa0301b1",
        "colab": {
          "base_uri": "https://localhost:8080/",
          "height": 612
        }
      },
      "source": [
        "df.info()"
      ],
      "execution_count": 0,
      "outputs": [
        {
          "output_type": "stream",
          "text": [
            "<class 'pandas.core.frame.DataFrame'>\n",
            "RangeIndex: 71047 entries, 0 to 71046\n",
            "Data columns (total 30 columns):\n",
            "AGE1        69803 non-null float64\n",
            "CHILDREN    71047 non-null int64\n",
            "CHURN       71047 non-null int64\n",
            "MARRYYES    71047 non-null int64\n",
            "MARRYNO     71047 non-null int64\n",
            "MARRYUN     71047 non-null int64\n",
            "INCOME      71047 non-null int64\n",
            "OCCSTUD     71047 non-null int64\n",
            "OCCSELF     71047 non-null int64\n",
            "OCCRET      71047 non-null int64\n",
            "OCCPROF     71047 non-null int64\n",
            "OCCHMKR     71047 non-null int64\n",
            "OCCCRFT     71047 non-null int64\n",
            "OCCCLER     71047 non-null int64\n",
            "NEWCELLY    71047 non-null int64\n",
            "MONTHS      71047 non-null int64\n",
            "MODELS      71046 non-null float64\n",
            "PHONES      71046 non-null float64\n",
            "PCOWN       71047 non-null int64\n",
            "CALLWAIT    71047 non-null float64\n",
            "MOU         70831 non-null float64\n",
            "INCALLS     71047 non-null float64\n",
            "EQPDAYS     71046 non-null float64\n",
            "DROPVCE     71047 non-null float64\n",
            "CUSTOMER    71047 non-null int64\n",
            "ROAM        70831 non-null float64\n",
            "REVENUE     70831 non-null float64\n",
            "RECCHRGE    70831 non-null float64\n",
            "PEAKVCE     71047 non-null float64\n",
            "OUTCALLS    71047 non-null float64\n",
            "dtypes: float64(13), int64(17)\n",
            "memory usage: 16.3 MB\n"
          ],
          "name": "stdout"
        }
      ]
    },
    {
      "cell_type": "code",
      "metadata": {
        "id": "TlDgYkPMizJ2",
        "colab_type": "code",
        "colab": {}
      },
      "source": [
        "df.drop(['CUSTOMER'], axis=1, inplace=True)"
      ],
      "execution_count": 0,
      "outputs": []
    },
    {
      "cell_type": "code",
      "metadata": {
        "id": "NF3_x_HfEoQa",
        "colab_type": "code",
        "outputId": "f351e283-8418-4cef-f591-8a527ebb9dd9",
        "colab": {
          "base_uri": "https://localhost:8080/",
          "height": 319
        }
      },
      "source": [
        "# Data to plot\n",
        "sizes = df['CHURN'].value_counts(sort = True)\n",
        "colors = [\"grey\",\"purple\"] \n",
        "rcParams['figure.figsize'] = 5,5\n",
        "labels = 'Yes', 'No'\n",
        "explode = (0.1, 0.1)\n",
        "# Plot\n",
        "plt.pie(sizes, explode=explode, labels=labels, colors=colors,\n",
        "        autopct='%1.1f%%', shadow=True, startangle=270,)\n",
        "plt.title('Percentage of Churn in Dataset')\n",
        "plt.show()"
      ],
      "execution_count": 0,
      "outputs": [
        {
          "output_type": "display_data",
          "data": {
            "image/png": "[encoded data removed]",
            "text/plain": [
              "<Figure size 360x360 with 1 Axes>"
            ]
          },
          "metadata": {
            "tags": []
          }
        }
      ]
    },
    {
      "cell_type": "code",
      "metadata": {
        "id": "vZZfjG_pHdIt",
        "colab_type": "code",
        "outputId": "b702cc45-e986-4b04-f1fc-127072516935",
        "colab": {
          "base_uri": "https://localhost:8080/",
          "height": 68
        }
      },
      "source": [
        "sizes"
      ],
      "execution_count": 0,
      "outputs": [
        {
          "output_type": "execute_result",
          "data": {
            "text/plain": [
              "0    50438\n",
              "1    20609\n",
              "Name: CHURN, dtype: int64"
            ]
          },
          "metadata": {
            "tags": []
          },
          "execution_count": 54
        }
      ]
    },
    {
      "cell_type": "code",
      "metadata": {
        "id": "g7U_QHvAy5a3",
        "colab_type": "code",
        "outputId": "161abe50-32e0-43a6-b18c-bfa8d2160223",
        "colab": {
          "base_uri": "https://localhost:8080/",
          "height": 356
        }
      },
      "source": [
        "import seaborn as sns\n",
        "\n",
        "sns.boxplot(x = df.CHURN, y = df.REVENUE)"
      ],
      "execution_count": 0,
      "outputs": [
        {
          "output_type": "execute_result",
          "data": {
            "text/plain": [
              "<matplotlib.axes._subplots.AxesSubplot at 0x7fc32c136b00>"
            ]
          },
          "metadata": {
            "tags": []
          },
          "execution_count": 55
        },
        {
          "output_type": "display_data",
          "data": {
            "image/png": "[encoded data removed]",
            "text/plain": [
              "<Figure size 360x360 with 1 Axes>"
            ]
          },
          "metadata": {
            "tags": []
          }
        }
      ]
    },
    {
      "cell_type": "code",
      "metadata": {
        "id": "9bTySGOZ1X89",
        "colab_type": "code",
        "outputId": "c529adb8-1fe2-4233-e237-f812c9f37e2b",
        "colab": {
          "base_uri": "https://localhost:8080/",
          "height": 395
        }
      },
      "source": [
        "plt.figure(figsize=(10,5))\n",
        "sns.heatmap(df.corr())"
      ],
      "execution_count": 0,
      "outputs": [
        {
          "output_type": "execute_result",
          "data": {
            "text/plain": [
              "<matplotlib.axes._subplots.AxesSubplot at 0x7fc32c26f748>"
            ]
          },
          "metadata": {
            "tags": []
          },
          "execution_count": 58
        },
        {
          "output_type": "display_data",
          "data": {
            "image/png": "[encoded data removed]",
            "text/plain": [
              "<Figure size 720x360 with 2 Axes>"
            ]
          },
          "metadata": {
            "tags": []
          }
        }
      ]
    },
    {
      "cell_type": "code",
      "metadata": {
        "id": "xAGXaPEBMyJZ",
        "colab_type": "code",
        "outputId": "87693e9f-90cf-4281-fc5b-1eab87e043ec",
        "colab": {
          "base_uri": "https://localhost:8080/",
          "height": 595
        }
      },
      "source": [
        "df=df.dropna()\n",
        "df.info()"
      ],
      "execution_count": 0,
      "outputs": [
        {
          "output_type": "stream",
          "text": [
            "<class 'pandas.core.frame.DataFrame'>\n",
            "Int64Index: 69592 entries, 0 to 71046\n",
            "Data columns (total 29 columns):\n",
            "AGE1        69592 non-null float64\n",
            "CHILDREN    69592 non-null int64\n",
            "CHURN       69592 non-null int64\n",
            "MARRYYES    69592 non-null int64\n",
            "MARRYNO     69592 non-null int64\n",
            "MARRYUN     69592 non-null int64\n",
            "INCOME      69592 non-null int64\n",
            "OCCSTUD     69592 non-null int64\n",
            "OCCSELF     69592 non-null int64\n",
            "OCCRET      69592 non-null int64\n",
            "OCCPROF     69592 non-null int64\n",
            "OCCHMKR     69592 non-null int64\n",
            "OCCCRFT     69592 non-null int64\n",
            "OCCCLER     69592 non-null int64\n",
            "NEWCELLY    69592 non-null int64\n",
            "MONTHS      69592 non-null int64\n",
            "MODELS      69592 non-null float64\n",
            "PHONES      69592 non-null float64\n",
            "PCOWN       69592 non-null int64\n",
            "CALLWAIT    69592 non-null float64\n",
            "MOU         69592 non-null float64\n",
            "INCALLS     69592 non-null float64\n",
            "EQPDAYS     69592 non-null float64\n",
            "DROPVCE     69592 non-null float64\n",
            "ROAM        69592 non-null float64\n",
            "REVENUE     69592 non-null float64\n",
            "RECCHRGE    69592 non-null float64\n",
            "PEAKVCE     69592 non-null float64\n",
            "OUTCALLS    69592 non-null float64\n",
            "dtypes: float64(13), int64(16)\n",
            "memory usage: 15.9 MB\n"
          ],
          "name": "stdout"
        }
      ]
    },
    {
      "cell_type": "code",
      "metadata": {
        "id": "2tQIRy0i_C7l",
        "colab_type": "code",
        "colab": {}
      },
      "source": [
        "df = pd.read_csv('Telco_Churn_Case.csv', sep=';')\n",
        "df.drop(['CUSTOMER'], axis=1, inplace=True)\n",
        "df=df.dropna()"
      ],
      "execution_count": 0,
      "outputs": []
    },
    {
      "cell_type": "code",
      "metadata": {
        "id": "_4RQU-XHmU_z",
        "colab_type": "code",
        "colab": {}
      },
      "source": [
        "from sklearn.linear_model import LogisticRegression\n",
        "from sklearn.model_selection import train_test_split\n",
        "df[\"CHURN\"] = df[\"CHURN\"].astype(int)\n",
        "Y = data[\"CHURN\"].values\n",
        "X = data.drop(labels = [\"CHURN\"],axis = 1)\n",
        "df = df.fillna(df.median(axis=0))\n",
        "X_train, X_test, y_train, y_test = train_test_split(np.nan_to_num(X), Y, test_size=0.3, random_state=101)"
      ],
      "execution_count": 0,
      "outputs": []
    },
    {
      "cell_type": "code",
      "metadata": {
        "id": "8E3H1qt6sgYF",
        "colab_type": "code",
        "colab": {}
      },
      "source": [
        "from sklearn.linear_model import LogisticRegression\n",
        "model = LogisticRegression()\n",
        "result = model.fit(X_train, y_train)"
      ],
      "execution_count": 0,
      "outputs": []
    },
    {
      "cell_type": "code",
      "metadata": {
        "id": "OMPBL2oAB1PX",
        "colab_type": "code",
        "outputId": "5e224e22-2fc4-4050-d428-bcc6beb165e1",
        "colab": {
          "base_uri": "https://localhost:8080/",
          "height": 34
        }
      },
      "source": [
        "model.score(X_test, y_test)"
      ],
      "execution_count": 0,
      "outputs": [
        {
          "output_type": "execute_result",
          "data": {
            "text/plain": [
              "0.708843537414966"
            ]
          },
          "metadata": {
            "tags": []
          },
          "execution_count": 113
        }
      ]
    },
    {
      "cell_type": "code",
      "metadata": {
        "id": "LwV-dQfk3fc1",
        "colab_type": "code",
        "outputId": "4a5f04ae-878e-4ad9-f8b3-aa835d57aa9d",
        "colab": {
          "base_uri": "https://localhost:8080/",
          "height": 391
        }
      },
      "source": [
        "weights = pd.Series(model.coef_[0],\n",
        "                 index=X.columns.values)\n",
        "print (weights.sort_values(ascending = False)[:25].plot(kind='bar'))"
      ],
      "execution_count": 0,
      "outputs": [
        {
          "output_type": "stream",
          "text": [
            "AxesSubplot(0.125,0.125;0.775x0.755)\n"
          ],
          "name": "stdout"
        },
        {
          "output_type": "display_data",
          "data": {
            "image/png": "[encoded data removed]",
            "text/plain": [
              "<Figure size 360x360 with 1 Axes>"
            ]
          },
          "metadata": {
            "tags": []
          }
        }
      ]
    },
    {
      "cell_type": "code",
      "metadata": {
        "id": "_F2ylc8kBTxE",
        "colab_type": "code",
        "colab": {}
      },
      "source": [
        ""
      ],
      "execution_count": 0,
      "outputs": []
    }
  ]
}