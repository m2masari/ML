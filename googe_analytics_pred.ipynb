{
  "nbformat": 4,
  "nbformat_minor": 0,
  "metadata": {
    "kernelspec": {
      "name": "python3",
      "display_name": "Python 3"
    },
    "language_info": {
      "codemirror_mode": {
        "name": "ipython",
        "version": 3
      },
      "file_extension": ".py",
      "mimetype": "text/x-python",
      "name": "python",
      "nbconvert_exporter": "python",
      "pygments_lexer": "ipython3",
      "version": "3.7.3"
    },
    "colab": {
      "name": "trivago_assessment.ipynb",
      "provenance": [],
      "collapsed_sections": []
    }
  },
  "cells": [
    {
      "cell_type": "markdown",
      "metadata": {
        "id": "0v1i2Xhg-5a-",
        "colab_type": "text"
      },
      "source": [
        "# Imports Modules"
      ]
    },
    {
      "cell_type": "code",
      "metadata": {
        "id": "UBUQ4S3W-5bE",
        "colab_type": "code",
        "colab": {}
      },
      "source": [
        "import pandas as pd\n",
        "import numpy as np\n",
        "import matplotlib.pyplot as plt\n",
        "import seaborn as sns\n",
        "sns.set()\n",
        "from sklearn.model_selection import train_test_split, GridSearchCV\n",
        "from sklearn.metrics import mean_squared_error\n",
        "from sklearn.ensemble import RandomForestRegressor\n",
        "from sklearn.linear_model import LinearRegression\n",
        "from sklearn.neural_network import MLPRegressor\n",
        "import warnings\n",
        "warnings.filterwarnings(\"ignore\")"
      ],
      "execution_count": 0,
      "outputs": []
    },
    {
      "cell_type": "markdown",
      "metadata": {
        "id": "9M6ua7S7-5bC",
        "colab_type": "text"
      },
      "source": [
        "## Import Data Set\n"
      ]
    },
    {
      "cell_type": "code",
      "metadata": {
        "id": "q9u6AjqRA6GG",
        "colab_type": "code",
        "outputId": "bc1f1b1a-6542-4044-94f6-53825760f9b6",
        "colab": {
          "base_uri": "https://localhost:8080/",
          "height": 34
        }
      },
      "source": [
        "from google.colab import drive\n",
        "drive.mount('/content/drive/')"
      ],
      "execution_count": 84,
      "outputs": [
        {
          "output_type": "stream",
          "text": [
            "Drive already mounted at /content/drive/; to attempt to forcibly remount, call drive.mount(\"/content/drive/\", force_remount=True).\n"
          ],
          "name": "stdout"
        }
      ]
    },
    {
      "cell_type": "code",
      "metadata": {
        "id": "4i1J9TcPBHI2",
        "colab_type": "code",
        "colab": {}
      },
      "source": [
        "import os\n",
        "os.chdir('/content/drive/My Drive/assesment')"
      ],
      "execution_count": 0,
      "outputs": []
    },
    {
      "cell_type": "markdown",
      "metadata": {
        "id": "QX3T38Yk-5bI",
        "colab_type": "text"
      },
      "source": [
        "## Reading Data"
      ]
    },
    {
      "cell_type": "code",
      "metadata": {
        "id": "4IyfRG-x-5bJ",
        "colab_type": "code",
        "outputId": "708eb320-f1de-4871-9514-f0f72f91a6fe",
        "colab": {
          "base_uri": "https://localhost:8080/",
          "height": 204
        }
      },
      "source": [
        "data = pd.read_csv('Data.csv', sep=';')\n",
        "data.head()"
      ],
      "execution_count": 86,
      "outputs": [
        {
          "output_type": "execute_result",
          "data": {
            "text/html": [
              "<div>\n",
              "<style scoped>\n",
              "    .dataframe tbody tr th:only-of-type {\n",
              "        vertical-align: middle;\n",
              "    }\n",
              "\n",
              "    .dataframe tbody tr th {\n",
              "        vertical-align: top;\n",
              "    }\n",
              "\n",
              "    .dataframe thead th {\n",
              "        text-align: right;\n",
              "    }\n",
              "</style>\n",
              "<table border=\"1\" class=\"dataframe\">\n",
              "  <thead>\n",
              "    <tr style=\"text-align: right;\">\n",
              "      <th></th>\n",
              "      <th>row_num</th>\n",
              "      <th>locale</th>\n",
              "      <th>day_of_week</th>\n",
              "      <th>hour_of_day</th>\n",
              "      <th>agent_id</th>\n",
              "      <th>entry_page</th>\n",
              "      <th>path_id_set</th>\n",
              "      <th>traffic_type</th>\n",
              "      <th>session_durantion</th>\n",
              "      <th>hits</th>\n",
              "    </tr>\n",
              "  </thead>\n",
              "  <tbody>\n",
              "    <tr>\n",
              "      <th>0</th>\n",
              "      <td>988681</td>\n",
              "      <td>L6</td>\n",
              "      <td>Monday</td>\n",
              "      <td>17</td>\n",
              "      <td>1</td>\n",
              "      <td>2111</td>\n",
              "      <td>31672;0</td>\n",
              "      <td>6</td>\n",
              "      <td>7037</td>\n",
              "      <td>\\N</td>\n",
              "    </tr>\n",
              "    <tr>\n",
              "      <th>1</th>\n",
              "      <td>988680</td>\n",
              "      <td>L2</td>\n",
              "      <td>Thursday</td>\n",
              "      <td>22</td>\n",
              "      <td>10</td>\n",
              "      <td>2113</td>\n",
              "      <td>31965;0</td>\n",
              "      <td>2</td>\n",
              "      <td>49</td>\n",
              "      <td>14</td>\n",
              "    </tr>\n",
              "    <tr>\n",
              "      <th>2</th>\n",
              "      <td>988679</td>\n",
              "      <td>L4</td>\n",
              "      <td>Saturday</td>\n",
              "      <td>21</td>\n",
              "      <td>2</td>\n",
              "      <td>2100</td>\n",
              "      <td>0;78464</td>\n",
              "      <td>1</td>\n",
              "      <td>1892</td>\n",
              "      <td>14</td>\n",
              "    </tr>\n",
              "    <tr>\n",
              "      <th>3</th>\n",
              "      <td>988678</td>\n",
              "      <td>L3</td>\n",
              "      <td>Saturday</td>\n",
              "      <td>19</td>\n",
              "      <td>8</td>\n",
              "      <td>2113</td>\n",
              "      <td>51462</td>\n",
              "      <td>6</td>\n",
              "      <td>0</td>\n",
              "      <td>1</td>\n",
              "    </tr>\n",
              "    <tr>\n",
              "      <th>4</th>\n",
              "      <td>988677</td>\n",
              "      <td>L2</td>\n",
              "      <td>Tuesday</td>\n",
              "      <td>6</td>\n",
              "      <td>10</td>\n",
              "      <td>2116</td>\n",
              "      <td>31931;0</td>\n",
              "      <td>1</td>\n",
              "      <td>2</td>\n",
              "      <td>3</td>\n",
              "    </tr>\n",
              "  </tbody>\n",
              "</table>\n",
              "</div>"
            ],
            "text/plain": [
              "   row_num locale day_of_week  ...  traffic_type  session_durantion  hits\n",
              "0   988681     L6      Monday  ...             6               7037    \\N\n",
              "1   988680     L2    Thursday  ...             2                 49    14\n",
              "2   988679     L4    Saturday  ...             1               1892    14\n",
              "3   988678     L3    Saturday  ...             6                  0     1\n",
              "4   988677     L2     Tuesday  ...             1                  2     3\n",
              "\n",
              "[5 rows x 10 columns]"
            ]
          },
          "metadata": {
            "tags": []
          },
          "execution_count": 86
        }
      ]
    },
    {
      "cell_type": "markdown",
      "metadata": {
        "id": "yXJhiedz-5bP",
        "colab_type": "text"
      },
      "source": [
        "## Data analysis"
      ]
    },
    {
      "cell_type": "markdown",
      "metadata": {
        "id": "2OEaNrwg-5bR",
        "colab_type": "text"
      },
      "source": [
        "We check for null values to gain knowledge from the data set"
      ]
    },
    {
      "cell_type": "code",
      "metadata": {
        "id": "u3Uau4_m-5bT",
        "colab_type": "code",
        "outputId": "f8ee0555-7021-453d-d65f-065ad9aaa914",
        "colab": {
          "base_uri": "https://localhost:8080/",
          "height": 204
        }
      },
      "source": [
        "data.isnull().sum(axis=0)"
      ],
      "execution_count": 87,
      "outputs": [
        {
          "output_type": "execute_result",
          "data": {
            "text/plain": [
              "row_num                 0\n",
              "locale                  0\n",
              "day_of_week             0\n",
              "hour_of_day             0\n",
              "agent_id                0\n",
              "entry_page              0\n",
              "path_id_set          4889\n",
              "traffic_type            0\n",
              "session_durantion       0\n",
              "hits                    0\n",
              "dtype: int64"
            ]
          },
          "metadata": {
            "tags": []
          },
          "execution_count": 87
        }
      ]
    },
    {
      "cell_type": "markdown",
      "metadata": {
        "id": "td1dSAIB-5bY",
        "colab_type": "text"
      },
      "source": [
        "We find out that 'path_id_set' has null values. But we also noticed that 'session_durantion' and 'hits' contain '\\N' values, this can cause a problem then we need to fix this.\n"
      ]
    },
    {
      "cell_type": "code",
      "metadata": {
        "id": "MRW3P9gT-5bZ",
        "colab_type": "code",
        "colab": {}
      },
      "source": [
        "# set proper datatypes\n",
        "data['row_num'] = data['row_num'].astype(np.int)\n",
        "data['locale'] = data['locale'].astype(str)\n",
        "data['day_of_week'] = data['day_of_week'].astype(str)\n",
        "data['hour_of_day'] = data['hour_of_day'].astype(np.int)\n",
        "data['agent_id'] = data['agent_id'].astype(np.int)\n",
        "data['entry_page'] = data['entry_page'].astype(np.int)\n",
        "data.loc[data['path_id_set'].notnull(), 'path_id_set'] = data.loc[data['path_id_set'].notnull(), 'path_id_set'].astype(str)\n",
        "data['traffic_type'] = data['traffic_type'].astype(str)\n",
        "\n",
        "# 'session_durantion' and 'hits' contain '\\N' values\n",
        "# we will replace it with 0 for 'session_durantion' and NULL for 'hits'\n",
        "data['session_durantion'] = pd.to_numeric(data['session_durantion'], errors='coerce')\n",
        "data['session_durantion'] = data['session_durantion'].fillna(0)\n",
        "data['hits'] = pd.to_numeric(data['hits'], errors='coerce')"
      ],
      "execution_count": 0,
      "outputs": []
    },
    {
      "cell_type": "markdown",
      "metadata": {
        "id": "9ek5yVp7-5bc",
        "colab_type": "text"
      },
      "source": [
        "## Values of the main features"
      ]
    },
    {
      "cell_type": "markdown",
      "metadata": {
        "id": "GDeAE_Xs-5bd",
        "colab_type": "text"
      },
      "source": [
        "We check each column to see how to treat them as categorical or continuous"
      ]
    },
    {
      "cell_type": "markdown",
      "metadata": {
        "id": "DOHxb4CS-5be",
        "colab_type": "text"
      },
      "source": [
        "### The platform of the session"
      ]
    },
    {
      "cell_type": "code",
      "metadata": {
        "id": "-PhMNwVC-5bg",
        "colab_type": "code",
        "outputId": "2fa562b0-5510-4e19-a402-41c1dc2f57a0",
        "colab": {
          "base_uri": "https://localhost:8080/",
          "height": 268
        }
      },
      "source": [
        "locales = data['locale'].value_counts().sort_index()\n",
        "\n",
        "# show plot\n",
        "plt.bar(locales.index, locales.values)\n",
        "plt.show()"
      ],
      "execution_count": 89,
      "outputs": [
        {
          "output_type": "display_data",
          "data": {
            "image/png": "[encoded data removed]",
            "text/plain": [
              "<Figure size 432x288 with 1 Axes>"
            ]
          },
          "metadata": {
            "tags": []
          }
        }
      ]
    },
    {
      "cell_type": "markdown",
      "metadata": {
        "id": "rm9ONdaB-5bj",
        "colab_type": "text"
      },
      "source": [
        "There are 6 platforms of the session and we will treat them as categorical variable."
      ]
    },
    {
      "cell_type": "markdown",
      "metadata": {
        "id": "YGbERm0Q-5bk",
        "colab_type": "text"
      },
      "source": [
        "### The day of the week of the session"
      ]
    },
    {
      "cell_type": "code",
      "metadata": {
        "id": "rV741lU5-5bl",
        "colab_type": "code",
        "outputId": "c70439cf-98b3-46ac-fdde-781a4015398b",
        "colab": {
          "base_uri": "https://localhost:8080/",
          "height": 268
        }
      },
      "source": [
        "day_of_week = data['day_of_week'].value_counts()[['Monday', 'Tuesday', 'Wednesday', 'Thursday', 'Friday', 'Saturday', 'Sunday']]\n",
        "\n",
        "# show plot\n",
        "labels = [day[:3] for day in day_of_week.index] # display just first 3 characters of the day of the week\n",
        "plt.bar(labels, day_of_week.values)\n",
        "plt.show()"
      ],
      "execution_count": 90,
      "outputs": [
        {
          "output_type": "display_data",
          "data": {
            "image/png": "[encoded data removed]",
            "text/plain": [
              "<Figure size 432x288 with 1 Axes>"
            ]
          },
          "metadata": {
            "tags": []
          }
        }
      ]
    },
    {
      "cell_type": "markdown",
      "metadata": {
        "id": "QGoDn2QH-5bp",
        "colab_type": "text"
      },
      "source": [
        "There are also 7 days of the week of the session. We will also treat it as a categorical variable."
      ]
    },
    {
      "cell_type": "markdown",
      "metadata": {
        "id": "CJxorwHe-5bq",
        "colab_type": "text"
      },
      "source": [
        "### The hour of the day of the session"
      ]
    },
    {
      "cell_type": "code",
      "metadata": {
        "id": "DsyiN3rM-5br",
        "colab_type": "code",
        "outputId": "a85ddb5b-766f-4ec0-8ef8-662c7d832de7",
        "colab": {
          "base_uri": "https://localhost:8080/",
          "height": 268
        }
      },
      "source": [
        "hour_of_day = data['hour_of_day'].value_counts().sort_index()\n",
        "hour_of_day\n",
        "# show plot\n",
        "plt.bar(hour_of_day.index, hour_of_day.values)\n",
        "plt.xticks(np.arange(24)) # set x ticks to be for each hour: np.arange(24) = [1,2,3,..,23]\n",
        "plt.show()"
      ],
      "execution_count": 91,
      "outputs": [
        {
          "output_type": "display_data",
          "data": {
            "image/png": "[encoded data removed]",
            "text/plain": [
              "<Figure size 432x288 with 1 Axes>"
            ]
          },
          "metadata": {
            "tags": []
          }
        }
      ]
    },
    {
      "cell_type": "markdown",
      "metadata": {
        "id": "9u00vEFT-5bv",
        "colab_type": "text"
      },
      "source": [
        "There are 24 hours. They can be treated as categorical values or continuous values. Because there is a natural ordering of the values, we will treat this variable as continuous.\n",
        "\n",
        "\n",
        "\n"
      ]
    },
    {
      "cell_type": "markdown",
      "metadata": {
        "id": "MfoYWhmm-5bx",
        "colab_type": "text"
      },
      "source": [
        "### The device used for the session"
      ]
    },
    {
      "cell_type": "code",
      "metadata": {
        "id": "FljljqwO-5b0",
        "colab_type": "code",
        "outputId": "1bebd17a-7498-4419-ea35-91cbbb4ce142",
        "colab": {
          "base_uri": "https://localhost:8080/",
          "height": 270
        }
      },
      "source": [
        "agent_id = data['agent_id'].value_counts().sort_index()\n",
        "\n",
        "# show plot\n",
        "plt.bar(agent_id.index, agent_id.values)\n",
        "plt.show()"
      ],
      "execution_count": 92,
      "outputs": [
        {
          "output_type": "display_data",
          "data": {
            "image/png": "[encoded data removed]",
            "text/plain": [
              "<Figure size 432x288 with 1 Axes>"
            ]
          },
          "metadata": {
            "tags": []
          }
        }
      ]
    },
    {
      "cell_type": "markdown",
      "metadata": {
        "id": "ElYXihqO-5b5",
        "colab_type": "text"
      },
      "source": [
        "There are 16 devices used for the session. We will treat this variable as categorical."
      ]
    },
    {
      "cell_type": "code",
      "metadata": {
        "id": "U1M1u1XpfVj1",
        "colab_type": "code",
        "outputId": "e14aface-258d-4948-e0f6-116b673636d0",
        "colab": {
          "base_uri": "https://localhost:8080/",
          "height": 221
        }
      },
      "source": [
        "agent_id = data['agent_id'].value_counts().sort_index()\n",
        "agent_id"
      ],
      "execution_count": 93,
      "outputs": [
        {
          "output_type": "execute_result",
          "data": {
            "text/plain": [
              "0       5359\n",
              "1     184228\n",
              "2      57077\n",
              "3        121\n",
              "4        222\n",
              "       ...  \n",
              "11      1986\n",
              "12      3694\n",
              "13     48169\n",
              "14     24743\n",
              "15       100\n",
              "Name: agent_id, Length: 16, dtype: int64"
            ]
          },
          "metadata": {
            "tags": []
          },
          "execution_count": 93
        }
      ]
    },
    {
      "cell_type": "markdown",
      "metadata": {
        "id": "EPsjBNMu-5b6",
        "colab_type": "text"
      },
      "source": [
        "### Entry page"
      ]
    },
    {
      "cell_type": "markdown",
      "metadata": {
        "id": "_br6wpFc-5b7",
        "colab_type": "text"
      },
      "source": [
        "There are 147 entry pages in total. We will keep the most frequent entry pages (min. 2000 records to keep the page)."
      ]
    },
    {
      "cell_type": "code",
      "metadata": {
        "id": "Izg7jpYiYLs4",
        "colab_type": "code",
        "outputId": "1c08d507-95ab-411f-aedc-3dde52541baa",
        "colab": {
          "base_uri": "https://localhost:8080/",
          "height": 221
        }
      },
      "source": [
        "pd.set_option('display.max_rows', 10)\n",
        "data['entry_page'].value_counts()"
      ],
      "execution_count": 94,
      "outputs": [
        {
          "output_type": "execute_result",
          "data": {
            "text/plain": [
              "2113    333163\n",
              "2116    195904\n",
              "2100    178912\n",
              "2111     83687\n",
              "2114     74050\n",
              "         ...  \n",
              "2848         1\n",
              "2172         1\n",
              "2892         1\n",
              "2726         1\n",
              "2380         1\n",
              "Name: entry_page, Length: 147, dtype: int64"
            ]
          },
          "metadata": {
            "tags": []
          },
          "execution_count": 94
        }
      ]
    },
    {
      "cell_type": "code",
      "metadata": {
        "id": "9A24pLA7fsxG",
        "colab_type": "code",
        "outputId": "834cba40-34a3-4ecd-bb66-fcbcb51fb484",
        "colab": {
          "base_uri": "https://localhost:8080/",
          "height": 221
        }
      },
      "source": [
        "entry_page = data['entry_page'].value_counts().sort_index()\n",
        "entry_page "
      ],
      "execution_count": 95,
      "outputs": [
        {
          "output_type": "execute_result",
          "data": {
            "text/plain": [
              "2100    178912\n",
              "2111     83687\n",
              "2113    333163\n",
              "2114     74050\n",
              "2115     16733\n",
              "         ...  \n",
              "8002        20\n",
              "8006         4\n",
              "8010        13\n",
              "8020         8\n",
              "8101       671\n",
              "Name: entry_page, Length: 147, dtype: int64"
            ]
          },
          "metadata": {
            "tags": []
          },
          "execution_count": 95
        }
      ]
    },
    {
      "cell_type": "code",
      "metadata": {
        "id": "Art1Tsrs-5b8",
        "colab_type": "code",
        "outputId": "2e618e8c-8584-4840-be33-a3dd17bb2fbf",
        "colab": {
          "base_uri": "https://localhost:8080/",
          "height": 221
        }
      },
      "source": [
        "entry_page = data['entry_page'].value_counts().sort_index()\n",
        "print(entry_page[entry_page > 2000])"
      ],
      "execution_count": 96,
      "outputs": [
        {
          "output_type": "stream",
          "text": [
            "2100    178912\n",
            "2111     83687\n",
            "2113    333163\n",
            "2114     74050\n",
            "2115     16733\n",
            "         ...  \n",
            "2226      9840\n",
            "2227      3024\n",
            "2316      3332\n",
            "2700     58330\n",
            "8001     16309\n",
            "Name: entry_page, Length: 11, dtype: int64\n"
          ],
          "name": "stdout"
        }
      ]
    },
    {
      "cell_type": "code",
      "metadata": {
        "id": "M8APk35v-5cA",
        "colab_type": "code",
        "outputId": "b6bb4ee3-4f61-4c60-ebf1-f68b5a2edbf1",
        "colab": {
          "base_uri": "https://localhost:8080/",
          "height": 221
        }
      },
      "source": [
        "keep_entry_pages = entry_page[entry_page > 2000].index\n",
        "data.loc[data['entry_page'].isin(keep_entry_pages) == False, 'entry_page'] = -1\n",
        "data['entry_page'].value_counts().sort_index()"
      ],
      "execution_count": 97,
      "outputs": [
        {
          "output_type": "execute_result",
          "data": {
            "text/plain": [
              "-1        15397\n",
              " 2100    178912\n",
              " 2111     83687\n",
              " 2113    333163\n",
              " 2114     74050\n",
              "          ...  \n",
              " 2226      9840\n",
              " 2227      3024\n",
              " 2316      3332\n",
              " 2700     58330\n",
              " 8001     16309\n",
              "Name: entry_page, Length: 12, dtype: int64"
            ]
          },
          "metadata": {
            "tags": []
          },
          "execution_count": 97
        }
      ]
    },
    {
      "cell_type": "markdown",
      "metadata": {
        "id": "bsAwavD0-5cG",
        "colab_type": "text"
      },
      "source": [
        "There are 11 entry pages, which have more than 2000 records, so we will keep them and treat as categories. All the others will belong to category '-1'."
      ]
    },
    {
      "cell_type": "markdown",
      "metadata": {
        "id": "lKAuAPNI-5cH",
        "colab_type": "text"
      },
      "source": [
        "## Locations(path_id_set)"
      ]
    },
    {
      "cell_type": "markdown",
      "metadata": {
        "id": "Y7ORYnBj-5cI",
        "colab_type": "text"
      },
      "source": [
        "We also have the information about all the locations, which were visited during\n",
        "the session. There would be too many categories, if we treated this data as categorical, which we cannot afford and train. But this data can still be useful for us. We can create a new variable, which can count the number of pages visited during the session and named 'n_pages_visited'.\n",
        "\n"
      ]
    },
    {
      "cell_type": "code",
      "metadata": {
        "id": "kJaS-o2T-5cJ",
        "colab_type": "code",
        "colab": {}
      },
      "source": [
        "data.loc[data['path_id_set'].notnull(), 'n_pages_visited'] = \\\n",
        "data.loc[data['path_id_set'].notnull(), 'path_id_set'].apply(lambda x: len(x.split(';')))\n",
        "\n",
        "data.loc[data['path_id_set'].isnull() & (data['session_durantion'] > 0), 'n_pages_visited'] = 1\n",
        "data.loc[data['path_id_set'].isnull() & (data['session_durantion'] == 0), 'n_pages_visited'] = 0"
      ],
      "execution_count": 0,
      "outputs": []
    },
    {
      "cell_type": "markdown",
      "metadata": {
        "colab_type": "text",
        "id": "-tg4sCYAbgKt"
      },
      "source": [
        "## traffic_type"
      ]
    },
    {
      "cell_type": "markdown",
      "metadata": {
        "colab_type": "text",
        "id": "ExsUHBosc0EZ"
      },
      "source": [
        "There are 7 categories in traffic type. We treat this variable as categorical.\n",
        "\n"
      ]
    },
    {
      "cell_type": "code",
      "metadata": {
        "colab_type": "code",
        "outputId": "b2357424-bd5e-4eda-8ac9-d879d63d1aac",
        "id": "jOD3IswTb7Ig",
        "colab": {
          "base_uri": "https://localhost:8080/",
          "height": 268
        }
      },
      "source": [
        "traffic_type = data['traffic_type'].value_counts().sort_index()\n",
        "\n",
        "# show plot\n",
        "plt.bar(traffic_type.index, traffic_type.values)\n",
        "plt.show()"
      ],
      "execution_count": 99,
      "outputs": [
        {
          "output_type": "display_data",
          "data": {
            "image/png": "[encoded data removed]",
            "text/plain": [
              "<Figure size 432x288 with 1 Axes>"
            ]
          },
          "metadata": {
            "tags": []
          }
        }
      ]
    },
    {
      "cell_type": "markdown",
      "metadata": {
        "id": "A3CNxM_c-5cQ",
        "colab_type": "text"
      },
      "source": [
        "# Prepare data for training"
      ]
    },
    {
      "cell_type": "markdown",
      "metadata": {
        "id": "R2ezbWW6-5cR",
        "colab_type": "text"
      },
      "source": [
        "#### We are going to perform several preprocessing steps:\n",
        "\n",
        "1) Remove locations variable ('path_id_set'), because we do not need it anymore.<br>\n",
        "2) Perform <b>one-hot-encoding</b> for categorical variables.<br>\n",
        "3) There are a few extreme values of a target variable ('hits'), which we will replace by 342. Extreme values occur rarely, are difficult to predict and can cause problems while training, so we will focus on predicting casual occations (99.8%).\n",
        "\n"
      ]
    },
    {
      "cell_type": "code",
      "metadata": {
        "id": "XEEtckdJ-5cS",
        "colab_type": "code",
        "colab": {}
      },
      "source": [
        "# remove 'path_id_set'\n",
        "data = data.drop('path_id_set', axis=1)\n",
        "\n",
        "# one-hot-encoding\n",
        "data = pd.get_dummies(data, columns=['locale', 'day_of_week', 'agent_id', 'entry_page', 'traffic_type'], drop_first=True)"
      ],
      "execution_count": 0,
      "outputs": []
    },
    {
      "cell_type": "code",
      "metadata": {
        "id": "H34tjWseWnpy",
        "colab_type": "code",
        "outputId": "dfbd8f28-aa62-4904-b2c1-560762bf3436",
        "colab": {
          "base_uri": "https://localhost:8080/",
          "height": 272
        }
      },
      "source": [
        "hits_x=data[data['hits'].notnull()]['hits']\n",
        "print(\"arr : \",hits_x)  \n",
        "print(\"50th percentile of arr : \",  \n",
        "       np.percentile(hits_x, 50)) \n",
        "print(\"25th percentile of arr : \", \n",
        "       np.percentile(hits_x, 25)) \n",
        "print(\"99.7th percentile of arr : \", \n",
        "       np.percentile(hits_x, 99.7)) "
      ],
      "execution_count": 101,
      "outputs": [
        {
          "output_type": "stream",
          "text": [
            "arr :  1         14.0\n",
            "2         14.0\n",
            "3          1.0\n",
            "4          3.0\n",
            "5          2.0\n",
            "          ... \n",
            "988671     3.0\n",
            "988672    69.0\n",
            "988674    37.0\n",
            "988675     2.0\n",
            "988680    18.0\n",
            "Name: hits, Length: 619235, dtype: float64\n",
            "50th percentile of arr :  7.0\n",
            "25th percentile of arr :  3.0\n",
            "99.7th percentile of arr :  284.0\n"
          ],
          "name": "stdout"
        }
      ]
    },
    {
      "cell_type": "code",
      "metadata": {
        "id": "J75TYHu7-5cY",
        "colab_type": "code",
        "outputId": "620955d8-1c9f-4480-9a7e-ee2bd9c636c8",
        "colab": {
          "base_uri": "https://localhost:8080/",
          "height": 270
        }
      },
      "source": [
        "hits_x.hist(bins=80)\n",
        "plt.show()"
      ],
      "execution_count": 102,
      "outputs": [
        {
          "output_type": "display_data",
          "data": {
            "image/png": "[encoded data removed]",
            "text/plain": [
              "<Figure size 432x288 with 1 Axes>"
            ]
          },
          "metadata": {
            "tags": []
          }
        }
      ]
    },
    {
      "cell_type": "code",
      "metadata": {
        "id": "2oqPYDWS-5ch",
        "colab_type": "code",
        "outputId": "be3111e5-6a4b-47a4-a100-5a251d41ff1f",
        "colab": {
          "base_uri": "https://localhost:8080/",
          "height": 34
        }
      },
      "source": [
        "# to avoid bias we will replace extreme values\n",
        "n_replaced = (data['hits'] > 284).sum()\n",
        "print(f'{n_replaced}/{len(data)} will be replaced')"
      ],
      "execution_count": 103,
      "outputs": [
        {
          "output_type": "stream",
          "text": [
            "1856/988681 will be replaced\n"
          ],
          "name": "stdout"
        }
      ]
    },
    {
      "cell_type": "code",
      "metadata": {
        "id": "BdZlX0ac-5cm",
        "colab_type": "code",
        "colab": {}
      },
      "source": [
        "data.loc[data['hits'] > 284, 'hits'] = 284"
      ],
      "execution_count": 0,
      "outputs": []
    },
    {
      "cell_type": "code",
      "metadata": {
        "id": "rN7cSAri-5cq",
        "colab_type": "code",
        "colab": {}
      },
      "source": [
        "train = data[data['hits'].notnull()]\n",
        "pred = data[data['hits'].isnull()]"
      ],
      "execution_count": 0,
      "outputs": []
    },
    {
      "cell_type": "code",
      "metadata": {
        "id": "l8oqjvTL-5cv",
        "colab_type": "code",
        "colab": {}
      },
      "source": [
        "train_X = train.drop(['row_num', 'hits'], axis=1)\n",
        "train_y = train['hits']\n",
        "\n",
        "pred_X = pred.drop(['row_num', 'hits'], axis=1)\n",
        "pred_row_num = pred['row_num']"
      ],
      "execution_count": 0,
      "outputs": []
    },
    {
      "cell_type": "code",
      "metadata": {
        "id": "F86J4thd-5c2",
        "colab_type": "code",
        "outputId": "a1e1de09-4971-47f3-be84-19cd639942d1",
        "colab": {
          "base_uri": "https://localhost:8080/",
          "height": 268
        }
      },
      "source": [
        "train_y.hist(bins=80)\n",
        "plt.show()"
      ],
      "execution_count": 107,
      "outputs": [
        {
          "output_type": "display_data",
          "data": {
            "image/png": "[encoded data removed]",
            "text/plain": [
              "<Figure size 432x288 with 1 Axes>"
            ]
          },
          "metadata": {
            "tags": []
          }
        }
      ]
    },
    {
      "cell_type": "code",
      "metadata": {
        "id": "BlE2iad5-5c6",
        "colab_type": "code",
        "colab": {}
      },
      "source": [
        "X_train, X_test, y_train, y_test = train_test_split(train_X, train_y, test_size=0.25, random_state=7)"
      ],
      "execution_count": 0,
      "outputs": []
    },
    {
      "cell_type": "markdown",
      "metadata": {
        "id": "Tw5D5xcZ-5dA",
        "colab_type": "text"
      },
      "source": [
        "# Modelling"
      ]
    },
    {
      "cell_type": "markdown",
      "metadata": {
        "id": "VGQDzgpB-5dB",
        "colab_type": "text"
      },
      "source": [
        "#### We are going to test 3 different models:\n",
        "* Random Forest Regressor\n",
        "* Linear Regression\n",
        "* Multilayer Perceptron(MLP)\n",
        "\n",
        "\n",
        "#### We split the data we have into several parts:\n",
        "\n",
        "1) Data for prediction - data which have missing values in 'hits' column will be used for prediction<br>\n",
        "2) Training-validating part:75%-of the randomly selected data, which have non-missing values in ‘hits’ columns, will be used for training using Cross-validation technique<br>\n",
        "3) Testing part 25% of the randomly selected data, which have non-missing values in ‘hits’ columns, will be used for testing the models<br>\n",
        "4) 5-Fold Cross Validation is also used to test and validate the model. <br>\n",
        "\n",
        "#### Objective function\n",
        "\n",
        "To find the best set of parameters and the best model we will use mean squared error.<br>\n",
        "\n",
        "\n",
        "#### Error histogram\n",
        "We will also evaluate our models visually using error histogram. Error histogram shows how much the predicted values deviate from the real values."
      ]
    },
    {
      "cell_type": "markdown",
      "metadata": {
        "id": "khZ8e1UD-5dC",
        "colab_type": "text"
      },
      "source": [
        "## Random Forest Regressor"
      ]
    },
    {
      "cell_type": "code",
      "metadata": {
        "id": "_tUh9JGN-5dE",
        "colab_type": "code",
        "outputId": "676b7065-a55f-4d81-d909-ffc626afdee9",
        "colab": {
          "base_uri": "https://localhost:8080/",
          "height": 404
        }
      },
      "source": [
        "parameters = {'n_estimators':[15, 20, 25],\n",
        "              'max_depth': [5, 10, 15],\n",
        "              'max_features': [0.4, 0.5, 0.6]}\n",
        "\n",
        "model_rf = GridSearchCV(RandomForestRegressor(), \n",
        "                        parameters, \n",
        "                        cv=5, \n",
        "                        verbose=True,\n",
        "                        scoring='neg_mean_squared_error',\n",
        "                        n_jobs=3)\n",
        "model_rf.fit(X_train, y_train)\n",
        "\n",
        "best_model_rf = model_rf.best_estimator_\n",
        "preds_rf = best_model_rf.predict(X_test)\n",
        "test_mse_rf = mean_squared_error(preds_rf, y_test)\n",
        "\n",
        "print(f'Best params: {model_rf.best_params_}\\n'\n",
        "      f'Best score: {model_rf.best_score_}\\n'\n",
        "      f'Test mse: {test_mse_rf}')\n",
        "\n",
        "print(' === ERROR HISTOGRAM ===')\n",
        "difs_rf = abs(preds_rf - y_test)\n",
        "plt.hist(difs_rf[difs_rf < 50], bins=100)\n",
        "plt.show()"
      ],
      "execution_count": 109,
      "outputs": [
        {
          "output_type": "stream",
          "text": [
            "Fitting 5 folds for each of 27 candidates, totalling 135 fits\n"
          ],
          "name": "stdout"
        },
        {
          "output_type": "stream",
          "text": [
            "[Parallel(n_jobs=3)]: Using backend LokyBackend with 3 concurrent workers.\n",
            "[Parallel(n_jobs=3)]: Done  44 tasks      | elapsed:  5.7min\n",
            "[Parallel(n_jobs=3)]: Done 135 out of 135 | elapsed: 31.7min finished\n"
          ],
          "name": "stderr"
        },
        {
          "output_type": "stream",
          "text": [
            "Best params: {'max_depth': 10, 'max_features': 0.5, 'n_estimators': 25}\n",
            "Best score: -525.4141649426045\n",
            "Test mse: 516.882159087373\n",
            " === ERROR HISTOGRAM ===\n"
          ],
          "name": "stdout"
        },
        {
          "output_type": "display_data",
          "data": {
            "image/png": "[encoded data removed]",
            "text/plain": [
              "<Figure size 432x288 with 1 Axes>"
            ]
          },
          "metadata": {
            "tags": []
          }
        }
      ]
    },
    {
      "cell_type": "markdown",
      "metadata": {
        "id": "GvedlU8h-5dJ",
        "colab_type": "text"
      },
      "source": [
        "## Linear Regression"
      ]
    },
    {
      "cell_type": "code",
      "metadata": {
        "id": "TURnCbVh-5dK",
        "colab_type": "code",
        "outputId": "3bd77dab-94a9-4fd2-bf14-e992497c2059",
        "colab": {
          "base_uri": "https://localhost:8080/",
          "height": 387
        }
      },
      "source": [
        "parameters = {}\n",
        "\n",
        "model_lr = GridSearchCV(LinearRegression(), \n",
        "                        parameters, \n",
        "                        cv=5,\n",
        "                        verbose=True, \n",
        "                        scoring='neg_mean_squared_error', \n",
        "                        n_jobs=3)\n",
        "model_lr.fit(X_train, y_train)\n",
        "\n",
        "best_model_lr = model_lr.best_estimator_\n",
        "preds_lr = best_model_lr.predict(X_test)\n",
        "test_mse_lr = mean_squared_error(preds_lr, y_test)\n",
        "\n",
        "print(f'Best params: {model_lr.best_params_}\\n'\n",
        "      f'Best score: {model_lr.best_score_}\\n'\n",
        "      f'Test mse: {test_mse_lr}')\n",
        "\n",
        "print(' === ERROR HISTOGRAM ===')\n",
        "difs_lr = abs(preds_lr - y_test)\n",
        "plt.hist(difs_lr[difs_lr < 50], bins=100)\n",
        "plt.show()"
      ],
      "execution_count": 110,
      "outputs": [
        {
          "output_type": "stream",
          "text": [
            "Fitting 5 folds for each of 1 candidates, totalling 5 fits\n"
          ],
          "name": "stdout"
        },
        {
          "output_type": "stream",
          "text": [
            "[Parallel(n_jobs=3)]: Using backend LokyBackend with 3 concurrent workers.\n",
            "[Parallel(n_jobs=3)]: Done   5 out of   5 | elapsed:    9.1s finished\n"
          ],
          "name": "stderr"
        },
        {
          "output_type": "stream",
          "text": [
            "Best params: {}\n",
            "Best score: -669.3964613392106\n",
            "Test mse: 644.051127548636\n",
            " === ERROR HISTOGRAM ===\n"
          ],
          "name": "stdout"
        },
        {
          "output_type": "display_data",
          "data": {
            "image/png": "[encoded data removed]",
            "text/plain": [
              "<Figure size 432x288 with 1 Axes>"
            ]
          },
          "metadata": {
            "tags": []
          }
        }
      ]
    },
    {
      "cell_type": "markdown",
      "metadata": {
        "id": "ZrUaqpz7-5dQ",
        "colab_type": "text"
      },
      "source": [
        "## MLP"
      ]
    },
    {
      "cell_type": "code",
      "metadata": {
        "id": "05lNwAF8-5dT",
        "colab_type": "code",
        "outputId": "64d9fd94-9acb-4e7e-8572-da24c8a9157e",
        "colab": {
          "base_uri": "https://localhost:8080/",
          "height": 387
        }
      },
      "source": [
        "parameters = {'hidden_layer_sizes': [(5), (10), (5, 10), (10, 5), (10, 10)],\n",
        "              'activation': ['relu']}\n",
        "\n",
        "model_mlp = GridSearchCV(MLPRegressor(), \n",
        "                         parameters, \n",
        "                         cv=5, \n",
        "                         verbose=True, \n",
        "                         scoring='neg_mean_squared_error',\n",
        "                         n_jobs=3)\n",
        "model_mlp.fit(X_train, y_train)\n",
        "\n",
        "best_model_mlp = model_mlp.best_estimator_\n",
        "preds_mlp = best_model_mlp.predict(X_test)\n",
        "test_mse_mlp = mean_squared_error(preds_mlp, y_test)\n",
        "\n",
        "print(f'Best params: {model_mlp.best_params_}\\n'\n",
        "      f'Best score: {model_mlp.best_score_}\\n'\n",
        "      f'Test mse: {test_mse_mlp}')\n",
        "\n",
        "print(' === ERROR HISTOGRAM ===')\n",
        "difs_mlp = abs(preds_mlp - y_test)\n",
        "plt.hist(difs_mlp[difs_mlp < 50], bins=100)\n",
        "plt.show()"
      ],
      "execution_count": 111,
      "outputs": [
        {
          "output_type": "stream",
          "text": [
            "Fitting 5 folds for each of 5 candidates, totalling 25 fits\n"
          ],
          "name": "stdout"
        },
        {
          "output_type": "stream",
          "text": [
            "[Parallel(n_jobs=3)]: Using backend LokyBackend with 3 concurrent workers.\n",
            "[Parallel(n_jobs=3)]: Done  25 out of  25 | elapsed: 33.3min finished\n"
          ],
          "name": "stderr"
        },
        {
          "output_type": "stream",
          "text": [
            "Best params: {'activation': 'relu', 'hidden_layer_sizes': (5, 10)}\n",
            "Best score: -537.6848453230297\n",
            "Test mse: 522.3476855943866\n",
            " === ERROR HISTOGRAM ===\n"
          ],
          "name": "stdout"
        },
        {
          "output_type": "display_data",
          "data": {
            "image/png": "[encoded data removed]",
            "text/plain": [
              "<Figure size 432x288 with 1 Axes>"
            ]
          },
          "metadata": {
            "tags": []
          }
        }
      ]
    },
    {
      "cell_type": "markdown",
      "metadata": {
        "id": "Quy045xg-5dZ",
        "colab_type": "text"
      },
      "source": [
        "# Results"
      ]
    },
    {
      "cell_type": "markdown",
      "metadata": {
        "id": "EDK8L3vS-5da",
        "colab_type": "text"
      },
      "source": [
        "The performance on the test set among the 3 trained models is the following:<br>\n",
        "* Random Forest Regressor: mse=516,88\n",
        "* Linear Regression: mse=644,05\n",
        "* MLP: mse=522,34\n",
        "\n",
        "Random Forest Regressor has shown the best performance during cross validation and testing, so we will choose it as our final model for predictions."
      ]
    },
    {
      "cell_type": "markdown",
      "metadata": {
        "id": "q6AXa1Al-5db",
        "colab_type": "text"
      },
      "source": [
        "# Prediction"
      ]
    },
    {
      "cell_type": "code",
      "metadata": {
        "id": "JEPdqEIzsZ1q",
        "colab_type": "code",
        "colab": {
          "base_uri": "https://localhost:8080/",
          "height": 34
        },
        "outputId": "47d9fa4f-31ef-43e6-c3dd-bc63cf265c08"
      },
      "source": [
        "predictions = best_model_rf.predict(pred_X).astype(np.int)\n",
        "predictions"
      ],
      "execution_count": 115,
      "outputs": [
        {
          "output_type": "execute_result",
          "data": {
            "text/plain": [
              "array([36, 63,  3, ..., 13,  9, 16])"
            ]
          },
          "metadata": {
            "tags": []
          },
          "execution_count": 115
        }
      ]
    },
    {
      "cell_type": "code",
      "metadata": {
        "id": "fCOUkuMf-5db",
        "colab_type": "code",
        "colab": {}
      },
      "source": [
        "predictions = best_model_rf.predict(pred_X).astype(np.int)\n",
        "predictions_df = pd.DataFrame({'id': pred_row_num, 'hits_prediction': predictions})\n",
        "predictions_df.to_csv('predictions.csv', index=False, sep=';')"
      ],
      "execution_count": 0,
      "outputs": []
    }
  ]
}